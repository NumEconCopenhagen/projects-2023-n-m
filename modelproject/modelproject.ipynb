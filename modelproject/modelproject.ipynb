{
 "cells": [
  {
   "attachments": {},
   "cell_type": "markdown",
   "metadata": {},
   "source": [
    "# The Solow Model"
   ]
  },
  {
   "cell_type": "markdown",
   "metadata": {},
   "source": [
    "Imports and set magics:"
   ]
  },
  {
   "cell_type": "code",
   "execution_count": 93,
   "metadata": {},
   "outputs": [
    {
     "name": "stdout",
     "output_type": "stream",
     "text": [
      "The autoreload extension is already loaded. To reload it, use:\n",
      "  %reload_ext autoreload\n"
     ]
    }
   ],
   "source": [
    "import numpy as np\n",
    "from scipy import optimize\n",
    "import sympy as sm\n",
    "from sympy.solvers import solve\n",
    "from sympy import *\n",
    "sm.init_printing()\n",
    "import matplotlib.pyplot as plt\n",
    "from IPython.display import display, Math, Markdown\n",
    "\n",
    "# autoreload modules when code is run\n",
    "%load_ext autoreload\n",
    "%autoreload 2\n",
    "\n",
    "# local modules\n",
    "import modelproject"
   ]
  },
  {
   "cell_type": "markdown",
   "metadata": {},
   "source": [
    "# Model description"
   ]
  },
  {
   "attachments": {},
   "cell_type": "markdown",
   "metadata": {},
   "source": [
    "**Solow model** \n",
    "\n",
    "Production function:\n",
    "$$\n",
    "Y_t = K_t^αH_t^σ(A_tL_t)^{(1-α-σ)}\n",
    "$$\n",
    "\n",
    "Y is output, K is physical capital, L is labor, H is human capital and A is technology. α and σ are the output elasticities of physical capital and human capital, respectively, and (1-α-σ) is the output elasticity of labor. \n",
    "Savings are divided in physical capital savings and human capital savings. They are defined as a constant fraction of the income. \n",
    "$$\n",
    "S_t=(s_K+s_H)Y_t\n",
    "$$\n",
    "\n",
    "The accumulation of physical capital over time is defined as:\n",
    "$$\n",
    "K_{t+1} = s_KY_t + (1-δ)K_t\n",
    "$$\n",
    "where δ is the depreciation rate of capital, and $K_{t+1}$ and $K_t$ are the levels of physical capital in periods t+1 and t, respectively.\n",
    "\n",
    "The accumulation of human capital over time is defined as:\n",
    "$$\n",
    "H_{t+1} = s_HY_t +(1-δ)H_t\n",
    "$$\n",
    "where δ is the depreciation rate of capital and $H_{t+1}$ and $H_t$ are the levels of human capital in periods t+1 and t, respectively.\n",
    "\n",
    "Finally, the level of technology and labor are defined as:\n",
    "$$\n",
    "A_{t+1} = (1+g)A_t\n",
    "$$\n",
    "$$\n",
    "L_{t+1} = (1+n)L_t\n",
    "$$\n",
    "where g is the rate of technological progress and n is the population growth. \n"
   ]
  },
  {
   "cell_type": "markdown",
   "metadata": {},
   "source": [
    "## Analytical solution"
   ]
  },
  {
   "attachments": {},
   "cell_type": "markdown",
   "metadata": {},
   "source": [
    "We begin by trying to solve the general Solow model analytically, and will expand with human capital later in the project. "
   ]
  },
  {
   "cell_type": "code",
   "execution_count": 94,
   "metadata": {},
   "outputs": [
    {
     "name": "stdout",
     "output_type": "stream",
     "text": [
      "(0, 0)\n"
     ]
    }
   ],
   "source": [
    "# Define the variables and parameters\n",
    "k, L, s, delta, alpha, n, g = sm.symbols('k L s delta alpha n g')\n",
    "\n",
    "# Define the production function\n",
    "Y = k**alpha * L**(1-alpha)\n",
    "\n",
    "# Define the savings and accumulation equations\n",
    "S = s*Y\n",
    "K_next = S + (1-delta)*k\n",
    "\n",
    "# Define the labor accumulation equation\n",
    "L_next = (1+n)*L\n",
    "\n",
    "# Define the system of equations and solve for the steady state values\n",
    "system = [Y - delta*k - K_next,\n",
    "          S - K_next,\n",
    "          L_next - L]\n",
    "\n",
    "ss_sol = sm.solve(system, [k, L])\n",
    "\n",
    "# Define the steady state function\n",
    "k_ss = sm.lambdify((s, delta, alpha, n, g), ss_sol[0])\n",
    "\n",
    "# Test the function with example parameters\n",
    "params = (0.6, 0.05, 0.3, 0.01, 0.025)\n",
    "print(k_ss(*params))"
   ]
  },
  {
   "attachments": {},
   "cell_type": "markdown",
   "metadata": {},
   "source": [
    "Simpy solve on the Solow model was unsuccessful. This is because in the Solow model, the steady state values of k, L, and A are normally found by solving a system of nonlinear equations numerically, rather than analytically."
   ]
  },
  {
   "cell_type": "markdown",
   "metadata": {},
   "source": [
    "## Numerical solution"
   ]
  },
  {
   "attachments": {},
   "cell_type": "markdown",
   "metadata": {},
   "source": [
    "We begin solving the general Solow model numerically. "
   ]
  },
  {
   "cell_type": "code",
   "execution_count": 95,
   "metadata": {},
   "outputs": [
    {
     "name": "stdout",
     "output_type": "stream",
     "text": [
      "Steady state value of k: 0.14055033313946663\n"
     ]
    }
   ],
   "source": [
    "from scipy.optimize import root\n",
    "\n",
    "# Define the parameters\n",
    "s = 0.2\n",
    "delta = 0.05\n",
    "alpha = 0.3\n",
    "n = 0.01\n",
    "g = 0.02\n",
    "params = (s, delta, alpha, n, g)\n",
    "\n",
    "# Define the production function\n",
    "def production_function(k, alpha):\n",
    "    return k**alpha\n",
    "\n",
    "# Define the capital accumulation equation\n",
    "def capital_accumulation(k, s, alpha, delta, n, g):\n",
    "    return s * production_function(k, alpha) - delta * k - n * k + g * k\n",
    "\n",
    "# Define the steady state function\n",
    "def steady_state(k, s, alpha, delta, n, g):\n",
    "    return capital_accumulation(k, s, alpha, delta, n, g) - k\n",
    "\n",
    "# Solve for the steady state numerically\n",
    "result = root(steady_state, 1, args=params)\n",
    "k_ss = result.x[0]\n",
    "print(\"Steady state value of k:\", k_ss)\n"
   ]
  },
  {
   "attachments": {},
   "cell_type": "markdown",
   "metadata": {},
   "source": [
    "The steady state value of k is 0.14055033313946663. This means that in the long run, the economy will tend towards having a capital stock of approximately 0.1405 units per unit of labor. However this is at k0, and we wish to check for convergence at $k^*$.\n",
    "\n",
    "Therefore we wish to check if the model converges for all starting values. We test for convergence by trying different starting values for capital and seeing if they all converge to the same steady state."
   ]
  },
  {
   "cell_type": "code",
   "execution_count": 96,
   "metadata": {},
   "outputs": [
    {
     "name": "stdout",
     "output_type": "stream",
     "text": [
      "Starting value of k: 0.01 Steady state value of k: 0.01\n",
      "Starting value of k: 0.1109090909090909 Steady state value of k: 0.1109090909090909\n",
      "Starting value of k: 0.21181818181818182 Steady state value of k: 0.21181818181818182\n",
      "Starting value of k: 0.31272727272727274 Steady state value of k: 0.31272727272727274\n",
      "Starting value of k: 0.41363636363636364 Steady state value of k: 0.41363636363636364\n",
      "Starting value of k: 0.5145454545454545 Steady state value of k: 0.5145454545454545\n",
      "Starting value of k: 0.6154545454545455 Steady state value of k: 0.6154545454545455\n",
      "Starting value of k: 0.7163636363636363 Steady state value of k: 0.7163636363636363\n",
      "Starting value of k: 0.8172727272727273 Steady state value of k: 0.8172727272727273\n",
      "Starting value of k: 0.9181818181818182 Steady state value of k: 0.9181818181818182\n",
      "Starting value of k: 1.019090909090909 Steady state value of k: 1.019090909090909\n",
      "Starting value of k: 1.1199999999999999 Steady state value of k: 1.1199999999999999\n",
      "Starting value of k: 1.220909090909091 Steady state value of k: 6.60761405337131\n",
      "Starting value of k: 1.3218181818181818 Steady state value of k: 6.60761405337131\n",
      "Starting value of k: 1.4227272727272726 Steady state value of k: 6.607614053371309\n",
      "Starting value of k: 1.5236363636363637 Steady state value of k: 6.607614053371309\n",
      "Starting value of k: 1.6245454545454545 Steady state value of k: 6.607614053371276\n",
      "Starting value of k: 1.7254545454545454 Steady state value of k: 6.607614053371305\n",
      "Starting value of k: 1.8263636363636364 Steady state value of k: 6.607614053371308\n",
      "Starting value of k: 1.9272727272727272 Steady state value of k: 6.607614053371308\n",
      "Starting value of k: 2.028181818181818 Steady state value of k: 6.60761405337131\n",
      "Starting value of k: 2.129090909090909 Steady state value of k: 6.607614053371311\n",
      "Starting value of k: 2.2299999999999995 Steady state value of k: 6.607614053371311\n",
      "Starting value of k: 2.3309090909090906 Steady state value of k: 6.607614053371183\n",
      "Starting value of k: 2.4318181818181817 Steady state value of k: 6.607614053371269\n",
      "Starting value of k: 2.5327272727272723 Steady state value of k: 6.607614053371296\n",
      "Starting value of k: 2.6336363636363633 Steady state value of k: 6.607614053371304\n",
      "Starting value of k: 2.7345454545454544 Steady state value of k: 6.607614053371308\n",
      "Starting value of k: 2.835454545454545 Steady state value of k: 6.607614053371308\n",
      "Starting value of k: 2.936363636363636 Steady state value of k: 6.60761405337131\n",
      "Starting value of k: 3.037272727272727 Steady state value of k: 6.607614053371311\n",
      "Starting value of k: 3.1381818181818177 Steady state value of k: 6.607614053371308\n",
      "Starting value of k: 3.239090909090909 Steady state value of k: 6.607614053371309\n",
      "Starting value of k: 3.34 Steady state value of k: 6.60761405337131\n",
      "Starting value of k: 3.4409090909090905 Steady state value of k: 6.607614053371308\n",
      "Starting value of k: 3.5418181818181815 Steady state value of k: 6.607614053371309\n",
      "Starting value of k: 3.6427272727272726 Steady state value of k: 6.607614053371311\n",
      "Starting value of k: 3.743636363636363 Steady state value of k: 6.607614053371309\n",
      "Starting value of k: 3.8445454545454543 Steady state value of k: 6.607614053371311\n",
      "Starting value of k: 3.9454545454545453 Steady state value of k: 6.607614053371309\n",
      "Starting value of k: 4.046363636363636 Steady state value of k: 6.607614053371308\n",
      "Starting value of k: 4.1472727272727266 Steady state value of k: 6.60761405337131\n",
      "Starting value of k: 4.248181818181818 Steady state value of k: 6.60761405337123\n",
      "Starting value of k: 4.349090909090909 Steady state value of k: 6.607614053371273\n",
      "Starting value of k: 4.449999999999999 Steady state value of k: 6.607614053371294\n",
      "Starting value of k: 4.550909090909091 Steady state value of k: 6.607614053371302\n",
      "Starting value of k: 4.651818181818181 Steady state value of k: 6.6076140533713055\n",
      "Starting value of k: 4.752727272727272 Steady state value of k: 6.607614053371308\n",
      "Starting value of k: 4.8536363636363635 Steady state value of k: 6.607614053371311\n",
      "Starting value of k: 4.954545454545454 Steady state value of k: 6.607614053371309\n",
      "Starting value of k: 5.055454545454545 Steady state value of k: 6.607614053371311\n",
      "Starting value of k: 5.156363636363636 Steady state value of k: 6.60761405337131\n",
      "Starting value of k: 5.257272727272727 Steady state value of k: 6.607614053371312\n",
      "Starting value of k: 5.3581818181818175 Steady state value of k: 6.60761405337131\n",
      "Starting value of k: 5.459090909090909 Steady state value of k: 6.607614053371311\n",
      "Starting value of k: 5.56 Steady state value of k: 6.607614053371309\n",
      "Starting value of k: 5.66090909090909 Steady state value of k: 6.607614053371308\n",
      "Starting value of k: 5.761818181818182 Steady state value of k: 6.607614053371308\n",
      "Starting value of k: 5.862727272727272 Steady state value of k: 6.60761405337131\n",
      "Starting value of k: 5.963636363636363 Steady state value of k: 6.607614053371475\n",
      "Starting value of k: 6.0645454545454545 Steady state value of k: 6.607614053371347\n",
      "Starting value of k: 6.165454545454545 Steady state value of k: 6.607614053371314\n",
      "Starting value of k: 6.266363636363636 Steady state value of k: 6.60761405337131\n",
      "Starting value of k: 6.367272727272727 Steady state value of k: 6.607614053371308\n",
      "Starting value of k: 6.468181818181818 Steady state value of k: 6.607614053371308\n",
      "Starting value of k: 6.569090909090908 Steady state value of k: 6.607614053371286\n",
      "Starting value of k: 6.67 Steady state value of k: 6.607614053371309\n",
      "Starting value of k: 6.7709090909090905 Steady state value of k: 6.607614053371309\n",
      "Starting value of k: 6.871818181818181 Steady state value of k: 6.60761405337131\n",
      "Starting value of k: 6.972727272727273 Steady state value of k: 6.607614053371311\n",
      "Starting value of k: 7.073636363636363 Steady state value of k: 6.607614053371314\n",
      "Starting value of k: 7.174545454545454 Steady state value of k: 6.607614053371329\n",
      "Starting value of k: 7.275454545454545 Steady state value of k: 6.607614053371381\n",
      "Starting value of k: 7.376363636363636 Steady state value of k: 6.607614053371513\n",
      "Starting value of k: 7.477272727272727 Steady state value of k: 6.607614053371308\n",
      "Starting value of k: 7.578181818181818 Steady state value of k: 6.607614053371311\n",
      "Starting value of k: 7.679090909090909 Steady state value of k: 6.60761405337131\n",
      "Starting value of k: 7.779999999999999 Steady state value of k: 6.607614053371309\n",
      "Starting value of k: 7.880909090909091 Steady state value of k: 6.607614053371309\n",
      "Starting value of k: 7.9818181818181815 Steady state value of k: 6.60761405337131\n",
      "Starting value of k: 8.082727272727272 Steady state value of k: 6.607614053371309\n",
      "Starting value of k: 8.183636363636364 Steady state value of k: 6.607614053371311\n",
      "Starting value of k: 8.284545454545453 Steady state value of k: 6.607614053371309\n",
      "Starting value of k: 8.385454545454545 Steady state value of k: 6.607614053371309\n",
      "Starting value of k: 8.486363636363636 Steady state value of k: 6.607614053371309\n",
      "Starting value of k: 8.587272727272726 Steady state value of k: 6.607614053371309\n",
      "Starting value of k: 8.688181818181818 Steady state value of k: 6.607614053371309\n",
      "Starting value of k: 8.789090909090909 Steady state value of k: 6.60761405337131\n",
      "Starting value of k: 8.889999999999999 Steady state value of k: 6.607614053371308\n",
      "Starting value of k: 8.99090909090909 Steady state value of k: 6.607614053371309\n",
      "Starting value of k: 9.091818181818182 Steady state value of k: 6.607614053371308\n",
      "Starting value of k: 9.192727272727272 Steady state value of k: 6.60761405337131\n",
      "Starting value of k: 9.293636363636363 Steady state value of k: 6.607614053371309\n",
      "Starting value of k: 9.394545454545455 Steady state value of k: 6.607614053371309\n",
      "Starting value of k: 9.495454545454544 Steady state value of k: 6.60761405337131\n",
      "Starting value of k: 9.596363636363636 Steady state value of k: 6.607614053371311\n",
      "Starting value of k: 9.697272727272727 Steady state value of k: 6.60761405337131\n",
      "Starting value of k: 9.798181818181817 Steady state value of k: 6.607614053371311\n",
      "Starting value of k: 9.899090909090908 Steady state value of k: 6.607614053371311\n",
      "Starting value of k: 10.0 Steady state value of k: 6.6076140533713135\n"
     ]
    },
    {
     "name": "stderr",
     "output_type": "stream",
     "text": [
      "/var/folders/9j/v95rb3md0v72jhphm0mh6thr0000gn/T/ipykernel_19861/2045097417.py:3: RuntimeWarning: invalid value encountered in power\n",
      "  return s*k**alpha - (delta+n+g)*k\n"
     ]
    }
   ],
   "source": [
    "# Define the steady state function\n",
    "def steady_state(k, s, delta, alpha, n, g):\n",
    "    return s*k**alpha - (delta+n+g)*k\n",
    "\n",
    "# Define the parameters\n",
    "s = 0.2\n",
    "delta = 0.05\n",
    "alpha = 0.3\n",
    "n = 0.01\n",
    "g = 0.02\n",
    "\n",
    "# Try different starting values for k\n",
    "ks = np.linspace(1, 10, 100)\n",
    "for k0 in ks:\n",
    "    result = root(steady_state, k0, args=(s, delta, alpha, n, g))\n",
    "    k_ss = result.x[0]\n",
    "    print(\"Starting value of k:\", k0, \"Steady state value of k:\", k_ss)"
   ]
  },
  {
   "attachments": {},
   "cell_type": "markdown",
   "metadata": {},
   "source": [
    "Here we see that the model converges towards the steady state value 6.607614053371311. "
   ]
  },
  {
   "cell_type": "code",
   "execution_count": 97,
   "metadata": {},
   "outputs": [
    {
     "name": "stderr",
     "output_type": "stream",
     "text": [
      "/var/folders/9j/v95rb3md0v72jhphm0mh6thr0000gn/T/ipykernel_19861/2364060277.py:3: RuntimeWarning: invalid value encountered in power\n",
      "  return ((s * k**alpha) + ((1 - delta) * k)) / (1 + n + g)\n"
     ]
    },
    {
     "data": {
      "image/png": "[encoded data removed]",
      "text/plain": [
       "<Figure size 640x480 with 1 Axes>"
      ]
     },
     "metadata": {},
     "output_type": "display_data"
    }
   ],
   "source": [
    "\n",
    "# Define the Solow model function\n",
    "def solow_model(k, s, delta, alpha, n, g):\n",
    "    return ((s * k**alpha) + ((1 - delta) * k)) / (1 + n + g)\n",
    "\n",
    "# Define the function to find the steady-state solution\n",
    "def steady_state(k, s, delta, alpha, n, g):\n",
    "    return solow_model(k, s, delta, alpha, n, g) - k\n",
    "\n",
    "# Define the parameters\n",
    "delta = 0.05\n",
    "alpha = 0.3\n",
    "n = 0.01\n",
    "g = 0.02\n",
    "\n",
    "# Create an array of savings rates to test\n",
    "savings_rates = np.linspace(0, 0.5, 100)\n",
    "\n",
    "# Create an empty array to store the steady-state solutions\n",
    "steady_state_values = np.empty_like(savings_rates)\n",
    "\n",
    "# Find the steady-state solution for each savings rate\n",
    "for i, s in enumerate(savings_rates):\n",
    "    result = root(steady_state, 1, args=(s, delta, alpha, n, g))\n",
    "    steady_state_values[i] = result.x[0]\n",
    "\n",
    "# Create the graph\n",
    "plt.plot(savings_rates, steady_state_values)\n",
    "plt.xlabel('Savings rate')\n",
    "plt.ylabel('Steady-state capital per worker')\n",
    "plt.title('Solow model')\n",
    "plt.show()"
   ]
  },
  {
   "cell_type": "markdown",
   "metadata": {},
   "source": [
    "You can always solve a model numerically. \n",
    "\n",
    "Define first the set of parameters you need. \n",
    "\n",
    "Then choose one of the optimization algorithms that we have gone through in the lectures based on what you think is most fitting for your model.\n",
    "\n",
    "Are there any problems with convergence? Does the model converge for all starting values? Make a lot of testing to figure these things out. "
   ]
  },
  {
   "cell_type": "markdown",
   "metadata": {},
   "source": [
    "# Further analysis"
   ]
  },
  {
   "cell_type": "markdown",
   "metadata": {},
   "source": [
    "Make detailed vizualizations of how your model changes with parameter values. \n",
    "\n",
    "Try to make an extension of the model. "
   ]
  },
  {
   "cell_type": "markdown",
   "metadata": {},
   "source": [
    "# Conclusion"
   ]
  },
  {
   "cell_type": "markdown",
   "metadata": {},
   "source": [
    "Add concise conclusion. "
   ]
  }
 ],
 "metadata": {
  "kernelspec": {
   "display_name": "base",
   "language": "python",
   "name": "python3"
  },
  "language_info": {
   "codemirror_mode": {
    "name": "ipython",
    "version": 3
   },
   "file_extension": ".py",
   "mimetype": "text/x-python",
   "name": "python",
   "nbconvert_exporter": "python",
   "pygments_lexer": "ipython3",
   "version": "3.9.13"
  },
  "toc-autonumbering": true,
  "vscode": {
   "interpreter": {
    "hash": "f3b51e819bc11dd36f9785fabc699cfbf6a066dcb80d697c76b1569915f425ca"
   }
  }
 },
 "nbformat": 4,
 "nbformat_minor": 4
}
