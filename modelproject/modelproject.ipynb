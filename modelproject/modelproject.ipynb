{
 "cells": [
  {
   "attachments": {},
   "cell_type": "markdown",
   "metadata": {},
   "source": [
    "# The Solow Model"
   ]
  },
  {
   "cell_type": "markdown",
   "metadata": {},
   "source": [
    "Imports and set magics:"
   ]
  },
  {
   "cell_type": "code",
   "execution_count": null,
   "metadata": {},
   "outputs": [],
   "source": [
    "import numpy as np\n",
    "from scipy import optimize\n",
    "import sympy as sm\n",
    "from sympy.solvers import solve\n",
    "from sympy import *\n",
    "sm.init_printing()\n",
    "import matplotlib.pyplot as plt\n",
    "from IPython.display import display, Math, Markdown\n",
    "\n",
    "# autoreload modules when code is run\n",
    "%load_ext autoreload\n",
    "%autoreload 2\n",
    "\n",
    "# local modules\n",
    "import modelproject"
   ]
  },
  {
   "cell_type": "markdown",
   "metadata": {},
   "source": [
    "# Model description"
   ]
  },
  {
   "attachments": {},
   "cell_type": "markdown",
   "metadata": {},
   "source": [
    "**Solow model** \n",
    "\n",
    "Production function:\n",
    "$$\n",
    "Y_t = K_t^αH_t^σ(A_tL_t)^{(1-α-σ)}\n",
    "$$\n",
    "\n",
    "Y is output, K is physical capital, L is labor, H is human capital and A is technology. α and σ are the output elasticities of physical capital and human capital, respectively, and (1-α-σ) is the output elasticity of labor. \n",
    "Savings are divided in physical capital savings and human capital savings. They are defined as a constant fraction of the income. \n",
    "$$\n",
    "S_t=(s_K+s_H)Y_t\n",
    "$$\n",
    "\n",
    "The accumulation of physical capital over time is defined as:\n",
    "$$\n",
    "K_{t+1} = s_KY_t + (1-δ)K_t\n",
    "$$\n",
    "where δ is the depreciation rate of capital, and $K_{t+1}$ and $K_t$ are the levels of physical capital in periods t+1 and t, respectively.\n",
    "\n",
    "The accumulation of human capital over time is defined as:\n",
    "$$\n",
    "H_{t+1} = s_HY_t +(1-δ)H_t\n",
    "$$\n",
    "where δ is the depreciation rate of capital and $H_{t+1}$ and $H_t$ are the levels of human capital in periods t+1 and t, respectively.\n",
    "\n",
    "Finally, the level of technology and labor are defined as:\n",
    "$$\n",
    "A_{t+1} = (1+g)A_t\n",
    "$$\n",
    "$$\n",
    "L_{t+1} = (1+n)L_t\n",
    "$$\n",
    "where g is the rate of technological progress and n is the population growth. \n",
    "\n",
    "We define tilde-variables:\n",
    "$$\n",
    "\\tilde{y}_{t}= \\frac{Y_t}{A_tL_t}\n",
    "$$\n",
    "$$\n",
    "\\tilde{k}_{t}= \\frac{K_t}{A_tL_t}\n",
    "$$\n",
    "$$\n",
    "\\tilde{h}_{t}= \\frac{H_t}{A_tL_t}\n",
    "$$\n",
    "We define the transitions equation for physical capital and human capital as\n",
    "\n",
    "$$\n",
    "\\begin{aligned}\n",
    "\n",
    "    \\tilde{k}_{t+1} &= \\frac{1}{(1+n)(1+g)}(s_K \\tilde{k}_t^{\\alpha} \\tilde{h}_t^{σ} + (1-\\delta) \\tilde{k}_t),\\\\\n",
    "    \n",
    "    \\tilde{h}_{t+1} &= \\frac{1}{(1+n)(1+g)}(s_H \\tilde{h}_t^{\\alpha} \\tilde{h}_t^{σ} + (1-\\delta) \\tilde{h}_t).\\\\\n",
    "\n",
    "\\end{aligned}\n",
    "$$\n"
   ]
  },
  {
   "cell_type": "markdown",
   "metadata": {},
   "source": [
    "## Analytical solution"
   ]
  },
  {
   "attachments": {},
   "cell_type": "markdown",
   "metadata": {},
   "source": [
    "We begin by trying to solve the general Solow model analytically, and will expand with human capital later in the project. "
   ]
  },
  {
   "cell_type": "code",
   "execution_count": null,
   "metadata": {},
   "outputs": [],
   "source": [
    "# Define the variables and parameters\n",
    "k, L, s, delta, alpha, n, g = sm.symbols('k L s delta alpha n g')\n",
    "\n",
    "# Define the production function\n",
    "Y = k**alpha * L**(1-alpha)\n",
    "\n",
    "# Define the savings and accumulation equations\n",
    "S = s*Y\n",
    "K_next = S + (1-delta)*k\n",
    "\n",
    "# Define the labor accumulation equation\n",
    "L_next = (1+n)*L\n",
    "\n",
    "# Define the system of equations and solve for the steady state values\n",
    "system = [Y - delta*k - K_next,\n",
    "          S - K_next,\n",
    "          L_next - L]\n",
    "\n",
    "ss_sol = sm.solve(system, [k, L])\n",
    "\n",
    "# Define the steady state function\n",
    "k_ss = sm.lambdify((s, delta, alpha, n, g), ss_sol[0])\n",
    "\n",
    "# Test the function with example parameters\n",
    "params = (0.6, 0.05, 0.3, 0.01, 0.025)\n",
    "print(k_ss(*params))"
   ]
  },
  {
   "attachments": {},
   "cell_type": "markdown",
   "metadata": {},
   "source": [
    "Simpy solve on the Solow model was unsuccessful. This is because in the Solow model, the steady state values of k, L, and A are normally found by solving a system of nonlinear equations numerically, rather than analytically."
   ]
  },
  {
   "cell_type": "markdown",
   "metadata": {},
   "source": [
    "## Numerical solution"
   ]
  },
  {
   "attachments": {},
   "cell_type": "markdown",
   "metadata": {},
   "source": [
    "Now we solve the model numerically. We have included human capital, and begin by defining the variables, parameters and the transition equations.  "
   ]
  },
  {
   "cell_type": "code",
   "execution_count": null,
   "metadata": {},
   "outputs": [],
   "source": [
    "# Define the variables and parameters\n",
    "k_tilde, h_tilde = sm.symbols('ktilde_t, htilde_t')\n",
    "sK, sH, g, n, delta, alpha, sigma = sm.symbols('s_K, s_H, g, n, delta, alpha, sigma')\n",
    "\n",
    "# Define the transition equations\n",
    "k_trans = sm.Eq(k_tilde, \n",
    "                1/((1+n)*(1+g))*(sK*k_tilde**alpha*h_tilde**sigma+(1-delta)*k_tilde))\n",
    "h_trans = sm.Eq(h_tilde, \n",
    "                1/((1+n)*(1+g))*(sH*k_tilde**alpha*h_tilde**sigma+(1-delta)*h_tilde))\n",
    "\n",
    "# Derive nullclines from transition equations \n",
    "nullcline_k = sm.solve(k_trans,h_tilde)[0] \n",
    "null_k = sm.Eq(h_tilde, nullcline_k)\n",
    "\n",
    "nullcline_h = sm.solve(h_trans,h_tilde)[0]\n",
    "null_h = sm.Eq(h_tilde, nullcline_h)\n",
    "\n",
    "# Use lambdify\n",
    "null_k_func = sm.lambdify([k_tilde, alpha, delta, g, n, sigma, sK], nullcline_k)\n",
    "null_h_func = sm.lambdify([k_tilde, alpha, delta, g, n, sigma, sH], nullcline_h)\n",
    " \n",
    "# Define values \n",
    "k_tilde_vec = np.linspace(1,5000,100) \n",
    "\n",
    "alpha = 0.3\n",
    "delta = 0.02\n",
    "g = 0.02\n",
    "n = 0.01\n",
    "sigma = 0.5\n",
    "sH = 0.2\n",
    "sK = 0.3\n",
    "\n",
    "null_k_val = null_k_func(k_tilde_vec,alpha,delta,g, n, sigma, sK)\n",
    "null_h_val = null_h_func(k_tilde_vec,alpha,delta,g, n, sigma, sH)\n"
   ]
  },
  {
   "attachments": {},
   "cell_type": "markdown",
   "metadata": {},
   "source": [
    "We wish to plot the nullclines in a fase diagram. "
   ]
  },
  {
   "cell_type": "code",
   "execution_count": null,
   "metadata": {},
   "outputs": [],
   "source": [
    "# Plot\n",
    "fig = plt.figure()\n",
    "ax = fig.add_subplot(1,1,1)\n",
    "\n",
    "ax.plot(k_tilde_vec, null_k_val, label = r'$ \\Delta \\tilde{k}_t = 0$')\n",
    "ax.plot(k_tilde_vec, null_h_val, label = r'$ \\Delta \\tilde{h}_t = 0$');\n",
    "ax.set_xlabel(r'$\\tilde{k}_t$',)\n",
    "ax.set_ylabel(r'$\\tilde{h}_t$', rotation = 0)\n",
    "\n",
    "ax.legend(loc='upper left');"
   ]
  },
  {
   "attachments": {},
   "cell_type": "markdown",
   "metadata": {},
   "source": [
    "The fase diagram shows the transition to steady state. The steady state is where the null clines intersect each other. \n",
    "Now we will find the steady state and graph the convergence. "
   ]
  },
  {
   "cell_type": "code",
   "execution_count": null,
   "metadata": {},
   "outputs": [],
   "source": [
    "\n",
    "def steady_state(sK, sH, delta, g, n, alpha, sigma, evals=10):\n",
    "    k, h = 0.5, 0.5\n",
    "    fks = np.zeros(evals)\n",
    "    fhs = np.zeros(evals)\n",
    "    for i in range(evals):\n",
    "        k_new = ((sK*h**sigma) + (1-delta)*k)**(1/(1-alpha))\n",
    "        h_new = ((sH*k**alpha) + (1-g)*h)**(1/sigma)\n",
    "        fks[i] = np.abs(k_new - k)\n",
    "        fhs[i] = np.abs(h_new - h)\n",
    "        k, h = k_new, h_new\n",
    "        \n",
    "    # Plot the convergences for k and h\n",
    "    fig, axs = plt.subplots(1, 2, figsize=(10, 4))\n",
    "    i = evals-1\n",
    "    axs[0].plot(np.arange(i+1), fks[:i+1], '--', ms=4, color='blue')\n",
    "    axs[0].set_title(\"k convergence\")\n",
    "    axs[0].set_xlabel('iteration')\n",
    "    axs[1].plot(np.arange(i+1), fhs[:i+1], '--', ms=4, color='green')\n",
    "    axs[1].set_title(\"h convergence\")\n",
    "    axs[1].set_xlabel('iteration')\n",
    "    plt.show()\n",
    "    \n",
    "    # Return the steady state values of physical and human capital\n",
    "    return k, h\n",
    "\n",
    "# Find the steady state values of physical and human capital\n",
    "ss_k, ss_h = steady_state(0.1, 0.11, 0.05, 0.015, 0.01, 1/3, 1/3)\n"
   ]
  },
  {
   "cell_type": "code",
   "execution_count": null,
   "metadata": {},
   "outputs": [],
   "source": [
    "print(f'The steady state value for physical capital is {ss_k}')\n",
    "print(f'The steady state value for human capital is {ss_h}')"
   ]
  },
  {
   "attachments": {},
   "cell_type": "markdown",
   "metadata": {},
   "source": [
    "# Extension of the model"
   ]
  },
  {
   "attachments": {},
   "cell_type": "markdown",
   "metadata": {},
   "source": [
    "In this part of the analysis, we analyse how the steady state values change when increasing the savings rate."
   ]
  },
  {
   "cell_type": "code",
   "execution_count": null,
   "metadata": {},
   "outputs": [],
   "source": [
    "ss_k1, ss_h1 = steady_state(0.1, 0.22, 0.05, 0.015, 0.01, 1/3, 1/3)"
   ]
  },
  {
   "cell_type": "code",
   "execution_count": null,
   "metadata": {},
   "outputs": [],
   "source": [
    "print(f'The steady state value for physical capital is {ss_k1}')\n",
    "print(f'The steady state value for human capital is {ss_h1}')"
   ]
  },
  {
   "attachments": {},
   "cell_type": "markdown",
   "metadata": {},
   "source": [
    "We see that an increase in human capital savings rate leads to an initial increase in the savings in human capital. Production per effective worker increases also increases , which leads to higher savings in both human and physical capital."
   ]
  },
  {
   "cell_type": "markdown",
   "metadata": {},
   "source": [
    "# Conclusion"
   ]
  },
  {
   "attachments": {},
   "cell_type": "markdown",
   "metadata": {},
   "source": [
    "We can conclude that it was not possible to solve the Solow model analytically. "
   ]
  }
 ],
 "metadata": {
  "kernelspec": {
   "display_name": "base",
   "language": "python",
   "name": "python3"
  },
  "language_info": {
   "codemirror_mode": {
    "name": "ipython",
    "version": 3
   },
   "file_extension": ".py",
   "mimetype": "text/x-python",
   "name": "python",
   "nbconvert_exporter": "python",
   "pygments_lexer": "ipython3",
   "version": "3.9.13"
  },
  "toc-autonumbering": true,
  "vscode": {
   "interpreter": {
    "hash": "f3b51e819bc11dd36f9785fabc699cfbf6a066dcb80d697c76b1569915f425ca"
   }
  }
 },
 "nbformat": 4,
 "nbformat_minor": 4
}
