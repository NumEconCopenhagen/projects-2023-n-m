{
 "cells": [
  {
   "attachments": {},
   "cell_type": "markdown",
   "metadata": {},
   "source": [
    "# The Solow Model"
   ]
  },
  {
   "cell_type": "markdown",
   "metadata": {},
   "source": [
    "Imports and set magics:"
   ]
  },
  {
   "cell_type": "code",
   "execution_count": 1,
   "metadata": {},
   "outputs": [],
   "source": [
    "import numpy as np\n",
    "from scipy import optimize\n",
    "import sympy as sm\n",
    "\n",
    "# autoreload modules when code is run\n",
    "%load_ext autoreload\n",
    "%autoreload 2\n",
    "\n",
    "# local modules\n",
    "import modelproject"
   ]
  },
  {
   "cell_type": "markdown",
   "metadata": {},
   "source": [
    "# Model description"
   ]
  },
  {
   "attachments": {},
   "cell_type": "markdown",
   "metadata": {},
   "source": [
    "**Solow model** \n",
    "\n",
    "Production function:\n",
    "\n",
    "Y = F(K, L) = K^αL^(1-α)\n",
    "\n",
    "Y is output, K is capital, L is labor, and α is a parameter representing the share of output going to capital. The model assumes that capital accumulates over time, but that it also depreciates at a rate δ, so that the change in capital over time is given by:\n",
    "\n",
    "dK/dt = sY - δK\n",
    "\n",
    "where s is the savings rate. Finally, the model assumes that labor grows at a rate n, so that the change in labor over time is given by:\n",
    "\n",
    "dL/dt = nL\n",
    "\n",
    "We can use these equations to derive a steady-state equation for capital per effective worker (K/L), which represents the long-run equilibrium level of capital per worker. To do this, we set dK/dt = 0 and dL/dt = 0, which gives us:\n",
    "\n",
    "sY = δK (1)\n",
    "nL = 0 (2)\n",
    "\n",
    "We can then substitute the production function (Y = F(K, L)) into equation (1) and simplify to get:\n",
    "\n",
    "sK^αL^(1-α) = δK\n",
    "\n",
    "Dividing both sides by K gives us:\n",
    "\n",
    "sK^(α-1)L^(1-α) = δ\n",
    "\n",
    "Multiplying both sides by K^(1-α) gives us:\n",
    "\n",
    "sK^αL^(-α) = δK^(1-α)\n",
    "\n",
    "Simplifying gives us:\n",
    "\n",
    "K/L = (s/δ)^(1/(1-α))\n",
    "\n",
    "This is the steady-state equation for capital per effective worker. We can use Sympy to solve for this equation as a function of the parameter α:\n"
   ]
  },
  {
   "cell_type": "code",
   "execution_count": null,
   "metadata": {},
   "outputs": [],
   "source": []
  },
  {
   "cell_type": "markdown",
   "metadata": {},
   "source": [
    "## Analytical solution"
   ]
  },
  {
   "cell_type": "markdown",
   "metadata": {},
   "source": [
    "If your model allows for an analytical solution, you should provide here.\n",
    "\n",
    "You may use Sympy for this. Then you can characterize the solution as a function of a parameter of the model.\n",
    "\n",
    "To characterize the solution, first derive a steady state equation as a function of a parameter using Sympy.solve and then turn it into a python function by Sympy.lambdify. See the lecture notes for details. "
   ]
  },
  {
   "cell_type": "markdown",
   "metadata": {},
   "source": [
    "## Numerical solution"
   ]
  },
  {
   "cell_type": "markdown",
   "metadata": {},
   "source": [
    "You can always solve a model numerically. \n",
    "\n",
    "Define first the set of parameters you need. \n",
    "\n",
    "Then choose one of the optimization algorithms that we have gone through in the lectures based on what you think is most fitting for your model.\n",
    "\n",
    "Are there any problems with convergence? Does the model converge for all starting values? Make a lot of testing to figure these things out. "
   ]
  },
  {
   "cell_type": "markdown",
   "metadata": {},
   "source": [
    "# Further analysis"
   ]
  },
  {
   "cell_type": "markdown",
   "metadata": {},
   "source": [
    "Make detailed vizualizations of how your model changes with parameter values. \n",
    "\n",
    "Try to make an extension of the model. "
   ]
  },
  {
   "cell_type": "markdown",
   "metadata": {},
   "source": [
    "# Conclusion"
   ]
  },
  {
   "cell_type": "markdown",
   "metadata": {},
   "source": [
    "Add concise conclusion. "
   ]
  }
 ],
 "metadata": {
  "kernelspec": {
   "display_name": "base",
   "language": "python",
   "name": "python3"
  },
  "language_info": {
   "codemirror_mode": {
    "name": "ipython",
    "version": 3
   },
   "file_extension": ".py",
   "mimetype": "text/x-python",
   "name": "python",
   "nbconvert_exporter": "python",
   "pygments_lexer": "ipython3",
   "version": "3.9.10"
  },
  "toc-autonumbering": true,
  "vscode": {
   "interpreter": {
    "hash": "47ef90cdf3004d3f859f1fb202523c65c07ba7c22eefd261b181f4744e2d0403"
   }
  }
 },
 "nbformat": 4,
 "nbformat_minor": 4
}
