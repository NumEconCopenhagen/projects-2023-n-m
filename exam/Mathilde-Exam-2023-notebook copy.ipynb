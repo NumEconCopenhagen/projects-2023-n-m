{
 "cells": [
  {
   "attachments": {},
   "cell_type": "markdown",
   "metadata": {},
   "source": [
    "# Exam #"
   ]
  },
  {
   "attachments": {},
   "cell_type": "markdown",
   "metadata": {},
   "source": [
    "By Nina Frandsen Jensen & Mathilde Maix"
   ]
  },
  {
   "attachments": {},
   "cell_type": "markdown",
   "metadata": {},
   "source": [
    "**Table of contents**<a id='toc0_'></a>    \n",
    "- 1. [Problem 1: Optimal taxation with government consumption](#toc1_)    \n",
    "- 2. [Problem 2: Labor adjustment costs](#toc2_)    \n",
    "- 3. [Problem 3: Global optimizer with refined multi-start](#toc3_)    \n",
    "\n",
    "<!-- vscode-jupyter-toc-config\n",
    "\tnumbering=true\n",
    "\tanchor=true\n",
    "\tflat=false\n",
    "\tminLevel=2\n",
    "\tmaxLevel=6\n",
    "\t/vscode-jupyter-toc-config -->\n",
    "<!-- THIS CELL WILL BE REPLACED ON TOC UPDATE. DO NOT WRITE YOUR TEXT IN THIS CELL -->"
   ]
  },
  {
   "cell_type": "code",
   "execution_count": null,
   "metadata": {},
   "outputs": [],
   "source": [
    "# Imports \n",
    "import math \n",
    "import scipy.optimize\n",
    "import numpy as np\n",
    "import pandas as pd\n",
    "import sympy as sm\n",
    "from scipy import optimize\n",
    "from tabulate import tabulate\n",
    "from scipy import optimize\n",
    "from sympy import symbols, lambdify\n",
    "from scipy.optimize import minimize_scalar\n",
    "from matplotlib import pyplot as plt\n",
    "\n",
    "# autoreload modules when code is run\n",
    "%load_ext autoreload\n",
    "%autoreload 2"
   ]
  },
  {
   "attachments": {},
   "cell_type": "markdown",
   "metadata": {},
   "source": [
    "## 1. <a id='toc1_'></a>[Problem 1: Optimal taxation with government consumption](#toc0_)"
   ]
  },
  {
   "attachments": {},
   "cell_type": "markdown",
   "metadata": {},
   "source": [
    "\n",
    "Consider a worker choosing hours of labor, $L\\in[0,24]$, to maximize utility: \n",
    "\n",
    "$$\n",
    "\\begin{align*}\n",
    "V(w,\\tau,G)&=\\max_{L\\in[0,24]}\\ln\\left(C^{\\alpha}G^{1-\\alpha}\\right)-\\nu\\frac{L^{2}}{2}\\\\&\\text{s.t.}\\\\&C=\\kappa+(1-\\tau)wL\n",
    "\\end{align*}\n",
    "$$\n",
    "\n",
    "where \n",
    "\n",
    "* $C$ is *private* consumption with weight $\\alpha\\in(0,1)$.\n",
    "* $\\kappa > 0$ is the *free private* consumption component.\n",
    "* $C = (1-\\tau)wL$ is the *costly private* consumption component.\n",
    "* $w > 0 $ is the real wage.\n",
    "* $\\tau \\in (0,1)$ is the labor-income tax rate.\n",
    "* $G > 0 $ is *government* consumption with weight $1-\\alpha$.\n",
    "* $\\nu > 0$ is the disutility of labor scaling factor"
   ]
  },
  {
   "attachments": {},
   "cell_type": "markdown",
   "metadata": {},
   "source": [
    "\n",
    "The baseline parameters are:\n",
    "\n",
    "$$\n",
    "\\begin{align*}\n",
    "\\alpha &= 0.5\\\\\n",
    "\\kappa &= 1.0\\\\\n",
    "\\nu &= \\frac{1}{2\\cdot16^2} \\\\\n",
    "w &= 1.0 \\\\ \n",
    "\\tau &= 0.30 \\\\\n",
    "\\end{align*}\n",
    "$$"
   ]
  },
  {
   "attachments": {},
   "cell_type": "markdown",
   "metadata": {},
   "source": [
    "**Question 1:** Verify that the optimal labor supply choice is $L^{\\star}(\\tilde{w}) =\\frac{-\\kappa+\\sqrt{\\kappa^{2}+4\\frac{\\alpha}{\\nu}\\tilde{w}^2}}{2\\tilde{w}}$, where $\\tilde{w} = (1-\\tau)w$, for $G\\in\\left\\{1.0 , 2.0\\right\\}$."
   ]
  },
  {
   "cell_type": "code",
   "execution_count": null,
   "metadata": {},
   "outputs": [],
   "source": [
    "# Defining the parameter symbols\n",
    "L, w_tilde, kappa, alpha, nu, C, G, tau = sm.symbols('L w_tilde kappa alpha nu C G tau')\n",
    "\n",
    "# Defining utility & consumption constraint (we have already substituted the expression for w_tilde in the consumption constraint)\n",
    "utility = sm.log(C**alpha * G**(1-alpha)) - (nu * (L**2 / 2))\n",
    "consumption_constraint = sm.Eq(C, kappa + w_tilde * L)\n",
    "\n",
    "consumption_constraint_solved = sm.solve(consumption_constraint, C)\n",
    "\n",
    "# Inserting expression for C in the utility function\n",
    "utility_subs = utility.subs(C, consumption_constraint_solved[0]) \n",
    "\n",
    "# Different values of G to test\n",
    "G_values = [1.0, 2.0]\n",
    "\n",
    "# Calculate the optimal L for each G value using list comprehension\n",
    "optimal_L = [sm.solve(sm.Eq(sm.diff(utility_subs.subs(G, G_val), L), 0), L)[0] for G_val in G_values]\n",
    "optimal_L[0]\n",
    "\n",
    " "
   ]
  },
  {
   "cell_type": "code",
   "execution_count": null,
   "metadata": {},
   "outputs": [],
   "source": [
    "# saving the function\n",
    "optimal_L_func = sm.lambdify(args=(kappa,nu,alpha,w_tilde),expr=optimal_L[0])"
   ]
  },
  {
   "attachments": {},
   "cell_type": "markdown",
   "metadata": {},
   "source": [
    "We have verified that $L^{\\star}(\\tilde{w}) =\\frac{-\\kappa+\\sqrt{\\kappa^{2}+4\\frac{\\alpha}{\\nu}\\tilde{w}^2}}{2\\tilde{w}}$ where $\\tilde{w} = (1-\\tau)w$ is the optimal labor supply  choice for $G\\in\\left\\{1.0 , 2.0\\right\\}$. Our expression is not exactly identically expressed, but it is the same function, as \n",
    "\n",
    "$$\\frac{-\\kappa+\\sqrt{\\kappa^{2}+4\\frac{\\alpha}{\\nu}\\tilde{w}^2}}{2\\tilde{w}} =\\frac{0.5(-\\kappa\\nu-\\sqrt{\\nu(4\\alpha \\tilde{w}^{2}+\\kappa^{2}}\\nu)}{\\tilde{w}\\nu}$$"
   ]
  },
  {
   "attachments": {},
   "cell_type": "markdown",
   "metadata": {},
   "source": [
    "**Question 2:** Illustrate how $L^{\\star}(\\tilde{w})$ depends on $w$."
   ]
  },
  {
   "attachments": {},
   "cell_type": "markdown",
   "metadata": {},
   "source": [
    "To illustrate how $L^{\\star}(\\tilde{w})$ depends on $w$ we plot the optimal labor supply choice in a graph. "
   ]
  },
  {
   "cell_type": "code",
   "execution_count": null,
   "metadata": {},
   "outputs": [],
   "source": [
    "w_tilde_values = np.linspace(0.01, 2, 100)  \n",
    "kappa = 1.0  \n",
    "alpha = 0.5  \n",
    "nu = 1 / (2 * 16**2) \n",
    "w = 1.0\n",
    "tau = 0.30\n",
    "\n",
    "w_tilde = (1- tau)* w\n",
    "w_tilde_values = np.linspace(0.01, 2, 100)\n",
    "L_values = optimal_L_func(kappa, nu, alpha, w_tilde_values)  # Replace with actual parameter values\n",
    "\n",
    "# Plot the graf\n",
    "plt.plot(w_tilde_values, L_values)\n",
    "plt.xlabel('w_tilde')\n",
    "plt.ylabel('L^star')\n",
    "plt.title('Plot of L^star(w_tilde)')\n",
    "plt.grid(True)\n",
    "plt.show()\n"
   ]
  },
  {
   "cell_type": "code",
   "execution_count": null,
   "metadata": {},
   "outputs": [],
   "source": [
    "def L_star(kappa, alpha, nu, tau, w):\n",
    "    w_tilde = (1 - tau) * w\n",
    "    return (-kappa + np.sqrt(kappa**2 + 4 * alpha / nu * w_tilde**2)) / (2 * w_tilde)\n",
    "\n",
    "kappa = 1.0  \n",
    "alpha = 0.5  \n",
    "nu = 1 / (2 * 16**2) \n",
    "w = 1.0\n",
    "tau = 0.30\n",
    "\n",
    "w = np.linspace(-10, 10, 100)  # Generate an array of w values\n",
    "L = L_star(kappa, alpha, nu, tau, w)\n",
    "\n",
    "plt.plot(w, L)\n",
    "plt.xlabel('w_tilde')\n",
    "plt.ylabel('L^star')\n",
    "plt.title('Plot of L^star(w_tilde)')\n",
    "plt.xlim(0, max(w))\n",
    "plt.ylim(0, max(L))\n",
    "plt.grid(True)\n",
    "plt.show()"
   ]
  },
  {
   "attachments": {},
   "cell_type": "markdown",
   "metadata": {},
   "source": [
    "The variable $\\tilde{w} represents the after-tax real wage and is used in the utility maximization problem to account for the influence of taxation on the worker's decision-making. By incorporating the after-tax real wage, the model considers the trade-off between work and leisure, which allows us to analysise how taxation influences labor supply choices.\n",
    "\n",
    "The graph of $L^*$ as a function of $\\tilde{w}$ illustrates the relationship between the optimal labor supply choice and the after-tax real wage. It lets us understand how changes in the after-tax real wage affect the worker's decision to supply labor. The graph converges towards a point where further increases in the after-tax real wage has diminishing effects on the optimal labor supply choice. At this saturation point, workers may have satisfied their level of consumption and will prefer to use more time on leisure activities rather than labor."
   ]
  },
  {
   "attachments": {},
   "cell_type": "markdown",
   "metadata": {},
   "source": [
    "\n",
    "We now consider a government, who chooses $\\tau$ and spend all of the taxes on government consumption so:\n",
    "\n",
    "$$\n",
    "G = \\tau w L^{\\star}((1-\\tau)w)\n",
    "$$\n",
    "\n",
    "**Question 3:** Plot the implied $L$, $G$ and worker utility for a grid of $\\tau$-values.\n"
   ]
  },
  {
   "cell_type": "code",
   "execution_count": null,
   "metadata": {},
   "outputs": [],
   "source": [
    "# Defining the functions\n",
    "def L_star(kappa, alpha, nu, w_tilde):\n",
    "    return (-kappa + np.sqrt(kappa**2 + 4 * alpha / nu * w_tilde**2)) / (2 * w_tilde)\n",
    "\n",
    "def G(kappa, alpha, nu, tau, w):\n",
    "    w_tilde = (1 - tau) * w\n",
    "    return tau * w * L_star(kappa, alpha, nu, w_tilde)*((1- tau)*w)\n",
    "\n",
    "def L_starG(kappa, alpha, nu, tau, w):\n",
    "    return G(kappa, alpha, nu, tau, w) / (tau*(1-tau)*w**2)\n",
    "\n",
    "def V(kappa, alpha, nu, tau, w):\n",
    "    L = np.linspace(0, 24, 100)  # Grid of L values\n",
    "    C = kappa + (1 - tau) * w * L\n",
    "    utility = np.log(C**alpha * G(kappa, alpha, nu, tau, w)**(1 - alpha)) - nu * L**2 / 2\n",
    "    return np.max(utility)\n",
    "\n",
    "# Parameters\n",
    "kappa = 1.0  \n",
    "alpha = 0.5  \n",
    "nu = 1 / (2 * 16**2) \n",
    "w = 1.0\n",
    "tau = 0.30 \n",
    "\n",
    "tau_values = np.linspace(0, 1, 100)  # Grid of tau values\n",
    "\n",
    "L_values = L_starG(kappa, alpha, nu, tau_values, w)\n",
    "G_values = G(kappa, alpha, nu, tau_values, w)\n",
    "V_values = np.zeros_like(tau_values)\n",
    "\n",
    "for i, tau in enumerate(tau_values):\n",
    "    V_values[i] = V(kappa, alpha, nu, tau, w)\n",
    "\n",
    "plt.figure(figsize=(10, 6))\n",
    "plt.subplot(2, 2, 1)\n",
    "plt.plot(tau_values, L_values)\n",
    "plt.xlabel('tau')\n",
    "plt.ylabel('L^star')\n",
    "plt.title('Plot of L^star')\n",
    "\n",
    "plt.subplot(2, 2, 2)\n",
    "plt.plot(tau_values, G_values)\n",
    "plt.xlabel('tau')\n",
    "plt.ylabel('G')\n",
    "plt.title('Plot of G')\n",
    "\n",
    "plt.subplot(2, 2, 3)\n",
    "plt.plot(tau_values, V_values)\n",
    "plt.xlabel('tau')\n",
    "plt.ylabel('V')\n",
    "plt.title('Plot of V')\n",
    "\n",
    "plt.tight_layout()\n",
    "plt.show()\n",
    "\n"
   ]
  },
  {
   "attachments": {},
   "cell_type": "markdown",
   "metadata": {},
   "source": [
    "TEXT TIL GRAFER"
   ]
  },
  {
   "attachments": {},
   "cell_type": "markdown",
   "metadata": {},
   "source": [
    "**Question 4:** Find the socially optimal tax rate $\\tau^{\\star}\\in(0,1)$ maximizing worker utility. Illustrate your result."
   ]
  },
  {
   "cell_type": "code",
   "execution_count": null,
   "metadata": {},
   "outputs": [],
   "source": [
    "def V(tau, w, kappa, alpha, nu):\n",
    "    w_tilde = (1 - tau) * w\n",
    "    L_star = (-kappa + np.sqrt(kappa**2 + 4 * alpha/nu * w_tilde**2)) / (2 * w_tilde)\n",
    "    C = kappa + (1 - tau) * w * L_star\n",
    "    G = tau * w * L_star*((1-tau)*w)\n",
    "    return np.log(C**alpha * G**(1 - alpha)) - nu * L_star**2 / 2\n",
    "\n",
    "def maximize_V(w, kappa, alpha, nu):\n",
    "    result = minimize_scalar(lambda tau: -V(tau, w, kappa, alpha, nu), bounds=(0, 1), method='bounded')\n",
    "    return result.x\n",
    "\n",
    "kappa = 1.0  \n",
    "alpha = 0.5  \n",
    "nu = 1 / (2 * 16**2) \n",
    "w = 1.0\n",
    "\n",
    "max_tau = maximize_V(w, kappa, alpha, nu)\n",
    "max_V = V(max_tau, w, kappa, alpha, nu)\n",
    "\n",
    "print(\"Optimal tau:\", max_tau)\n",
    "print(\"Maximum V:\", max_V)\n",
    "\n",
    "# Generate tau values for plotting\n",
    "tau_vals = np.linspace(0, 1, 100)\n",
    "\n",
    "# Calculate V values\n",
    "V_vals = [V(tau, w, kappa, alpha, nu) for tau in tau_vals]\n",
    "\n",
    "# Plot V(tau)\n",
    "plt.plot(tau_vals, V_vals)\n",
    "plt.scatter(max_tau, max_V, color='red', label='Max V')\n",
    "plt.xlabel('tau')\n",
    "plt.ylabel('V')\n",
    "plt.legend()\n",
    "plt.title('Objective Function V(tau)')\n",
    "plt.show()"
   ]
  },
  {
   "attachments": {},
   "cell_type": "markdown",
   "metadata": {},
   "source": [
    "A more general preference formulation for the worker is:\n",
    "\n",
    "$$\n",
    "\\begin{align*}\n",
    "\\mathcal{V}(w,\\tau,G)&=\\max_{L\\in[0,24]}\\frac{\\left[ \\left( \\alpha C^{\\frac{\\sigma-1}{\\sigma}}+(1-\\alpha) G^{\\frac{\\sigma-1}{\\sigma}} \\right)^{\\frac{\\sigma}{\\sigma-1} }\\right]^{1-\\rho}-1}{1-\\rho}- \\nu\\frac{L^{1+\\varepsilon}}{1+\\varepsilon},\\,\\,\\,\\varepsilon,\\rho,\\sigma>0,\\,\\,\\,\\rho,\\sigma\\neq1\\\\&\\text{s.t.}\\\\&C=\\kappa+(1-\\tau)wL\n",
    "\\end{align*}    \n",
    "$$\n",
    "\n",
    "Optimal labor supply is now $L^{\\star}(\\tilde{w},G)$."
   ]
  },
  {
   "attachments": {},
   "cell_type": "markdown",
   "metadata": {},
   "source": [
    "Questions 5 and 6 must be answered with the general formulation, and for 2 different set of parameters:\n",
    "\n",
    "- Set 1:  $\\sigma = 1.001$, $\\rho = 1.001$ and $\\varepsilon = 1.0$.\n",
    "- Set 2:  $\\sigma = 1.5$, $\\rho = 1.5$ and $\\varepsilon = 1.0 $."
   ]
  },
  {
   "attachments": {},
   "cell_type": "markdown",
   "metadata": {},
   "source": [
    "**Question 5:** Find the $G$ that solves $G = \\tau w L^{\\star}((1-\\tau)w,G)$ using the $\\tau$ found in question 4.\n",
    "\n",
    "*Hint: First write code that solves the worker problem for given values of $G$ and $\\tau$. Then find the correct G based on this.*"
   ]
  },
  {
   "cell_type": "code",
   "execution_count": null,
   "metadata": {},
   "outputs": [],
   "source": [
    "import scipy.optimize as optimize\n",
    "\n",
    "def utility(L, w, tau, G, alpha, kappa, sigma, rho, nu, epsilon):\n",
    "    C = kappa + (1 - tau) * w * L\n",
    "    return ((((alpha * C**((sigma-1)/sigma) + (1 - alpha) * G**((sigma-1)/sigma))**(sigma/(sigma-1)))**(1-rho)-1)/(1- rho)) - nu * (L**(1+epsilon))/(1+epsilon)\n",
    "\n",
    "def objective(G, *args):\n",
    "    w, tau, alpha, kappa, sigma, rho, nu, epsilon = args\n",
    "    L_opt = optimize.fminbound(lambda L: -utility(L, w, tau, G, alpha, kappa, sigma, rho, nu, epsilon), 0, 24)\n",
    "    return G - tau * w * L_opt\n",
    "\n",
    "# Parameter values for Set 1\n",
    "w =  1.0\n",
    "tau = 0.33817131261325806  # Given tau value\n",
    "alpha =  0.5\n",
    "kappa =  1.0\n",
    "nu = 1 / (2 * 16**2)\n",
    "\n",
    "# Set 1: sigma = 1.001, rho = 1.001, epsilon = 1.0\n",
    "sigma_1 = 1.001\n",
    "rho_1 = 1.001\n",
    "epsilon_1 = 1.0  # Set the value of epsilon for Set 1\n",
    "\n",
    "# Set 2: sigma = 1.5, rho = 1.5, epsilon = 1.0\n",
    "sigma_2 = 1.5\n",
    "rho_2 = 1.5\n",
    "epsilon_2 = 1.0  # Set the value of epsilon for Set 2\n",
    "\n",
    "# Solve for G for Set 1\n",
    "initial_guess = 1.0  # Initial guess for G in Set 1\n",
    "args_1 = (w, tau, alpha, kappa, sigma_1, rho_1, nu, epsilon_1)\n",
    "result_1 = optimize.root(objective, initial_guess, args=args_1)\n",
    "G_solution_1 = result_1.x[0]\n",
    "L_opt_1 = optimize.fminbound(lambda L: -utility(L, w, tau, G_solution_1, alpha, kappa, sigma_1, rho_1, nu, epsilon_1), 0, 24)\n",
    "\n",
    "# Solve for G for Set 2\n",
    "initial_guess = 1.0  # Initial guess for G in Set 2\n",
    "args_2 = (w, tau, alpha, kappa, sigma_2, rho_2, nu, epsilon_2)\n",
    "result_2 = optimize.root(objective, initial_guess, args=args_2)\n",
    "G_solution_2 = result_2.x[0]\n",
    "L_opt_2 = optimize.fminbound(lambda L: -utility(L, w, tau, G_solution_2, alpha, kappa, sigma_2, rho_2, nu, epsilon_2), 0, 24)\n",
    "\n",
    "# Print results\n",
    "print(\"Set 1:\")\n",
    "print(\"Optimal labor supply (L^*):\", L_opt_1)\n",
    "print(\"Corresponding value of G:\", G_solution_1)\n",
    "print()\n",
    "print(\"Set 2:\")\n",
    "print(\"Optimal labor supply (L^*):\", L_opt_2)\n",
    "print(\"Corresponding value of G:\", G_solution_2)\n"
   ]
  },
  {
   "attachments": {},
   "cell_type": "markdown",
   "metadata": {},
   "source": [
    "**Question 6:** Find the socially optimal tax rate, $\\tau^{\\star}$, maximizing worker utility, while keeping $G = \\tau w L^{\\star}((1-\\tau)w,G)$."
   ]
  },
  {
   "attachments": {},
   "cell_type": "markdown",
   "metadata": {},
   "source": [
    "from scipy.optimize import minimize\n",
    "def utility6(tau, L, w, G, alpha, kappa, sigma, rho, nu, epsilon):\n",
    "    C = kappa + (1 - tau) * w * L\n",
    "    return ((((alpha * C**((sigma-1)/sigma) + (1 - alpha) * G**((sigma-1)/sigma))**(sigma/(sigma-1)))**(1-rho)-1)/(1- rho)) - nu * (L**(1+epsilon))/(1+epsilon)\n",
    "\n",
    "def constraint6(tau, L, w, G):\n",
    "    return G - tau * w * L\n",
    "\n",
    "def objective6(tau, *args):\n",
    "    L, w, G, alpha, kappa, sigma, rho, nu, epsilon = args\n",
    "    return -utility6(tau, L, w, G, alpha, kappa, sigma, rho, nu, epsilon)  # Minimize negative utility\n",
    "\n",
    "def find_optimal_tau(L, w, G, alpha, kappa, sigma, rho, nu, epsilon):\n",
    "    initial_guess = 0.5  # Initial guess for tau\n",
    "    result = minimize(objective6, initial_guess, args=(L, w, G, alpha, kappa, sigma, rho, nu, epsilon), constraints={'type': 'eq', 'fun': constraint6, 'args': (L, w, G)})\n",
    "    optimal_tau = result.x[0]\n",
    "    return optimal_tau\n",
    "\n",
    "# Parameter values for Set 1\n",
    "w =  1.0\n",
    "tau = 0.33817131261325806  # Given tau value\n",
    "alpha =  0.5\n",
    "kappa =  1.0\n",
    "nu = 1 / (2 * 16**2)\n",
    "\n",
    "# Set 1: sigma = 1.001, rho = 1.001, epsilon = 1.0\n",
    "sigma_1 = 1.001\n",
    "rho_1 = 1.001\n",
    "epsilon_1 = 1.0  # Set the value of epsilon for Set 1\n",
    "\n",
    "optimal_tau = find_optimal_tau(L, w, G, alpha, kappa, sigma_1, rho_1, nu, epsilon_1)\n",
    "print(\"Optimal tau:\", optimal_tau)"
   ]
  },
  {
   "attachments": {},
   "cell_type": "markdown",
   "metadata": {},
   "source": [
    "## 2. <a id='toc2_'></a>[Problem 2: Labor adjustment costs](#toc0_)"
   ]
  },
  {
   "attachments": {},
   "cell_type": "markdown",
   "metadata": {},
   "source": [
    "You own a hair salon. You employ hairdressers, $\\ell_t$, to produce haircuts, $y_t = \\ell_t$.\n",
    "\n",
    "The wage for each haridresser is $w$.\n",
    "\n",
    "The demand for haircuts implies that the price of haircuts you can charge is $p_t = \\kappa_t y_t^{-\\eta}$, where $\\kappa_t$ is a demand-shock and $\\eta \\in (0,1)$ measures the elasticity of demand.\n",
    "\n",
    "Profits are:\n",
    "\n",
    "$$\n",
    "\\Pi_t = p_t y_t - w \\ell_t = \\kappa_t \\ell_t^{1-\\eta} - w \\ell_t\n",
    "$$"
   ]
  },
  {
   "attachments": {},
   "cell_type": "markdown",
   "metadata": {},
   "source": [
    "Baseline parameters are:\n",
    "- $\\eta = 0.5$\n",
    "- $w = 1.0$"
   ]
  },
  {
   "attachments": {},
   "cell_type": "markdown",
   "metadata": {},
   "source": [
    "**Question 1:** Verify numerically that $\\ell_{t}=\\left(\\frac{(1-\\eta)\\kappa_{t}}{w}\\right)^{\\frac{1}{\\eta}}$ maximises profits, for $\\kappa\\in\\left\\{1.0 , 2.0\\right\\}$."
   ]
  },
  {
   "cell_type": "code",
   "execution_count": null,
   "metadata": {},
   "outputs": [],
   "source": [
    "p_t = sm.symbols('p_t')\n",
    "y_t = sm.symbols('y_t')\n",
    "w = sm.symbols('w')\n",
    "kappa_t = sm.symbols('kappa_t')\n",
    "ell_t = sm.symbols('ell_t')\n",
    "eta = sm.symbols('eta')\n",
    "\n",
    "# Define the profit function\n",
    "profit_function = kappa_t * ell_t**(1 - eta) - w * ell_t\n",
    "\n",
    "# Calculate the derivative of the profit function with respect to ell\n",
    "derivative = sm.diff(profit_function, ell_t)\n",
    "\n",
    "# Set the derivative equal to zero and solve for ell\n",
    "optimal_ell = sm.solve(derivative, ell_t)\n",
    "\n",
    "# Print the optimal ell expression\n",
    "print(\"Optimal ell expression:\")\n",
    "print(optimal_ell)"
   ]
  },
  {
   "cell_type": "code",
   "execution_count": null,
   "metadata": {},
   "outputs": [],
   "source": [
    "eta = 0.5\n",
    "w = 1.0\n",
    "kappa_values = [1.0, 2.0]\n",
    "\n",
    "for kappa in kappa_values:\n",
    "    # Calculate ell_t\n",
    "    ell_t = (kappa * (1 - eta) / w) ** (1 / eta)\n",
    "\n",
    "    # Calculate profits\n",
    "    profits = kappa * ell_t ** (1 - eta) - w * ell_t\n",
    "\n",
    "    # Print the results\n",
    "    print(f\"For kappa = {kappa:.1f}, the maximum profit is = {profits:.2f}\")\n"
   ]
  },
  {
   "attachments": {},
   "cell_type": "markdown",
   "metadata": {},
   "source": [
    "We now consider a *dynamic* version of the model.\n",
    "\n",
    "* The demand-shock is a so-called AR(1) in logs, \n",
    "\n",
    "$$\n",
    "\\log \\kappa_{t} = \\rho \\log \\kappa_{t-1} + \\epsilon_{t},\\,\\,\\, \\epsilon_{t+1} \\sim \\mathcal{N}(-0.5\\sigma_{\\epsilon}^2,\\sigma_{\\epsilon})\n",
    "$$\n",
    "\n",
    "* Any hiring or firing implies a fixed adjustment cost, $\\iota > 0 $.\n",
    "* Future profits are discounted with a monthly factor of $R \\in (0,1)$.\n",
    "\n",
    "The initial demand shock is $\\kappa_{-1} = 1$ and the planning horizon is 10 years, i.e. 120 months so $t \\in \\{0,1,2,\\dots,119\\}$. Initially you don't have any employees, $\\ell_{-1}=0$"
   ]
  },
  {
   "attachments": {},
   "cell_type": "markdown",
   "metadata": {},
   "source": [
    "\n",
    "The *ex post* value of the salon is *conditional* on the shock series is:\n",
    "\n",
    "$$\n",
    "h(\\epsilon_0,\\epsilon_1,\\dots,\\epsilon_{119}) = \\left[\\sum_{t=0}^{119}R^{-t}\\left[\\kappa_{t}\\ell_{t}^{1-\\eta}-w\\ell_{t}-\\boldsymbol{1}_{\\ell_{t}\\neq\\ell_{t-1}}\\iota\\right]\\right]\n",
    "$$\n",
    "\n",
    "The *ex ante* expected value of the salon can be approximated by\n",
    "\n",
    "$$\n",
    "H = \\mathbb{E}[h(\\epsilon_0,\\epsilon_1,\\dots,\\epsilon_{119})] \\approx \\frac{1}{K}\\sum_{k=0}^{K} h(\\epsilon_0^k,\\epsilon_1^k,\\dots,\\epsilon_{119}^k)\n",
    "$$\n",
    "\n",
    "where each $k\\in\\{0,1,\\dots,K-1\\}$ is a random shock series. Maximizing profitability means maximizing $H$.\n"
   ]
  },
  {
   "attachments": {},
   "cell_type": "markdown",
   "metadata": {},
   "source": [
    "Baseline parameters are: \n",
    "\n",
    "- $\\rho = 0.90$\n",
    "- $\\iota = 0.01$\n",
    "- $\\sigma_{\\epsilon} = 0.10$\n",
    "- $R = \\left(1+0.01\\right)^{1/12}$"
   ]
  },
  {
   "attachments": {},
   "cell_type": "markdown",
   "metadata": {},
   "source": [
    "**Question 2:** Calculate $H$ if the policy  $\\ell_{t}=\\left(\\frac{(1-\\eta)\\kappa_{t}}{w}\\right)^{\\frac{1}{\\eta}}$ from question 1 is followed. Choose $K$ so the approximation is good enough to not affect your results substantially."
   ]
  },
  {
   "cell_type": "code",
   "execution_count": null,
   "metadata": {},
   "outputs": [],
   "source": [
    "import numpy as np\n",
    "\n",
    "eta = 0.5\n",
    "w = 1.0\n",
    "rho = 0.90\n",
    "iota = 0.01\n",
    "sigma_epsilon = 0.10\n",
    "R = (1 + 0.01) ** (1 / 12)\n",
    "K = 1000  # Number of shock series\n",
    "\n",
    "# Simulate shock series\n",
    "np.random.seed(1)\n",
    "epsilon_series = np.random.normal(-0.5 * sigma_epsilon**2, sigma_epsilon, size=(K, 120))\n",
    "\n",
    "# Calculate value function for each shock series\n",
    "value_functions = []\n",
    "for k in range(K):\n",
    "    kappa_series = np.exp(np.zeros(120))\n",
    "    ell_series = np.zeros(120)\n",
    "    value_function = 0\n",
    "\n",
    "    for t in range(120):\n",
    "        kappa_series[t] = np.exp(rho * np.log(kappa_series[t - 1]) + epsilon_series[k, t])\n",
    "        ell_series[t] = (1 - eta) * kappa_series[t] / w ** (1 / eta)\n",
    "\n",
    "        if t > 0 and ell_series[t] != ell_series[t - 1]:\n",
    "            value_function += R ** (-t) * (kappa_series[t] * ell_series[t] ** (1 - eta) - w * ell_series[t] - iota)\n",
    "\n",
    "    value_functions.append(value_function)\n",
    "\n",
    "# Calculate expected value of the salon\n",
    "H = np.mean(value_functions)\n",
    "\n",
    "print(f\"Expected value of the salon (H): {H}\")\n"
   ]
  },
  {
   "attachments": {},
   "cell_type": "markdown",
   "metadata": {},
   "source": [
    "We have chosen K=1000. Higher values of K provide more precise estimations of the expected value, but also increases the loading time in visual code. "
   ]
  },
  {
   "attachments": {},
   "cell_type": "markdown",
   "metadata": {},
   "source": [
    "Next, we consider policies on the form:\n",
    "\n",
    "$$\n",
    "\n",
    "\\ell_{t}=\\begin{cases}\n",
    "\\ell_t^{\\ast}  & \\text{if }\\left|\\ell_{t-1}-\\ell_t^{\\ast} \\right|>\\Delta\\\\\n",
    "\\ell_{t-1} & \\text{else }\n",
    "\\end{cases}\n",
    "\\\\\n",
    "\\text{where}\\,\\,\\ell_t^{\\ast} = \\left(\\frac{(1-\\eta)\\kappa_{t}}{w}\\right)^{\\frac{1}{\\eta}} \\\\\n",
    "\n",
    "$$\n",
    "With $\\Delta \\geq 0$ and $\\Delta = 0$ being the previous policy.\n"
   ]
  },
  {
   "attachments": {},
   "cell_type": "markdown",
   "metadata": {},
   "source": [
    "\n",
    "**Question 3:** Calculate $H$ if the policy above was followed with $\\Delta = 0.05$. Does it improve profitability?"
   ]
  },
  {
   "cell_type": "code",
   "execution_count": null,
   "metadata": {},
   "outputs": [],
   "source": [
    "eta = 0.5\n",
    "w = 1.0\n",
    "rho = 0.90\n",
    "iota = 0.01\n",
    "sigma_epsilon = 0.10\n",
    "R = (1 + 0.01) ** (1 / 12)\n",
    "K = 1000  # Number of shock series\n",
    "delta = 0.05  # Adjustment threshold\n",
    "\n",
    "# Simulate shock series\n",
    "np.random.seed(1)\n",
    "epsilon_series = np.random.normal(-0.5 * sigma_epsilon**2, sigma_epsilon, size=(K, 120))\n",
    "\n",
    "# Calculate value function for each shock series\n",
    "value_functions = []\n",
    "for k in range(K):\n",
    "    kappa_series = np.exp(np.zeros(120))\n",
    "    ell_series = np.zeros(120)\n",
    "    value_function = 0\n",
    "\n",
    "    for t in range(120):\n",
    "        kappa_series[t] = np.exp(rho * np.log(kappa_series[t - 1]) + epsilon_series[k, t])\n",
    "\n",
    "        ell_star = (1 - eta) * kappa_series[t] / w ** (1 / eta)\n",
    "\n",
    "        if t == 0 or abs(ell_series[t - 1] - ell_star) > delta:\n",
    "            ell_series[t] = ell_star\n",
    "        else:\n",
    "            ell_series[t] = ell_series[t - 1]\n",
    "\n",
    "        if t > 0 and ell_series[t] != ell_series[t - 1]:\n",
    "            value_function += R ** (-t) * (kappa_series[t] * ell_series[t] ** (1 - eta) - w * ell_series[t] - iota)\n",
    "\n",
    "    value_functions.append(value_function)\n",
    "\n",
    "# Calculate expected value of the salon\n",
    "H = np.mean(value_functions)\n",
    "\n",
    "print(f\"New expected value of the salon (H): {H}\")\n"
   ]
  },
  {
   "attachments": {},
   "cell_type": "markdown",
   "metadata": {},
   "source": [
    "The value of $H$ obtained with the updated policy is lower than the value obtained with the previous policy, it suggests that the new policy with $\\Delta = 0.05$ does not improve profitability compared to the previous policy.\n",
    "\n"
   ]
  },
  {
   "attachments": {},
   "cell_type": "markdown",
   "metadata": {},
   "source": [
    "**Question 4:** Find the optimal $\\Delta$ maximizing $H$. Illustrate your result."
   ]
  },
  {
   "cell_type": "code",
   "execution_count": null,
   "metadata": {},
   "outputs": [],
   "source": [
    "eta = 0.5\n",
    "w = 1.0\n",
    "rho = 0.90\n",
    "iota = 0.01\n",
    "sigma_epsilon = 0.10\n",
    "R = (1 + 0.01) ** (1 / 12)\n",
    "K = 1000  # Number of shock series\n",
    "\n",
    "delta_values = np.linspace(0, 0.1, 100)  # Range of delta values to search over\n",
    "H_values = []\n",
    "\n",
    "# Simulate shock series\n",
    "np.random.seed(1)\n",
    "epsilon_series = np.random.normal(-0.5 * sigma_epsilon ** 2, sigma_epsilon, size=(K, 120))\n",
    "\n",
    "# Calculate value function for each delta value\n",
    "for delta in delta_values:\n",
    "    value_functions = []\n",
    "    for k in range(K):\n",
    "        kappa_series = np.exp(np.zeros(120))\n",
    "        ell_series = np.zeros(120)\n",
    "        value_function = 0\n",
    "\n",
    "        for t in range(120):\n",
    "            kappa_series[t] = np.exp(rho * np.log(kappa_series[t - 1]) + epsilon_series[k, t])\n",
    "\n",
    "            ell_star = (1 - eta) * kappa_series[t] / w ** (1 / eta)\n",
    "\n",
    "            if t == 0 or abs(ell_series[t - 1] - ell_star) > delta:\n",
    "                ell_series[t] = ell_star\n",
    "            else:\n",
    "                ell_series[t] = ell_series[t - 1]\n",
    "\n",
    "            if t > 0 and ell_series[t] != ell_series[t - 1]:\n",
    "                value_function += R ** (-t) * (\n",
    "                        kappa_series[t] * ell_series[t] ** (1 - eta) - w * ell_series[t] - iota)\n",
    "\n",
    "        value_functions.append(value_function)\n",
    "\n",
    "    # Calculate expected value of the salon for the current delta value\n",
    "    H = np.mean(value_functions)\n",
    "    H_values.append(H)\n",
    "\n",
    "# Find the optimal delta that maximizes H\n",
    "optimal_delta = delta_values[np.argmax(H_values)]\n",
    "max_H = np.max(H_values)\n",
    "\n",
    "# Plot the results\n",
    "plt.plot(delta_values, H_values)\n",
    "plt.xlabel('Delta')\n",
    "plt.ylabel('Expected value of the salon (H)')\n",
    "plt.title('Optimization of Delta')\n",
    "plt.axvline(x=optimal_delta, color='r', linestyle='--', label='Optimal Delta')\n",
    "plt.legend()\n",
    "plt.show()\n",
    "\n",
    "print(f\"Optimal Delta: {optimal_delta}\")\n",
    "print(f\"Maximum H value: {max_H}\")\n"
   ]
  },
  {
   "attachments": {},
   "cell_type": "markdown",
   "metadata": {},
   "source": [
    "\n",
    "**Question 5:** Suggest an alternative policy you believe might improve profitability. Implement and test your policy.\n",
    "\n"
   ]
  },
  {
   "cell_type": "code",
   "execution_count": null,
   "metadata": {},
   "outputs": [],
   "source": [
    "# write your code here"
   ]
  },
  {
   "attachments": {},
   "cell_type": "markdown",
   "metadata": {},
   "source": [
    "## 3. <a id='toc3_'></a>[Problem 3: Global optimizer with refined multi-start](#toc0_)"
   ]
  },
  {
   "attachments": {},
   "cell_type": "markdown",
   "metadata": {},
   "source": [
    "We consider the Griewank function:\n",
    "\n",
    "$$ f(\\boldsymbol{x}) = \\sum^n_{i=1} \\frac{x^2_i}{4000}-\\prod^n_{i=1}\\cos\\left(\\frac{x_i}{\\sqrt{i}}\\right)+1$$\n",
    "\n",
    "The **global minimum** of this function is $f(0,0) = 0$ (remember: $\\cos(0)=1$).<br>\n",
    "But the function also have a lot of **local minima**."
   ]
  },
  {
   "attachments": {},
   "cell_type": "markdown",
   "metadata": {},
   "source": [
    "A **refined global optimizer with multi-start** is:\n",
    "\n",
    "1. Choose *bounds* for $\\mathbf{x}$ and *tolerance* $\\tau > 0$.\n",
    "2. Choose number of *warm-up iterations*, $\\underline{K} > 0$ and *maximum number of iterations*, $K > \\underline{K}$.\n",
    "3. In each iteration for $k \\in \\{0,1,\\dots,K-1\\}$:\n",
    "\n",
    "    A. Draw random $\\mathbf{x}^k$ uniformly within chosen bounds.\n",
    "\n",
    "    B. If $k < \\underline{K}$ go to step E.\n",
    "\n",
    "    C. Calculate $\\chi^k = 0.50\\cdot\\frac{2}{1+\\exp((k-\\underline{K})/100)}$  \n",
    "\n",
    "    D. Set $\\mathbf{x}^{k0} = \\chi^k \\mathbf{x}^k + (1-\\chi^k)\\mathbf{x}^{\\ast} $\n",
    "\n",
    "    E. Run optimizer with $\\mathbf{x}^{k0}$ as initial guess and $\\mathbf{x}^{k\\ast}$ as result.\n",
    "\n",
    "    F. Set $\\mathbf{x}^{\\ast} = \\mathbf{x}^{k\\ast}$ if $k = 0$ or $f(\\mathbf{x}^{k\\ast}) < f(\\mathbf{x}^{\\ast})$\n",
    "\n",
    "    G. If $f(\\mathbf{x}^{\\ast}) < \\tau$ go to step 4.\n",
    "\n",
    "4. Return the result $\\mathbf{x}^{\\ast}$."
   ]
  },
  {
   "attachments": {},
   "cell_type": "markdown",
   "metadata": {},
   "source": [
    "As settings we choose:\n",
    "\n",
    "* $x_1,x_2 \\in  [-600,600]$\n",
    "* $\\tau = 10^{-8}$\n",
    "* $\\underline{K}=10$\n",
    "* $K=1000$\n",
    "\n",
    "The optimizer in Step 3.E is `BFGS` with a tolerance of $\\tau$."
   ]
  },
  {
   "attachments": {},
   "cell_type": "markdown",
   "metadata": {},
   "source": [
    "**Question 1:** Implement the refined global optimizer with multi-start. Illustrate how the effective initial guesses $\\mathbf{x}^{k0}$ vary with the iteration counter $k$."
   ]
  },
  {
   "cell_type": "code",
   "execution_count": 194,
   "metadata": {},
   "outputs": [
    {
     "name": "stdout",
     "output_type": "stream",
     "text": [
      "   0: x^k = (  82.65, -507.19) -> x^k0 = (  82.65, -507.19)\n",
      "   1: x^k = ( 130.18,  477.00) -> x^k0 = ( 130.18,  477.00)\n",
      "   2: x^k = (  53.89,  243.27) -> x^k0 = (  53.89,  243.27)\n",
      "   3: x^k = (-136.64,  181.99) -> x^k0 = (-136.64,  181.99)\n",
      "   4: x^k = ( 228.06,  262.36) -> x^k0 = ( 228.06,  262.36)\n",
      "   5: x^k = ( 228.22,  368.17) -> x^k0 = ( 228.22,  368.17)\n",
      "   6: x^k = (-259.50,  309.21) -> x^k0 = (-259.50,  309.21)\n",
      "   7: x^k = (-230.91,  -74.51) -> x^k0 = (-230.91,  -74.51)\n",
      "   8: x^k = (  63.24,  -80.57) -> x^k0 = (  63.24,  -80.57)\n",
      "   9: x^k = (  93.14,  470.65) -> x^k0 = (  93.14,  470.65)\n",
      " 233: x^k = ( -68.99,  109.95) -> x^k0 = (  -1.03,    2.66)\n",
      "Converged at iteration: 234\n"
     ]
    },
    {
     "data": {
      "image/png": "[encoded data removed]",
      "text/plain": [
       "<Figure size 640x480 with 2 Axes>"
      ]
     },
     "metadata": {},
     "output_type": "display_data"
    }
   ],
   "source": [
    "import numpy as np\n",
    "import matplotlib.pyplot as plt\n",
    "from scipy import optimize\n",
    "\n",
    "def griewank(x):\n",
    "    return griewank_(x[0], x[1])\n",
    "\n",
    "def griewank_(x1, x2):\n",
    "    A = x1**2 / 4000 + x2**2 / 4000\n",
    "    B = np.cos(x1 / np.sqrt(1)) * np.cos(x2 / np.sqrt(2))\n",
    "    return A - B + 1\n",
    "\n",
    "np.random.seed(1986)\n",
    "bounds = [-600, 600]\n",
    "tau = 1e-8\n",
    "warm_up_iterations = 10\n",
    "max_iterations = 1000\n",
    "\n",
    "x_opt = np.nan\n",
    "f_opt = np.inf\n",
    "\n",
    "x_k0_values = []  # List to store x^k0 values\n",
    "iteration_numbers = []  # List to store iteration numbers\n",
    "\n",
    "for k in range(max_iterations):\n",
    "    x_k = np.random.uniform(bounds[0], bounds[1], size=2)\n",
    "    \n",
    "    if k >= warm_up_iterations:\n",
    "        chi_k = 0.50 * 2 / (1 + np.exp((k - warm_up_iterations) / 100))\n",
    "        x_k0 = chi_k * x_k + (1 - chi_k) * x_opt\n",
    "    else:\n",
    "        x_k0 = x_k\n",
    "    \n",
    "    result = optimize.minimize(griewank, x_k0, method='BFGS', tol=tau)\n",
    "    x_k_opt = result.x\n",
    "    f_k_opt = result.fun\n",
    "    \n",
    "    if k == 0 or f_k_opt < f_opt:\n",
    "        x_opt = x_k_opt\n",
    "        f_opt = f_k_opt\n",
    "    \n",
    "    x_k0_values.append(x_k0)\n",
    "    iteration_numbers.append(k+1)\n",
    "    \n",
    "    if k < 10 or f_opt < tau:\n",
    "        print(f'{k:4d}: x^k = ({x_k[0]:7.2f}, {x_k[1]:7.2f}) -> x^k0 = ({x_k0[0]:7.2f}, {x_k0[1]:7.2f})')\n",
    "    \n",
    "    if f_opt < tau:\n",
    "        break\n",
    "\n",
    "# Convert the lists to NumPy arrays for easier manipulation\n",
    "x_k0_values = np.array(x_k0_values)\n",
    "iteration_numbers = np.array(iteration_numbers)\n",
    "\n",
    "# Print convergence iteration number\n",
    "print(f'Converged at iteration: {k+1}')\n",
    "\n",
    "# Create the separate graph for x^k0\n",
    "fig, ax = plt.subplots()\n",
    "plt.scatter(x_k0_values[:, 0], x_k0_values[:, 1], c=iteration_numbers, cmap='viridis')\n",
    "plt.colorbar(label='Iteration Number')\n",
    "plt.xlabel('x1')\n",
    "plt.ylabel('x2')\n",
    "plt.title('Effective Initial Guesses x^k0 vs. Iteration Number')\n",
    "plt.show()\n"
   ]
  },
  {
   "attachments": {},
   "cell_type": "markdown",
   "metadata": {},
   "source": [
    "**Question 2:** Is it a better idea to set $\\underline{K} = 100$? Is the convergence faster?"
   ]
  },
  {
   "cell_type": "code",
   "execution_count": 196,
   "metadata": {},
   "outputs": [
    {
     "name": "stdout",
     "output_type": "stream",
     "text": [
      "   0: x^k = (  82.65, -507.19) -> x^k0 = (  82.65, -507.19)\n",
      "   1: x^k = ( 130.18,  477.00) -> x^k0 = ( 130.18,  477.00)\n",
      "   2: x^k = (  53.89,  243.27) -> x^k0 = (  53.89,  243.27)\n",
      "   3: x^k = (-136.64,  181.99) -> x^k0 = (-136.64,  181.99)\n",
      "   4: x^k = ( 228.06,  262.36) -> x^k0 = ( 228.06,  262.36)\n",
      "   5: x^k = ( 228.22,  368.17) -> x^k0 = ( 228.22,  368.17)\n",
      "   6: x^k = (-259.50,  309.21) -> x^k0 = (-259.50,  309.21)\n",
      "   7: x^k = (-230.91,  -74.51) -> x^k0 = (-230.91,  -74.51)\n",
      "   8: x^k = (  63.24,  -80.57) -> x^k0 = (  63.24,  -80.57)\n",
      "   9: x^k = (  93.14,  470.65) -> x^k0 = (  93.14,  470.65)\n",
      " 447: x^k = ( -98.43, -170.43) -> x^k0 = (   0.07,   -0.84)\n",
      "Converged at iteration: 448\n"
     ]
    },
    {
     "data": {
      "image/png": "[encoded data removed]",
      "text/plain": [
       "<Figure size 640x480 with 2 Axes>"
      ]
     },
     "metadata": {},
     "output_type": "display_data"
    }
   ],
   "source": [
    "import numpy as np\n",
    "import matplotlib.pyplot as plt\n",
    "from scipy import optimize\n",
    "\n",
    "def griewank(x):\n",
    "    return griewank_(x[0], x[1])\n",
    "\n",
    "def griewank_(x1, x2):\n",
    "    A = x1**2 / 4000 + x2**2 / 4000\n",
    "    B = np.cos(x1 / np.sqrt(1)) * np.cos(x2 / np.sqrt(2))\n",
    "    return A - B + 1\n",
    "\n",
    "np.random.seed(1986)\n",
    "bounds = [-600, 600]\n",
    "tau = 1e-8\n",
    "warm_up_iterations = 100\n",
    "max_iterations = 1000\n",
    "\n",
    "x_opt = np.nan\n",
    "f_opt = np.inf\n",
    "\n",
    "x_k0_values = []  # List to store x^k0 values\n",
    "iteration_numbers = []  # List to store iteration numbers\n",
    "\n",
    "for k in range(max_iterations):\n",
    "    x_k = np.random.uniform(bounds[0], bounds[1], size=2)\n",
    "    \n",
    "    if k >= warm_up_iterations:\n",
    "        chi_k = 0.50 * 2 / (1 + np.exp((k - warm_up_iterations) / 100))\n",
    "        x_k0 = chi_k * x_k + (1 - chi_k) * x_opt\n",
    "    else:\n",
    "        x_k0 = x_k\n",
    "    \n",
    "    result = optimize.minimize(griewank, x_k0, method='BFGS', tol=tau)\n",
    "    x_k_opt = result.x\n",
    "    f_k_opt = result.fun\n",
    "    \n",
    "    if k == 0 or f_k_opt < f_opt:\n",
    "        x_opt = x_k_opt\n",
    "        f_opt = f_k_opt\n",
    "    \n",
    "    x_k0_values.append(x_k0)\n",
    "    iteration_numbers.append(k+1)\n",
    "    \n",
    "    if k < 10 or f_opt < tau:\n",
    "        print(f'{k:4d}: x^k = ({x_k[0]:7.2f}, {x_k[1]:7.2f}) -> x^k0 = ({x_k0[0]:7.2f}, {x_k0[1]:7.2f})')\n",
    "    \n",
    "    if f_opt < tau:\n",
    "        break\n",
    "\n",
    "# Convert the lists to NumPy arrays for easier manipulation\n",
    "x_k0_values = np.array(x_k0_values)\n",
    "iteration_numbers = np.array(iteration_numbers)\n",
    "\n",
    "# Print convergence iteration number\n",
    "print(f'Converged at iteration: {k+1}')\n",
    "\n",
    "# Create the separate graph for x^k0\n",
    "fig, ax = plt.subplots()\n",
    "plt.scatter(x_k0_values[:, 0], x_k0_values[:, 1], c=iteration_numbers, cmap='viridis')\n",
    "plt.colorbar(label='Iteration Number')\n",
    "plt.xlabel('x1')\n",
    "plt.ylabel('x2')\n",
    "plt.title('Effective Initial Guesses x^k0 vs. Iteration Number')\n",
    "plt.show()\n"
   ]
  }
 ],
 "metadata": {
  "kernelspec": {
   "display_name": "base",
   "language": "python",
   "name": "python3"
  },
  "language_info": {
   "codemirror_mode": {
    "name": "ipython",
    "version": 3
   },
   "file_extension": ".py",
   "mimetype": "text/x-python",
   "name": "python",
   "nbconvert_exporter": "python",
   "pygments_lexer": "ipython3",
   "version": "3.9.13"
  },
  "orig_nbformat": 4,
  "vscode": {
   "interpreter": {
    "hash": "f3b51e819bc11dd36f9785fabc699cfbf6a066dcb80d697c76b1569915f425ca"
   }
  }
 },
 "nbformat": 4,
 "nbformat_minor": 2
}
