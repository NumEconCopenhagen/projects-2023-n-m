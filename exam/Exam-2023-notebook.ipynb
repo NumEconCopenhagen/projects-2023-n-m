{
 "cells": [
  {
   "attachments": {},
   "cell_type": "markdown",
   "metadata": {},
   "source": [
    "# Exam #"
   ]
  },
  {
   "attachments": {},
   "cell_type": "markdown",
   "metadata": {},
   "source": [
    "By Nina Frandsen Jensen & Mathilde Maix"
   ]
  },
  {
   "attachments": {},
   "cell_type": "markdown",
   "metadata": {},
   "source": [
    "**Table of contents**<a id='toc0_'></a>    \n",
    "- 1. [Problem 1: Optimal taxation with government consumption](#toc1_)    \n",
    "- 2. [Problem 2: Labor adjustment costs](#toc2_)    \n",
    "- 3. [Problem 3: Global optimizer with refined multi-start](#toc3_)    \n",
    "\n",
    "<!-- vscode-jupyter-toc-config\n",
    "\tnumbering=true\n",
    "\tanchor=true\n",
    "\tflat=false\n",
    "\tminLevel=2\n",
    "\tmaxLevel=6\n",
    "\t/vscode-jupyter-toc-config -->\n",
    "<!-- THIS CELL WILL BE REPLACED ON TOC UPDATE. DO NOT WRITE YOUR TEXT IN THIS CELL -->"
   ]
  },
  {
   "cell_type": "code",
   "execution_count": 226,
   "metadata": {},
   "outputs": [
    {
     "name": "stdout",
     "output_type": "stream",
     "text": [
      "The autoreload extension is already loaded. To reload it, use:\n",
      "  %reload_ext autoreload\n"
     ]
    }
   ],
   "source": [
    "# Imports \n",
    "import math \n",
    "import scipy.optimize\n",
    "import numpy as np\n",
    "import pandas as pd\n",
    "import sympy as sm\n",
    "from scipy import optimize\n",
    "from tabulate import tabulate\n",
    "from scipy import optimize\n",
    "from sympy import symbols, lambdify\n",
    "from scipy.optimize import minimize_scalar\n",
    "from matplotlib import pyplot as plt\n",
    "\n",
    "# autoreload modules when code is run\n",
    "%load_ext autoreload\n",
    "%autoreload 2\n",
    "\n",
    "import Exam"
   ]
  },
  {
   "attachments": {},
   "cell_type": "markdown",
   "metadata": {},
   "source": [
    "## 1. <a id='toc1_'></a>[Problem 1: Optimal taxation with government consumption](#toc0_)"
   ]
  },
  {
   "attachments": {},
   "cell_type": "markdown",
   "metadata": {},
   "source": [
    "\n",
    "Consider a worker choosing hours of labor, $L\\in[0,24]$, to maximize utility: \n",
    "\n",
    "$$\n",
    "\\begin{align*}\n",
    "V(w,\\tau,G)&=\\max_{L\\in[0,24]}\\ln\\left(C^{\\alpha}G^{1-\\alpha}\\right)-\\nu\\frac{L^{2}}{2}\\\\&\\text{s.t.}\\\\&C=\\kappa+(1-\\tau)wL\n",
    "\\end{align*}\n",
    "$$\n",
    "\n",
    "where \n",
    "\n",
    "* $C$ is *private* consumption with weight $\\alpha\\in(0,1)$.\n",
    "* $\\kappa > 0$ is the *free private* consumption component.\n",
    "* $C = (1-\\tau)wL$ is the *costly private* consumption component.\n",
    "* $w > 0 $ is the real wage.\n",
    "* $\\tau \\in (0,1)$ is the labor-income tax rate.\n",
    "* $G > 0 $ is *government* consumption with weight $1-\\alpha$.\n",
    "* $\\nu > 0$ is the disutility of labor scaling factor"
   ]
  },
  {
   "attachments": {},
   "cell_type": "markdown",
   "metadata": {},
   "source": [
    "\n",
    "The baseline parameters are:\n",
    "\n",
    "$$\n",
    "\\begin{align*}\n",
    "\\alpha &= 0.5\\\\\n",
    "\\kappa &= 1.0\\\\\n",
    "\\nu &= \\frac{1}{2\\cdot16^2} \\\\\n",
    "w &= 1.0 \\\\ \n",
    "\\tau &= 0.30 \\\\\n",
    "\\end{align*}\n",
    "$$"
   ]
  },
  {
   "attachments": {},
   "cell_type": "markdown",
   "metadata": {},
   "source": [
    "**Question 1:** Verify that the optimal labor supply choice is $L^{\\star}(\\tilde{w}) =\\frac{-\\kappa+\\sqrt{\\kappa^{2}+4\\frac{\\alpha}{\\nu}\\tilde{w}^2}}{2\\tilde{w}}$, where $\\tilde{w} = (1-\\tau)w$, for $G\\in\\left\\{1.0 , 2.0\\right\\}$."
   ]
  },
  {
   "cell_type": "code",
   "execution_count": 227,
   "metadata": {},
   "outputs": [
    {
     "data": {
      "text/latex": [
       "$\\displaystyle \\frac{0.5 \\left(- \\kappa \\nu - \\sqrt{\\nu \\left(4.0 \\alpha w_{tilde}^{2} + \\kappa^{2} \\nu\\right)}\\right)}{\\nu w_{tilde}}$"
      ],
      "text/plain": [
       "0.5*(-kappa*nu - sqrt(nu*(4.0*alpha*w_tilde**2 + kappa**2*nu)))/(nu*w_tilde)"
      ]
     },
     "execution_count": 227,
     "metadata": {},
     "output_type": "execute_result"
    }
   ],
   "source": [
    "import Question1\n",
    "from Question1 import OptimalLCalculator\n",
    "calculator = OptimalLCalculator()\n",
    "G_values = [1.0, 2.0]\n",
    "optimal_L = calculator.calculate_optimal_L(G_values)\n",
    "optimal_L[0]\n"
   ]
  },
  {
   "attachments": {},
   "cell_type": "markdown",
   "metadata": {},
   "source": [
    "DETTE KAN EVT. SLETTES, HVIS CLASS FUNGERER"
   ]
  },
  {
   "attachments": {},
   "cell_type": "markdown",
   "metadata": {},
   "source": [
    "We have verified that $L^{\\star}(\\tilde{w}) =\\frac{-\\kappa+\\sqrt{\\kappa^{2}+4\\frac{\\alpha}{\\nu}\\tilde{w}^2}}{2\\tilde{w}}$ where $\\tilde{w} = (1-\\tau)w$ is the optimal labor supply  choice for $G\\in\\left\\{1.0 , 2.0\\right\\}$. Our expression is not exactly identically expressed, but it is the same function, as \n",
    "\n",
    "$$\\frac{-\\kappa+\\sqrt{\\kappa^{2}+4\\frac{\\alpha}{\\nu}\\tilde{w}^2}}{2\\tilde{w}} =\\frac{0.5(-\\kappa\\nu-\\sqrt{\\nu(4\\alpha \\tilde{w}^{2}+\\kappa^{2}}\\nu)}{\\tilde{w}\\nu}$$"
   ]
  },
  {
   "attachments": {},
   "cell_type": "markdown",
   "metadata": {},
   "source": [
    "**Question 2:** Illustrate how $L^{\\star}(\\tilde{w})$ depends on $w$."
   ]
  },
  {
   "attachments": {},
   "cell_type": "markdown",
   "metadata": {},
   "source": [
    "To illustrate how $L^{\\star}(\\tilde{w})$ depends on $w$ we plot the optimal labor supply choice in a graph. "
   ]
  },
  {
   "cell_type": "code",
   "execution_count": 228,
   "metadata": {},
   "outputs": [
    {
     "data": {
      "image/png": "[encoded data removed]",
      "text/plain": [
       "<Figure size 640x480 with 1 Axes>"
      ]
     },
     "metadata": {},
     "output_type": "display_data"
    }
   ],
   "source": [
    "kappa = 1.0\n",
    "alpha = 0.5\n",
    "nu = 1 / (2 * 16**2)\n",
    "tau = 0.30\n",
    "w = np.linspace(-10, 10, 100)  # Generate an array of w values\n",
    "\n",
    "calculator = OptimalLCalculator()\n",
    "calculator.plot_L_star(kappa, alpha, nu, tau, w)\n"
   ]
  },
  {
   "attachments": {},
   "cell_type": "markdown",
   "metadata": {},
   "source": [
    "The variable $\\tilde{w} represents the after-tax real wage and is used in the utility maximization problem to account for the influence of taxation on the worker's decision-making. By incorporating the after-tax real wage, the model considers the trade-off between work and leisure, which allows us to analysise how taxation influences labor supply choices.\n",
    "\n",
    "The graph of $L^*$ as a function of $\\tilde{w}$ illustrates the relationship between the optimal labor supply choice and the after-tax real wage. It lets us understand how changes in the after-tax real wage affect the worker's decision to supply labor. The graph converges towards a point where further increases in the after-tax real wage has diminishing effects on the optimal labor supply choice. At this saturation point, workers may have satisfied their level of consumption and will prefer to use more time on leisure activities rather than labor."
   ]
  },
  {
   "attachments": {},
   "cell_type": "markdown",
   "metadata": {},
   "source": [
    "\n",
    "We now consider a government, who chooses $\\tau$ and spend all of the taxes on government consumption so:\n",
    "\n",
    "$$\n",
    "G = \\tau w L^{\\star}((1-\\tau)w)\n",
    "$$\n",
    "\n",
    "**Question 3:** Plot the implied $L$, $G$ and worker utility for a grid of $\\tau$-values.\n"
   ]
  },
  {
   "cell_type": "code",
   "execution_count": 229,
   "metadata": {},
   "outputs": [
    {
     "name": "stderr",
     "output_type": "stream",
     "text": [
      "/Users/mathildemaix/projects-2023-n-m-3/exam/Question1.py:53: RuntimeWarning: invalid value encountered in true_divide\n",
      "  \n",
      "/Users/mathildemaix/projects-2023-n-m-3/exam/Question1.py:60: RuntimeWarning: invalid value encountered in true_divide\n",
      "  \n",
      "/Users/mathildemaix/projects-2023-n-m-3/exam/Question1.py:65: RuntimeWarning: divide by zero encountered in log\n",
      "  return np.max(utility)\n",
      "/Users/mathildemaix/projects-2023-n-m-3/exam/Question1.py:53: RuntimeWarning: invalid value encountered in double_scalars\n",
      "  \n"
     ]
    },
    {
     "data": {
      "image/png": "[encoded data removed]",
      "text/plain": [
       "<Figure size 1000x600 with 3 Axes>"
      ]
     },
     "metadata": {},
     "output_type": "display_data"
    }
   ],
   "source": [
    "kappa = 1.0\n",
    "alpha = 0.5\n",
    "nu = 1 / (2 * 16**2)\n",
    "w = 1.0\n",
    "\n",
    "calculator = OptimalLCalculator()\n",
    "calculator.plot_question3(kappa, alpha, nu, w)"
   ]
  },
  {
   "attachments": {},
   "cell_type": "markdown",
   "metadata": {},
   "source": [
    "TEXT TIL GRAFER"
   ]
  },
  {
   "attachments": {},
   "cell_type": "markdown",
   "metadata": {},
   "source": [
    "**Question 4:** Find the socially optimal tax rate $\\tau^{\\star}\\in(0,1)$ maximizing worker utility. Illustrate your result."
   ]
  },
  {
   "cell_type": "code",
   "execution_count": 230,
   "metadata": {},
   "outputs": [
    {
     "name": "stderr",
     "output_type": "stream",
     "text": [
      "/Users/mathildemaix/projects-2023-n-m-3/exam/Question1.py:105: RuntimeWarning: divide by zero encountered in log\n",
      "  \n",
      "/Users/mathildemaix/projects-2023-n-m-3/exam/Question1.py:102: RuntimeWarning: invalid value encountered in double_scalars\n",
      "  G = tau * w * L_star*((1-tau)*w)\n"
     ]
    },
    {
     "data": {
      "image/png": "[encoded data removed]",
      "text/plain": [
       "<Figure size 640x480 with 1 Axes>"
      ]
     },
     "metadata": {},
     "output_type": "display_data"
    }
   ],
   "source": [
    "kappa = 1.0\n",
    "alpha = 0.5\n",
    "nu = 1 / (2 * 16**2)\n",
    "w = 1.0\n",
    "\n",
    "calculator = OptimalLCalculator()\n",
    "calculator.plot_question4(kappa, alpha, nu, w)"
   ]
  },
  {
   "attachments": {},
   "cell_type": "markdown",
   "metadata": {},
   "source": [
    "A more general preference formulation for the worker is:\n",
    "\n",
    "$$\n",
    "\\begin{align*}\n",
    "\\mathcal{V}(w,\\tau,G)&=\\max_{L\\in[0,24]}\\frac{\\left[ \\left( \\alpha C^{\\frac{\\sigma-1}{\\sigma}}+(1-\\alpha) G^{\\frac{\\sigma-1}{\\sigma}} \\right)^{\\frac{\\sigma}{\\sigma-1} }\\right]^{1-\\rho}-1}{1-\\rho}- \\nu\\frac{L^{1+\\varepsilon}}{1+\\varepsilon},\\,\\,\\,\\varepsilon,\\rho,\\sigma>0,\\,\\,\\,\\rho,\\sigma\\neq1\\\\&\\text{s.t.}\\\\&C=\\kappa+(1-\\tau)wL\n",
    "\\end{align*}    \n",
    "$$\n",
    "\n",
    "Optimal labor supply is now $L^{\\star}(\\tilde{w},G)$."
   ]
  },
  {
   "attachments": {},
   "cell_type": "markdown",
   "metadata": {},
   "source": [
    "Questions 5 and 6 must be answered with the general formulation, and for 2 different set of parameters:\n",
    "\n",
    "- Set 1:  $\\sigma = 1.001$, $\\rho = 1.001$ and $\\varepsilon = 1.0$.\n",
    "- Set 2:  $\\sigma = 1.5$, $\\rho = 1.5$ and $\\varepsilon = 1.0 $."
   ]
  },
  {
   "attachments": {},
   "cell_type": "markdown",
   "metadata": {},
   "source": [
    "**Question 5:** Find the $G$ that solves $G = \\tau w L^{\\star}((1-\\tau)w,G)$ using the $\\tau$ found in question 4.\n",
    "\n",
    "*Hint: First write code that solves the worker problem for given values of $G$ and $\\tau$. Then find the correct G based on this.*"
   ]
  },
  {
   "cell_type": "code",
   "execution_count": 231,
   "metadata": {},
   "outputs": [
    {
     "name": "stdout",
     "output_type": "stream",
     "text": [
      "Set 1:\n",
      "Optimal labor supply (L^*): 15.24923313712336\n",
      "Corresponding value of G: 5.156853233397843\n",
      "\n",
      "Set 2:\n",
      "Optimal labor supply (L^*): 10.43228138096569\n",
      "Corresponding value of G: 3.527898288139362\n"
     ]
    }
   ],
   "source": [
    "def utility(L, w, tau, G, alpha, kappa, sigma, rho, nu, epsilon):\n",
    "    C = kappa + (1 - tau) * w * L\n",
    "    return ((((alpha * C**((sigma-1)/sigma) + (1 - alpha) * G**((sigma-1)/sigma))**(sigma/(sigma-1)))**(1-rho)-1)/(1- rho)) - nu * (L**(1+epsilon))/(1+epsilon)\n",
    "\n",
    "def government(G, w, tau, alpha, kappa, sigma, rho, nu, epsilon):\n",
    "    L_opt = optimize.fminbound(lambda L: -utility(L, w, tau, G, alpha, kappa, sigma, rho, nu, epsilon), 0, 24)\n",
    "    return G - tau * w * L_opt\n",
    "\n",
    "# Parameter values for Set 1\n",
    "w =  1.0\n",
    "tau = 0.33817131261325806  # Given tau value\n",
    "alpha =  0.5\n",
    "kappa =  1.0\n",
    "nu = 1 / (2 * 16**2)\n",
    "\n",
    "# Set 1: sigma = 1.001, rho = 1.001, epsilon = 1.0\n",
    "sigma_1 = 1.001\n",
    "rho_1 = 1.001\n",
    "epsilon_1 = 1.0  # Set the value of epsilon for Set 1\n",
    "\n",
    "# Set 2: sigma = 1.5, rho = 1.5, epsilon = 1.0\n",
    "sigma_2 = 1.5\n",
    "rho_2 = 1.5\n",
    "epsilon_2 = 1.0  # Set the value of epsilon for Set 2\n",
    "\n",
    "# Solve for G for Set 1\n",
    "initial_guess = 1.0  # Initial guess for G in Set 1\n",
    "args_1 = (w, tau, alpha, kappa, sigma_1, rho_1, nu, epsilon_1)\n",
    "result_1 = optimize.root(government, initial_guess, args=args_1)\n",
    "G_solution_1 = result_1.x[0]\n",
    "L_opt_1 = optimize.fminbound(lambda L: -utility(L, w, tau, G_solution_1, alpha, kappa, sigma_1, rho_1, nu, epsilon_1), 0, 24)\n",
    "\n",
    "# Solve for G for Set 2\n",
    "initial_guess = 1.0  # Initial guess for G in Set 2\n",
    "args_2 = (w, tau, alpha, kappa, sigma_2, rho_2, nu, epsilon_2)\n",
    "result_2 = optimize.root(government, initial_guess, args=args_2)\n",
    "G_solution_2 = result_2.x[0]\n",
    "L_opt_2 = optimize.fminbound(lambda L: -utility(L, w, tau, G_solution_2, alpha, kappa, sigma_2, rho_2, nu, epsilon_2), 0, 24)\n",
    "\n",
    "# Print results\n",
    "print(\"Set 1:\")\n",
    "print(\"Optimal labor supply (L^*):\", L_opt_1)\n",
    "print(\"Corresponding value of G:\", G_solution_1)\n",
    "print()\n",
    "print(\"Set 2:\")\n",
    "print(\"Optimal labor supply (L^*):\", L_opt_2)\n",
    "print(\"Corresponding value of G:\", G_solution_2)"
   ]
  },
  {
   "attachments": {},
   "cell_type": "markdown",
   "metadata": {},
   "source": [
    "**Question 6:** Find the socially optimal tax rate, $\\tau^{\\star}$, maximizing worker utility, while keeping $G = \\tau w L^{\\star}((1-\\tau)w,G)$."
   ]
  },
  {
   "cell_type": "code",
   "execution_count": 232,
   "metadata": {},
   "outputs": [
    {
     "name": "stdout",
     "output_type": "stream",
     "text": [
      "Socially Optimal Tax Rate:  0.9999945276297217\n"
     ]
    }
   ],
   "source": [
    "import scipy.optimize as optimize\n",
    "\n",
    "def utility_function(tau, w, G, alpha, kappa, sigma, rho, epsilon, nu):\n",
    "    def objective_function(L):\n",
    "        C = kappa + (1 - tau) * w * L\n",
    "        return (((alpha * C**((sigma-1)/sigma) + (1-alpha) * G**((sigma-1)/sigma))**(sigma/(sigma-1)))**(1-rho) - 1)/(1-rho) - nu * (L**(1+epsilon))/(1+epsilon)\n",
    "    \n",
    "    result = optimize.minimize_scalar(lambda L: -objective_function(L), bounds=(0, 24), method='bounded')\n",
    "    return -result.fun  # Negate the objective function value for maximization\n",
    "\n",
    "def socially_optimal_tax_rate(w, G, alpha, kappa, sigma, rho, epsilon, nu):\n",
    "    def objective_function(tau):\n",
    "        L_star = utility_function(tau, w, G, alpha, kappa, sigma, rho, epsilon, nu)\n",
    "        return abs(G - tau * w * L_star - (1 - tau) * w * L_star)  # Equality constraint: G = tau * w * L + (1 - tau) * w * L\n",
    "    \n",
    "    result = optimize.minimize_scalar(lambda tau: -objective_function(tau), bounds=(0, 1), method='bounded')\n",
    "    return result.x\n",
    "\n",
    "# Set 2: Parameter values\n",
    "sigma = 1.5\n",
    "rho = 1.5\n",
    "epsilon = 1.0\n",
    "\n",
    "# Other inputs\n",
    "w = 10.0  # Real wage\n",
    "G = 100.0  # Government consumption\n",
    "alpha = 0.3  # Weight of private consumption\n",
    "kappa = 10.0  # Free private consumption component\n",
    "nu = 0.5  # Disutility of labor scaling factor\n",
    "\n",
    "# Calculate socially optimal tax rate\n",
    "tau_star = socially_optimal_tax_rate(w, G, alpha, kappa, sigma, rho, epsilon, nu)\n",
    "print(\"Socially Optimal Tax Rate: \", tau_star)\n"
   ]
  },
  {
   "attachments": {},
   "cell_type": "markdown",
   "metadata": {},
   "source": [
    "## 2. <a id='toc2_'></a>[Problem 2: Labor adjustment costs](#toc0_)"
   ]
  },
  {
   "attachments": {},
   "cell_type": "markdown",
   "metadata": {},
   "source": [
    "You own a hair salon. You employ hairdressers, $\\ell_t$, to produce haircuts, $y_t = \\ell_t$.\n",
    "\n",
    "The wage for each haridresser is $w$.\n",
    "\n",
    "The demand for haircuts implies that the price of haircuts you can charge is $p_t = \\kappa_t y_t^{-\\eta}$, where $\\kappa_t$ is a demand-shock and $\\eta \\in (0,1)$ measures the elasticity of demand.\n",
    "\n",
    "Profits are:\n",
    "\n",
    "$$\n",
    "\\Pi_t = p_t y_t - w \\ell_t = \\kappa_t \\ell_t^{1-\\eta} - w \\ell_t\n",
    "$$"
   ]
  },
  {
   "attachments": {},
   "cell_type": "markdown",
   "metadata": {},
   "source": [
    "Baseline parameters are:\n",
    "- $\\eta = 0.5$\n",
    "- $w = 1.0$"
   ]
  },
  {
   "attachments": {},
   "cell_type": "markdown",
   "metadata": {},
   "source": [
    "**Question 1:** Verify numerically that $\\ell_{t}=\\left(\\frac{(1-\\eta)\\kappa_{t}}{w}\\right)^{\\frac{1}{\\eta}}$ maximises profits, for $\\kappa\\in\\left\\{1.0 , 2.0\\right\\}$."
   ]
  },
  {
   "cell_type": "code",
   "execution_count": 233,
   "metadata": {},
   "outputs": [
    {
     "name": "stdout",
     "output_type": "stream",
     "text": [
      "Optimal ell expression:\n",
      "[(kappa_t*(1 - eta)/w)**(1/eta)]\n"
     ]
    }
   ],
   "source": [
    "p_t = sm.symbols('p_t')\n",
    "y_t = sm.symbols('y_t')\n",
    "w = sm.symbols('w')\n",
    "kappa_t = sm.symbols('kappa_t')\n",
    "ell_t = sm.symbols('ell_t')\n",
    "eta = sm.symbols('eta')\n",
    "\n",
    "# Define the profit function\n",
    "profit_function = kappa_t * ell_t**(1 - eta) - w * ell_t\n",
    "\n",
    "# Calculate the derivative of the profit function with respect to ell\n",
    "derivative = sm.diff(profit_function, ell_t)\n",
    "\n",
    "# Set the derivative equal to zero and solve for ell\n",
    "optimal_ell = sm.solve(derivative, ell_t)\n",
    "\n",
    "# Print the optimal ell expression\n",
    "print(\"Optimal ell expression:\")\n",
    "print(optimal_ell)"
   ]
  },
  {
   "cell_type": "code",
   "execution_count": 234,
   "metadata": {},
   "outputs": [
    {
     "name": "stdout",
     "output_type": "stream",
     "text": [
      "For kappa = 1.0, the maximum profit is = 0.25\n",
      "For kappa = 2.0, the maximum profit is = 1.00\n"
     ]
    }
   ],
   "source": [
    "eta = 0.5\n",
    "w = 1.0\n",
    "kappa_values = [1.0, 2.0]\n",
    "\n",
    "for kappa in kappa_values:\n",
    "    # Calculate ell_t\n",
    "    ell_t = (kappa * (1 - eta) / w) ** (1 / eta)\n",
    "\n",
    "    # Calculate profits\n",
    "    profits = kappa * ell_t ** (1 - eta) - w * ell_t\n",
    "\n",
    "    # Print the results\n",
    "    print(f\"For kappa = {kappa:.1f}, the maximum profit is = {profits:.2f}\")\n"
   ]
  },
  {
   "attachments": {},
   "cell_type": "markdown",
   "metadata": {},
   "source": [
    "We now consider a *dynamic* version of the model.\n",
    "\n",
    "* The demand-shock is a so-called AR(1) in logs, \n",
    "\n",
    "$$\n",
    "\\log \\kappa_{t} = \\rho \\log \\kappa_{t-1} + \\epsilon_{t},\\,\\,\\, \\epsilon_{t+1} \\sim \\mathcal{N}(-0.5\\sigma_{\\epsilon}^2,\\sigma_{\\epsilon})\n",
    "$$\n",
    "\n",
    "* Any hiring or firing implies a fixed adjustment cost, $\\iota > 0 $.\n",
    "* Future profits are discounted with a monthly factor of $R \\in (0,1)$.\n",
    "\n",
    "The initial demand shock is $\\kappa_{-1} = 1$ and the planning horizon is 10 years, i.e. 120 months so $t \\in \\{0,1,2,\\dots,119\\}$. Initially you don't have any employees, $\\ell_{-1}=0$"
   ]
  },
  {
   "attachments": {},
   "cell_type": "markdown",
   "metadata": {},
   "source": [
    "\n",
    "The *ex post* value of the salon is *conditional* on the shock series is:\n",
    "\n",
    "$$\n",
    "h(\\epsilon_0,\\epsilon_1,\\dots,\\epsilon_{119}) = \\left[\\sum_{t=0}^{119}R^{-t}\\left[\\kappa_{t}\\ell_{t}^{1-\\eta}-w\\ell_{t}-\\boldsymbol{1}_{\\ell_{t}\\neq\\ell_{t-1}}\\iota\\right]\\right]\n",
    "$$\n",
    "\n",
    "The *ex ante* expected value of the salon can be approximated by\n",
    "\n",
    "$$\n",
    "H = \\mathbb{E}[h(\\epsilon_0,\\epsilon_1,\\dots,\\epsilon_{119})] \\approx \\frac{1}{K}\\sum_{k=0}^{K} h(\\epsilon_0^k,\\epsilon_1^k,\\dots,\\epsilon_{119}^k)\n",
    "$$\n",
    "\n",
    "where each $k\\in\\{0,1,\\dots,K-1\\}$ is a random shock series. Maximizing profitability means maximizing $H$.\n"
   ]
  },
  {
   "attachments": {},
   "cell_type": "markdown",
   "metadata": {},
   "source": [
    "Baseline parameters are: \n",
    "\n",
    "- $\\rho = 0.90$\n",
    "- $\\iota = 0.01$\n",
    "- $\\sigma_{\\epsilon} = 0.10$\n",
    "- $R = \\left(1+0.01\\right)^{1/12}$"
   ]
  },
  {
   "attachments": {},
   "cell_type": "markdown",
   "metadata": {},
   "source": [
    "**Question 2:** Calculate $H$ if the policy  $\\ell_{t}=\\left(\\frac{(1-\\eta)\\kappa_{t}}{w}\\right)^{\\frac{1}{\\eta}}$ from question 1 is followed. Choose $K$ so the approximation is good enough to not affect your results substantially."
   ]
  },
  {
   "cell_type": "code",
   "execution_count": 235,
   "metadata": {},
   "outputs": [
    {
     "name": "stdout",
     "output_type": "stream",
     "text": [
      "Expected value of the salon (H): 22.750737621014416\n"
     ]
    }
   ],
   "source": [
    "import numpy as np\n",
    "\n",
    "eta = 0.5\n",
    "w = 1.0\n",
    "rho = 0.90\n",
    "iota = 0.01\n",
    "sigma_epsilon = 0.10\n",
    "R = (1 + 0.01) ** (1 / 12)\n",
    "K = 1000  # Number of shock series\n",
    "\n",
    "# Simulate shock series\n",
    "np.random.seed(1)\n",
    "epsilon_series = np.random.normal(-0.5 * sigma_epsilon**2, sigma_epsilon, size=(K, 120))\n",
    "\n",
    "# Calculate value function for each shock series\n",
    "value_functions = []\n",
    "for k in range(K):\n",
    "    kappa_series = np.exp(np.zeros(120))\n",
    "    ell_series = np.zeros(120)\n",
    "    value_function = 0\n",
    "\n",
    "    for t in range(120):\n",
    "        kappa_series[t] = np.exp(rho * np.log(kappa_series[t - 1]) + epsilon_series[k, t])\n",
    "        ell_series[t] = (1 - eta) * kappa_series[t] / w ** (1 / eta)\n",
    "\n",
    "        if t > 0 and ell_series[t] != ell_series[t - 1]:\n",
    "            value_function += R ** (-t) * (kappa_series[t] * ell_series[t] ** (1 - eta) - w * ell_series[t] - iota)\n",
    "\n",
    "    value_functions.append(value_function)\n",
    "\n",
    "# Calculate expected value of the salon\n",
    "H = np.mean(value_functions)\n",
    "\n",
    "print(f\"Expected value of the salon (H): {H}\")\n"
   ]
  },
  {
   "attachments": {},
   "cell_type": "markdown",
   "metadata": {},
   "source": [
    "We have chosen K=1000. Higher values of K provide more precise estimations of the expected value, but also increases the loading time in visual code. "
   ]
  },
  {
   "attachments": {},
   "cell_type": "markdown",
   "metadata": {},
   "source": [
    "Next, we consider policies on the form:\n",
    "\n",
    "$$\n",
    "\n",
    "\\ell_{t}=\\begin{cases}\n",
    "\\ell_t^{\\ast}  & \\text{if }\\left|\\ell_{t-1}-\\ell_t^{\\ast} \\right|>\\Delta\\\\\n",
    "\\ell_{t-1} & \\text{else }\n",
    "\\end{cases}\n",
    "\\\\\n",
    "\\text{where}\\,\\,\\ell_t^{\\ast} = \\left(\\frac{(1-\\eta)\\kappa_{t}}{w}\\right)^{\\frac{1}{\\eta}} \\\\\n",
    "\n",
    "$$\n",
    "With $\\Delta \\geq 0$ and $\\Delta = 0$ being the previous policy.\n"
   ]
  },
  {
   "attachments": {},
   "cell_type": "markdown",
   "metadata": {},
   "source": [
    "\n",
    "**Question 3:** Calculate $H$ if the policy above was followed with $\\Delta = 0.05$. Does it improve profitability?"
   ]
  },
  {
   "cell_type": "code",
   "execution_count": 236,
   "metadata": {},
   "outputs": [
    {
     "name": "stdout",
     "output_type": "stream",
     "text": [
      "New expected value of the salon (H): 9.204357941910741\n"
     ]
    }
   ],
   "source": [
    "eta = 0.5\n",
    "w = 1.0\n",
    "rho = 0.90\n",
    "iota = 0.01\n",
    "sigma_epsilon = 0.10\n",
    "R = (1 + 0.01) ** (1 / 12)\n",
    "K = 1000  # Number of shock series\n",
    "delta = 0.05  # Adjustment threshold\n",
    "\n",
    "# Simulate shock series\n",
    "np.random.seed(1)\n",
    "epsilon_series = np.random.normal(-0.5 * sigma_epsilon**2, sigma_epsilon, size=(K, 120))\n",
    "\n",
    "# Calculate value function for each shock series\n",
    "value_functions = []\n",
    "for k in range(K):\n",
    "    kappa_series = np.exp(np.zeros(120))\n",
    "    ell_series = np.zeros(120)\n",
    "    value_function = 0\n",
    "\n",
    "    for t in range(120):\n",
    "        kappa_series[t] = np.exp(rho * np.log(kappa_series[t - 1]) + epsilon_series[k, t])\n",
    "\n",
    "        ell_star = (1 - eta) * kappa_series[t] / w ** (1 / eta)\n",
    "\n",
    "        if t == 0 or abs(ell_series[t - 1] - ell_star) > delta:\n",
    "            ell_series[t] = ell_star\n",
    "        else:\n",
    "            ell_series[t] = ell_series[t - 1]\n",
    "\n",
    "        if t > 0 and ell_series[t] != ell_series[t - 1]:\n",
    "            value_function += R ** (-t) * (kappa_series[t] * ell_series[t] ** (1 - eta) - w * ell_series[t] - iota)\n",
    "\n",
    "    value_functions.append(value_function)\n",
    "\n",
    "# Calculate expected value of the salon\n",
    "H = np.mean(value_functions)\n",
    "\n",
    "print(f\"New expected value of the salon (H): {H}\")\n"
   ]
  },
  {
   "attachments": {},
   "cell_type": "markdown",
   "metadata": {},
   "source": [
    "The value of $H$ obtained with the updated policy is lower than the value obtained with the previous policy, it suggests that the new policy with $\\Delta = 0.05$ does not improve profitability compared to the previous policy.\n",
    "\n"
   ]
  },
  {
   "attachments": {},
   "cell_type": "markdown",
   "metadata": {},
   "source": [
    "**Question 4:** Find the optimal $\\Delta$ maximizing $H$. Illustrate your result."
   ]
  },
  {
   "cell_type": "code",
   "execution_count": 237,
   "metadata": {},
   "outputs": [
    {
     "ename": "KeyboardInterrupt",
     "evalue": "",
     "output_type": "error",
     "traceback": [
      "\u001b[0;31m---------------------------------------------------------------------------\u001b[0m",
      "\u001b[0;31mKeyboardInterrupt\u001b[0m                         Traceback (most recent call last)",
      "\u001b[0;32m/var/folders/9j/v95rb3md0v72jhphm0mh6thr0000gn/T/ipykernel_38477/3496078152.py\u001b[0m in \u001b[0;36m<module>\u001b[0;34m\u001b[0m\n\u001b[1;32m     23\u001b[0m \u001b[0;34m\u001b[0m\u001b[0m\n\u001b[1;32m     24\u001b[0m         \u001b[0;32mfor\u001b[0m \u001b[0mt\u001b[0m \u001b[0;32min\u001b[0m \u001b[0mrange\u001b[0m\u001b[0;34m(\u001b[0m\u001b[0;36m120\u001b[0m\u001b[0;34m)\u001b[0m\u001b[0;34m:\u001b[0m\u001b[0;34m\u001b[0m\u001b[0;34m\u001b[0m\u001b[0m\n\u001b[0;32m---> 25\u001b[0;31m             \u001b[0mkappa_series\u001b[0m\u001b[0;34m[\u001b[0m\u001b[0mt\u001b[0m\u001b[0;34m]\u001b[0m \u001b[0;34m=\u001b[0m \u001b[0mnp\u001b[0m\u001b[0;34m.\u001b[0m\u001b[0mexp\u001b[0m\u001b[0;34m(\u001b[0m\u001b[0mrho\u001b[0m \u001b[0;34m*\u001b[0m \u001b[0mnp\u001b[0m\u001b[0;34m.\u001b[0m\u001b[0mlog\u001b[0m\u001b[0;34m(\u001b[0m\u001b[0mkappa_series\u001b[0m\u001b[0;34m[\u001b[0m\u001b[0mt\u001b[0m \u001b[0;34m-\u001b[0m \u001b[0;36m1\u001b[0m\u001b[0;34m]\u001b[0m\u001b[0;34m)\u001b[0m \u001b[0;34m+\u001b[0m \u001b[0mepsilon_series\u001b[0m\u001b[0;34m[\u001b[0m\u001b[0mk\u001b[0m\u001b[0;34m,\u001b[0m \u001b[0mt\u001b[0m\u001b[0;34m]\u001b[0m\u001b[0;34m)\u001b[0m\u001b[0;34m\u001b[0m\u001b[0;34m\u001b[0m\u001b[0m\n\u001b[0m\u001b[1;32m     26\u001b[0m \u001b[0;34m\u001b[0m\u001b[0m\n\u001b[1;32m     27\u001b[0m             \u001b[0mell_star\u001b[0m \u001b[0;34m=\u001b[0m \u001b[0;34m(\u001b[0m\u001b[0;36m1\u001b[0m \u001b[0;34m-\u001b[0m \u001b[0meta\u001b[0m\u001b[0;34m)\u001b[0m \u001b[0;34m*\u001b[0m \u001b[0mkappa_series\u001b[0m\u001b[0;34m[\u001b[0m\u001b[0mt\u001b[0m\u001b[0;34m]\u001b[0m \u001b[0;34m/\u001b[0m \u001b[0mw\u001b[0m \u001b[0;34m**\u001b[0m \u001b[0;34m(\u001b[0m\u001b[0;36m1\u001b[0m \u001b[0;34m/\u001b[0m \u001b[0meta\u001b[0m\u001b[0;34m)\u001b[0m\u001b[0;34m\u001b[0m\u001b[0;34m\u001b[0m\u001b[0m\n",
      "\u001b[0;31mKeyboardInterrupt\u001b[0m: "
     ]
    }
   ],
   "source": [
    "eta = 0.5\n",
    "w = 1.0\n",
    "rho = 0.90\n",
    "iota = 0.01\n",
    "sigma_epsilon = 0.10\n",
    "R = (1 + 0.01) ** (1 / 12)\n",
    "K = 1000  # Number of shock series\n",
    "\n",
    "delta_values = np.linspace(0, 0.1, 100)  # Range of delta values to search over\n",
    "H_values = []\n",
    "\n",
    "# Simulate shock series\n",
    "np.random.seed(1)\n",
    "epsilon_series = np.random.normal(-0.5 * sigma_epsilon ** 2, sigma_epsilon, size=(K, 120))\n",
    "\n",
    "# Calculate value function for each delta value\n",
    "for delta in delta_values:\n",
    "    value_functions = []\n",
    "    for k in range(K):\n",
    "        kappa_series = np.exp(np.zeros(120))\n",
    "        ell_series = np.zeros(120)\n",
    "        value_function = 0\n",
    "\n",
    "        for t in range(120):\n",
    "            kappa_series[t] = np.exp(rho * np.log(kappa_series[t - 1]) + epsilon_series[k, t])\n",
    "\n",
    "            ell_star = (1 - eta) * kappa_series[t] / w ** (1 / eta)\n",
    "\n",
    "            if t == 0 or abs(ell_series[t - 1] - ell_star) > delta:\n",
    "                ell_series[t] = ell_star\n",
    "            else:\n",
    "                ell_series[t] = ell_series[t - 1]\n",
    "\n",
    "            if t > 0 and ell_series[t] != ell_series[t - 1]:\n",
    "                value_function += R ** (-t) * (\n",
    "                        kappa_series[t] * ell_series[t] ** (1 - eta) - w * ell_series[t] - iota)\n",
    "\n",
    "        value_functions.append(value_function)\n",
    "\n",
    "    # Calculate expected value of the salon for the current delta value\n",
    "    H = np.mean(value_functions)\n",
    "    H_values.append(H)\n",
    "\n",
    "# Find the optimal delta that maximizes H\n",
    "optimal_delta = delta_values[np.argmax(H_values)]\n",
    "max_H = np.max(H_values)\n",
    "\n",
    "# Plot the results\n",
    "plt.plot(delta_values, H_values)\n",
    "plt.xlabel('Delta')\n",
    "plt.ylabel('Expected value of the salon (H)')\n",
    "plt.title('Optimization of Delta')\n",
    "plt.axvline(x=optimal_delta, color='r', linestyle='--', label='Optimal Delta')\n",
    "plt.legend()\n",
    "plt.show()\n",
    "\n",
    "print(f\"Optimal Delta: {optimal_delta}\")\n",
    "print(f\"Maximum H value: {max_H}\")\n"
   ]
  },
  {
   "attachments": {},
   "cell_type": "markdown",
   "metadata": {},
   "source": [
    "\n",
    "**Question 5:** Suggest an alternative policy you believe might improve profitability. Implement and test your policy.\n",
    "\n"
   ]
  },
  {
   "cell_type": "code",
   "execution_count": null,
   "metadata": {},
   "outputs": [],
   "source": [
    "# write your code here"
   ]
  },
  {
   "attachments": {},
   "cell_type": "markdown",
   "metadata": {},
   "source": [
    "## 3. <a id='toc3_'></a>[Problem 3: Global optimizer with refined multi-start](#toc0_)"
   ]
  },
  {
   "attachments": {},
   "cell_type": "markdown",
   "metadata": {},
   "source": [
    "We consider the Griewank function:\n",
    "\n",
    "$$ f(\\boldsymbol{x}) = \\sum^n_{i=1} \\frac{x^2_i}{4000}-\\prod^n_{i=1}\\cos\\left(\\frac{x_i}{\\sqrt{i}}\\right)+1$$\n",
    "\n",
    "The **global minimum** of this function is $f(0,0) = 0$ (remember: $\\cos(0)=1$).<br>\n",
    "But the function also have a lot of **local minima**."
   ]
  },
  {
   "attachments": {},
   "cell_type": "markdown",
   "metadata": {},
   "source": [
    "A **refined global optimizer with multi-start** is:\n",
    "\n",
    "1. Choose *bounds* for $\\mathbf{x}$ and *tolerance* $\\tau > 0$.\n",
    "2. Choose number of *warm-up iterations*, $\\underline{K} > 0$ and *maximum number of iterations*, $K > \\underline{K}$.\n",
    "3. In each iteration for $k \\in \\{0,1,\\dots,K-1\\}$:\n",
    "\n",
    "    A. Draw random $\\mathbf{x}^k$ uniformly within chosen bounds.\n",
    "\n",
    "    B. If $k < \\underline{K}$ go to step E.\n",
    "\n",
    "    C. Calculate $\\chi^k = 0.50\\cdot\\frac{2}{1+\\exp((k-\\underline{K})/100)}$  \n",
    "\n",
    "    D. Set $\\mathbf{x}^{k0} = \\chi^k \\mathbf{x}^k + (1-\\chi^k)\\mathbf{x}^{\\ast} $\n",
    "\n",
    "    E. Run optimizer with $\\mathbf{x}^{k0}$ as initial guess and $\\mathbf{x}^{k\\ast}$ as result.\n",
    "\n",
    "    F. Set $\\mathbf{x}^{\\ast} = \\mathbf{x}^{k\\ast}$ if $k = 0$ or $f(\\mathbf{x}^{k\\ast}) < f(\\mathbf{x}^{\\ast})$\n",
    "\n",
    "    G. If $f(\\mathbf{x}^{\\ast}) < \\tau$ go to step 4.\n",
    "\n",
    "4. Return the result $\\mathbf{x}^{\\ast}$."
   ]
  },
  {
   "attachments": {},
   "cell_type": "markdown",
   "metadata": {},
   "source": [
    "As settings we choose:\n",
    "\n",
    "* $x_1,x_2 \\in  [-600,600]$\n",
    "* $\\tau = 10^{-8}$\n",
    "* $\\underline{K}=10$\n",
    "* $K=1000$\n",
    "\n",
    "The optimizer in Step 3.E is `BFGS` with a tolerance of $\\tau$."
   ]
  },
  {
   "attachments": {},
   "cell_type": "markdown",
   "metadata": {},
   "source": [
    "**Question 1:** Implement the refined global optimizer with multi-start. Illustrate how the effective initial guesses $\\mathbf{x}^{k0}$ vary with the iteration counter $k$."
   ]
  },
  {
   "cell_type": "code",
   "execution_count": null,
   "metadata": {},
   "outputs": [],
   "source": [
    "import Question3\n",
    "from Question3 import RefinedGlobalOptimizer\n",
    "\n",
    "# Create an instance of the RefinedGlobalOptimizer class with warm-up iterations = 10\n",
    "optimizer_10 = RefinedGlobalOptimizer(warm_up_iterations=10)\n",
    "optimizer_10.optimize()\n",
    "optimizer_10.print_convergence_iteration()\n",
    "optimizer_10.plot_effective_initial_guesses()"
   ]
  },
  {
   "attachments": {},
   "cell_type": "markdown",
   "metadata": {},
   "source": [
    "We can see that the optimizers converge all over the place, and end up in local minima instead of the global minimum. \n"
   ]
  },
  {
   "attachments": {},
   "cell_type": "markdown",
   "metadata": {},
   "source": [
    "**Question 2:** Is it a better idea to set $\\underline{K} = 100$? Is the convergence faster?"
   ]
  },
  {
   "cell_type": "code",
   "execution_count": null,
   "metadata": {},
   "outputs": [],
   "source": [
    "# Create an instance of the RefinedGlobalOptimizer class with warm-up iterations = 10\n",
    "optimizer_100 = RefinedGlobalOptimizer(warm_up_iterations=100)\n",
    "optimizer_100.optimize()\n",
    "optimizer_100.print_convergence_iteration()\n",
    "optimizer_100.plot_effective_initial_guesses()"
   ]
  }
 ],
 "metadata": {
  "kernelspec": {
   "display_name": "base",
   "language": "python",
   "name": "python3"
  },
  "language_info": {
   "codemirror_mode": {
    "name": "ipython",
    "version": 3
   },
   "file_extension": ".py",
   "mimetype": "text/x-python",
   "name": "python",
   "nbconvert_exporter": "python",
   "pygments_lexer": "ipython3",
   "version": "3.9.13"
  },
  "orig_nbformat": 4,
  "vscode": {
   "interpreter": {
    "hash": "f3b51e819bc11dd36f9785fabc699cfbf6a066dcb80d697c76b1569915f425ca"
   }
  }
 },
 "nbformat": 4,
 "nbformat_minor": 2
}
