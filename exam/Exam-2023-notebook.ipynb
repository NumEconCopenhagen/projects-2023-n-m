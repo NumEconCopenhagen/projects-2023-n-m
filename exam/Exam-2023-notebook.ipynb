{
 "cells": [
  {
   "attachments": {},
   "cell_type": "markdown",
   "metadata": {},
   "source": [
    "# Exam #"
   ]
  },
  {
   "attachments": {},
   "cell_type": "markdown",
   "metadata": {},
   "source": [
    "By Nina Frandsen Jensen & Mathilde Maix"
   ]
  },
  {
   "attachments": {},
   "cell_type": "markdown",
   "metadata": {},
   "source": [
    "**Table of contents**<a id='toc0_'></a>    \n",
    "- 1. [Problem 1: Optimal taxation with government consumption](#toc1_)    \n",
    "- 2. [Problem 2: Labor adjustment costs](#toc2_)    \n",
    "- 3. [Problem 3: Global optimizer with refined multi-start](#toc3_)    \n",
    "\n",
    "<!-- vscode-jupyter-toc-config\n",
    "\tnumbering=true\n",
    "\tanchor=true\n",
    "\tflat=false\n",
    "\tminLevel=2\n",
    "\tmaxLevel=6\n",
    "\t/vscode-jupyter-toc-config -->\n",
    "<!-- THIS CELL WILL BE REPLACED ON TOC UPDATE. DO NOT WRITE YOUR TEXT IN THIS CELL -->"
   ]
  },
  {
   "cell_type": "code",
   "execution_count": null,
   "metadata": {},
   "outputs": [],
   "source": [
    "# Imports \n",
    "import math \n",
    "import scipy.optimize\n",
    "import numpy as np\n",
    "import pandas as pd\n",
    "import sympy as sm\n",
    "from scipy import optimize\n",
    "from tabulate import tabulate\n",
    "from scipy import optimize\n",
    "from sympy import symbols, lambdify\n",
    "from scipy.optimize import minimize_scalar\n",
    "from matplotlib import pyplot as plt\n",
    "from types import SimpleNamespace\n",
    "\n",
    "\n",
    "# autoreload modules when code is run\n",
    "%load_ext autoreload\n",
    "%autoreload 2\n"
   ]
  },
  {
   "attachments": {},
   "cell_type": "markdown",
   "metadata": {},
   "source": [
    "## 1. <a id='toc1_'></a>[Problem 1: Optimal taxation with government consumption](#toc0_)"
   ]
  },
  {
   "attachments": {},
   "cell_type": "markdown",
   "metadata": {},
   "source": [
    "\n",
    "Consider a worker choosing hours of labor, $L\\in[0,24]$, to maximize utility: \n",
    "\n",
    "$$\n",
    "\\begin{align*}\n",
    "V(w,\\tau,G)&=\\max_{L\\in[0,24]}\\ln\\left(C^{\\alpha}G^{1-\\alpha}\\right)-\\nu\\frac{L^{2}}{2}\\\\&\\text{s.t.}\\\\&C=\\kappa+(1-\\tau)wL\n",
    "\\end{align*}\n",
    "$$\n",
    "\n",
    "where \n",
    "\n",
    "* $C$ is *private* consumption with weight $\\alpha\\in(0,1)$.\n",
    "* $\\kappa > 0$ is the *free private* consumption component.\n",
    "* $C = (1-\\tau)wL$ is the *costly private* consumption component.\n",
    "* $w > 0 $ is the real wage.\n",
    "* $\\tau \\in (0,1)$ is the labor-income tax rate.\n",
    "* $G > 0 $ is *government* consumption with weight $1-\\alpha$.\n",
    "* $\\nu > 0$ is the disutility of labor scaling factor"
   ]
  },
  {
   "attachments": {},
   "cell_type": "markdown",
   "metadata": {},
   "source": [
    "\n",
    "The baseline parameters are:\n",
    "\n",
    "$$\n",
    "\\begin{align*}\n",
    "\\alpha &= 0.5\\\\\n",
    "\\kappa &= 1.0\\\\\n",
    "\\nu &= \\frac{1}{2\\cdot16^2} \\\\\n",
    "w &= 1.0 \\\\ \n",
    "\\tau &= 0.30 \\\\\n",
    "\\end{align*}\n",
    "$$"
   ]
  },
  {
   "attachments": {},
   "cell_type": "markdown",
   "metadata": {},
   "source": [
    "**Question 1:** Verify that the optimal labor supply choice is $L^{\\star}(\\tilde{w}) =\\frac{-\\kappa+\\sqrt{\\kappa^{2}+4\\frac{\\alpha}{\\nu}\\tilde{w}^2}}{2\\tilde{w}}$, where $\\tilde{w} = (1-\\tau)w$, for $G\\in\\left\\{1.0 , 2.0\\right\\}$."
   ]
  },
  {
   "cell_type": "code",
   "execution_count": null,
   "metadata": {},
   "outputs": [],
   "source": [
    "import Question1\n",
    "from Question1 import OptimalLCalculator\n",
    "calculator = OptimalLCalculator()\n",
    "G_values = [1.0, 2.0]\n",
    "\n",
    "# Calling the equation from py file\n",
    "optimal_L = calculator.calculate_optimal_L(G_values)\n",
    "optimal_L[0]"
   ]
  },
  {
   "attachments": {},
   "cell_type": "markdown",
   "metadata": {},
   "source": [
    "We have verified that $L^{\\star}(\\tilde{w}) =\\frac{-\\kappa+\\sqrt{\\kappa^{2}+4\\frac{\\alpha}{\\nu}\\tilde{w}^2}}{2\\tilde{w}}$ where $\\tilde{w} = (1-\\tau)w$ is the optimal labor supply  choice for $G\\in\\left\\{1.0 , 2.0\\right\\}$. \n",
    "\n",
    "Our expression $\\frac{0.5(-\\kappa\\nu-\\sqrt{\\nu(4\\alpha \\tilde{w}^{2}+\\kappa^{2}}\\nu)}{\\tilde{w}\\nu}$ is not exactly identically expressed, but it is the same function, as seen from the factorization below: \n",
    "\n",
    "We  begin with the square root term inside the numerator. We can simplify this:\n",
    "\n",
    "$$\\sqrt{\\nu(4\\alpha \\tilde{w}^{2}+\\kappa^{2}}\\nu) = \\sqrt{\\nu \\cdot 4\\alpha \\tilde{w}^{2} + \\nu \\cdot \\kappa^{2}}\\nu$$\n",
    "\n",
    "We can factor out the common factor of $\\nu$:\n",
    "\n",
    "$$\\sqrt{4\\alpha \\tilde{w}^{2}\\nu + \\kappa^{2}\\nu}\\nu = \\sqrt{\\nu(\\kappa^{2} + 4\\alpha \\tilde{w}^{2})}\\nu$$\n",
    "\n",
    "We substitute this simplified expression back into the original numerator, we have:\n",
    "\n",
    "$$\\frac{0.5(-\\kappa\\nu-\\sqrt{\\nu(\\kappa^{2} + 4\\alpha \\tilde{w}^{2})}\\nu)}{\\tilde{w}\\nu}$$\n",
    "\n",
    "Now we factor out the common factor of $\\nu$ from the numerator and cancel it out:\n",
    "\n",
    "$$\\frac{0.5(-\\kappa\\nu-\\sqrt{\\nu(\\kappa^{2} + 4\\alpha \\tilde{w}^{2})}\\nu)}{\\tilde{w}\\nu} = \\frac{0.5\\nu(-\\kappa - \\sqrt{\\kappa^{2} + 4\\alpha \\tilde{w}^{2}})}{\\tilde{w}\\nu}= \\frac{0.5(-\\kappa - \\sqrt{\\kappa^{2} + 4\\alpha \\tilde{w}^{2}})}{\\tilde{w}}$$\n",
    "\n",
    "Finally, we simplify the expression by multiplying both the numerator and denominator by 2. Thus, the expression is factorized to:\n",
    "\n",
    "$$L^*(\\tilde{w})=\\frac{-\\kappa - \\sqrt{\\kappa^{2} + 4\\alpha \\tilde{w}^{2}}}{2\\tilde{w}}$$\n"
   ]
  },
  {
   "attachments": {},
   "cell_type": "markdown",
   "metadata": {},
   "source": [
    "**Question 2:** Illustrate how $L^{\\star}(\\tilde{w})$ depends on $w$."
   ]
  },
  {
   "attachments": {},
   "cell_type": "markdown",
   "metadata": {},
   "source": [
    "To illustrate how $L^{\\star}(\\tilde{w})$ depends on $w$ we plot the optimal labor supply choice in a graph. "
   ]
  },
  {
   "cell_type": "code",
   "execution_count": null,
   "metadata": {},
   "outputs": [],
   "source": [
    "# Defining the parameters \n",
    "kappa = 1.0\n",
    "alpha = 0.5\n",
    "nu = 1 / (2 * 16**2)\n",
    "tau = 0.30\n",
    "# Generating an array of w values\n",
    "w = np.linspace(-10, 10, 100)\n",
    "\n",
    "# Calling the plot from py file\n",
    "calculator = OptimalLCalculator()\n",
    "calculator.plot_L_star(kappa, alpha, nu, tau, w)\n"
   ]
  },
  {
   "attachments": {},
   "cell_type": "markdown",
   "metadata": {},
   "source": [
    "The variable $\\tilde{w}$ represents the real wage after-tax and is used in the worker utility maximization problem to account for the influence of taxation on the worker's decision-making. By incorporating $\\tilde{w}$, the model considers the trade-off between work and leisure, which allows us to analysise how taxation influences labor supply choices.\n",
    "\n",
    "The graph converges towards a point where further increases in the after-tax real wage has diminishing effects on the optimal labor supply choice. At this saturation point, workers may have satisfied their level of consumption and will prefer to use more time on leisure activities rather than labor."
   ]
  },
  {
   "attachments": {},
   "cell_type": "markdown",
   "metadata": {},
   "source": [
    "\n",
    "We now consider a government, who chooses $\\tau$ and spend all of the taxes on government consumption so:\n",
    "\n",
    "$$\n",
    "G = \\tau w L^{\\star}((1-\\tau)w)\n",
    "$$\n",
    "\n",
    "**Question 3:** Plot the implied $L$, $G$ and worker utility for a grid of $\\tau$-values.\n"
   ]
  },
  {
   "cell_type": "code",
   "execution_count": null,
   "metadata": {},
   "outputs": [],
   "source": [
    "calculator = OptimalLCalculator()\n",
    "\n",
    "# Defining the parameters\n",
    "kappa = 1.0\n",
    "alpha = 0.5\n",
    "nu = 1 / (2 * 16**2)\n",
    "w = 1.0\n",
    "\n",
    "# Calling the plots from py file\n",
    "calculator.plot_question3(kappa, alpha, nu, w)\n"
   ]
  },
  {
   "attachments": {},
   "cell_type": "markdown",
   "metadata": {},
   "source": [
    "Our graphs show $L$, $G$ and worker utility for a grid of $\\tau$-values. \n",
    "\n",
    "- Plot of $L$: The graph of labour supply as a function of the tax rate illustrates the relationship betweeen optimal labor supply choice and the tax rate. The downward-sloping curve indicates that as the tax rate increases, the optimal labor supply exponentially decrease since individuals face a higher cost of working due to a larger share of their income going to taxes. Higher tax rates create financial disincentives for individuals to work more hours or participate actively in the labor market. Unfortunately, the individuals do not take the benefits of a higher tax rate into account when deciding their supply of labor.\n",
    "\n",
    "- Plot of $G$: This graph represents the Laffer curve and thus represents the relationship between tax rates and government revenue. When tax rates are lower, the individuals are willing to work more as they get to keep a higher share of their income which leads to an increase in government revenue. However, when tax rates exceeds a certain point, it leads to diminishing returns and a decline in government revenue, as the individuals are disincentivized to work as much due to a lower disposable income. Thus, the graph suggests a trade-off between tax rate and government revenue, and it is seen that there is an optimal tax rate that maximizes government revenue.\n",
    "\n",
    "- Plot of $V$: The graph shows the worker utility as a function of the tax rate. It is seen that the worker's utility increases until the tax rate rises to a certain point. Beyond this point, the utility decreases exponentially, since the marginal benefits of additional work decrease while their costs in terms of higher taxes and reduced net earnings continue to accumulate. The diminishing utility from additional effort exacerbates the negative impact of higher tax rates on overall worker satisfaction."
   ]
  },
  {
   "attachments": {},
   "cell_type": "markdown",
   "metadata": {},
   "source": [
    "**Question 4:** Find the socially optimal tax rate $\\tau^{\\star}\\in(0,1)$ maximizing worker utility. Illustrate your result."
   ]
  },
  {
   "cell_type": "code",
   "execution_count": null,
   "metadata": {},
   "outputs": [],
   "source": [
    "calculator = OptimalLCalculator()\n",
    "\n",
    "# Defining the parameters\n",
    "kappa = 1.0  \n",
    "alpha = 0.5  \n",
    "nu = 1 / (2 * 16**2) \n",
    "w = 1.0\n",
    "\n",
    "# Calling the plot from py file\n",
    "calculator.plot_question4(kappa, alpha, nu, w)\n"
   ]
  },
  {
   "attachments": {},
   "cell_type": "markdown",
   "metadata": {},
   "source": [
    "The graph above is identical to the graph of V in question 3, but with an added point at the maximum. The optimal tax rate is 0.3382 and the maximum worker utility is 1.59. Thus, the worker utility is increasing until the tax rate exceeds 33,8 pct. When the tax rate goes beyond this, the marginal benefits of additonal work will decrease."
   ]
  },
  {
   "attachments": {},
   "cell_type": "markdown",
   "metadata": {},
   "source": [
    "A more general preference formulation for the worker is:\n",
    "\n",
    "$$\n",
    "\\begin{align*}\n",
    "\\mathcal{V}(w,\\tau,G)&=\\max_{L\\in[0,24]}\\frac{\\left[ \\left( \\alpha C^{\\frac{\\sigma-1}{\\sigma}}+(1-\\alpha) G^{\\frac{\\sigma-1}{\\sigma}} \\right)^{\\frac{\\sigma}{\\sigma-1} }\\right]^{1-\\rho}-1}{1-\\rho}- \\nu\\frac{L^{1+\\varepsilon}}{1+\\varepsilon},\\,\\,\\,\\varepsilon,\\rho,\\sigma>0,\\,\\,\\,\\rho,\\sigma\\neq1\\\\&\\text{s.t.}\\\\&C=\\kappa+(1-\\tau)wL\n",
    "\\end{align*}    \n",
    "$$\n",
    "\n",
    "Optimal labor supply is now $L^{\\star}(\\tilde{w},G)$."
   ]
  },
  {
   "attachments": {},
   "cell_type": "markdown",
   "metadata": {},
   "source": [
    "Questions 5 and 6 must be answered with the general formulation, and for 2 different set of parameters:\n",
    "\n",
    "- Set 1:  $\\sigma = 1.001$, $\\rho = 1.001$ and $\\varepsilon = 1.0$.\n",
    "- Set 2:  $\\sigma = 1.5$, $\\rho = 1.5$ and $\\varepsilon = 1.0 $."
   ]
  },
  {
   "attachments": {},
   "cell_type": "markdown",
   "metadata": {},
   "source": [
    "**Question 5:** Find the $G$ that solves $G = \\tau w L^{\\star}((1-\\tau)w,G)$ using the $\\tau$ found in question 4.\n",
    "\n",
    "*Hint: First write code that solves the worker problem for given values of $G$ and $\\tau$. Then find the correct G based on this.*"
   ]
  },
  {
   "cell_type": "code",
   "execution_count": null,
   "metadata": {},
   "outputs": [],
   "source": [
    "# Defining the utility and G function\n",
    "def utility(L, w, tau, G, alpha, kappa, sigma, rho, nu, epsilon):\n",
    "    C = kappa + (1 - tau) * w * L\n",
    "    return ((((alpha * C**((sigma-1)/sigma) + (1 - alpha) * G**((sigma-1)/sigma))**(sigma/(sigma-1)))**(1-rho)-1)/(1- rho)) - nu * (L**(1+epsilon))/(1+epsilon)\n",
    "\n",
    "def government(G, w, tau, alpha, kappa, sigma, rho, nu, epsilon):\n",
    "    L_opt = optimize.fminbound(lambda L: -utility(L, w, tau, G, alpha, kappa, sigma, rho, nu, epsilon), 0, 24)\n",
    "    return G - tau * w * L_opt\n",
    "\n",
    "# Parameter values for Set 1\n",
    "w =  1.0\n",
    "tau = 0.33817131261325806  # Given tau value from question 3\n",
    "alpha =  0.5\n",
    "kappa =  1.0\n",
    "nu = 1 / (2 * 16**2)\n",
    "\n",
    "# Set 1\n",
    "sigma_1 = 1.001\n",
    "rho_1 = 1.001\n",
    "epsilon_1 = 1.0 \n",
    "\n",
    "# Set 2\n",
    "sigma_2 = 1.5\n",
    "rho_2 = 1.5\n",
    "epsilon_2 = 1.0  \n",
    "\n",
    "# Solve for G for Set 1\n",
    "initial_guess = 1.0  \n",
    "args_1 = (w, tau, alpha, kappa, sigma_1, rho_1, nu, epsilon_1)\n",
    "result_1 = optimize.root(government, initial_guess, args=args_1)\n",
    "G_solution_1 = result_1.x[0]\n",
    "L_opt_1 = optimize.fminbound(lambda L: -utility(L, w, tau, G_solution_1, alpha, kappa, sigma_1, rho_1, nu, epsilon_1), 0, 24)\n",
    "\n",
    "# Solve for G for Set 2\n",
    "initial_guess = 1.0 ´\n",
    "args_2 = (w, tau, alpha, kappa, sigma_2, rho_2, nu, epsilon_2)\n",
    "result_2 = optimize.root(government, initial_guess, args=args_2)\n",
    "G_solution_2 = result_2.x[0]\n",
    "L_opt_2 = optimize.fminbound(lambda L: -utility(L, w, tau, G_solution_2, alpha, kappa, sigma_2, rho_2, nu, epsilon_2), 0, 24)\n",
    "\n",
    "# Print results\n",
    "print(\"Set 1:\")\n",
    "print(\"Optimal labor supply (L^*):\", L_opt_1)\n",
    "print(\"Corresponding value of G:\", G_solution_1)\n",
    "print()\n",
    "print(\"Set 2:\")\n",
    "print(\"Optimal labor supply (L^*):\", L_opt_2)\n",
    "print(\"Corresponding value of G:\", G_solution_2)"
   ]
  },
  {
   "attachments": {},
   "cell_type": "markdown",
   "metadata": {},
   "source": [
    "In set 1, the values of $\\sigma$ and $\\rho$ are very close to 1, implying that the worker's utility function exhibits nearly constant relative risk aversion and intertemporal elasticity of substitution. The optimal labor supply is 15.2492.The worker is willing to supply a higher amount of labor to maximize their utility. The optimal labor supply is determined by balancing the trade-off between the disutility of labor (second term in the utility function) and the utility gained from consumption (first term in the utility function).\n",
    "The corresponding value of government consumption $G$ is 5.1569. Since the worker supplies a higher amount of labor in this set, the government receives more tax revenue, as labor income tax is proportional to the wage rate and labor supply. With higher tax revenue, the government can afford to provide a higher level of public goods or services, leading to a relatively higher level of government consumption.\n",
    "\n",
    "In set 2, the values of $\\sigma$ and $\\rho$ are 1.5, indicating a higher level of risk aversion and intertemporal substitution compared to set 1. The optimal labor supply is 10.4323. The worker chooses to supply a lower amount of labor to reduce the disutility of work and allocate more time to leisure. The optimal labor supply is determined by the trade-off between the disutility of labor and the utility gained from consumption, considering the higher aversion to risk and intertemporal substitution.\n",
    "The value of government consumption $G$ in set 2 is 3.5279. Since the worker supplies less labor in this set, the government receives lower tax revenue. Therefore, the government has less resources towards public goods or services, resulting in a relatively lower government consumption."
   ]
  },
  {
   "attachments": {},
   "cell_type": "markdown",
   "metadata": {},
   "source": [
    "**Question 6:** Find the socially optimal tax rate, $\\tau^{\\star}$, maximizing worker utility, while keeping $G = \\tau w L^{\\star}((1-\\tau)w,G)$."
   ]
  },
  {
   "cell_type": "code",
   "execution_count": null,
   "metadata": {},
   "outputs": [],
   "source": [
    "opt = SimpleNamespace()\n",
    "\n",
    "# Defining utility, G function and solver\n",
    "def utility6(tau, L, sigma, rho, epsilon):\n",
    "    kappa = 0.2\n",
    "    w = 1.0\n",
    "    alpha = 0.5\n",
    "    nu = 0.1\n",
    "\n",
    "    C = kappa + (1 - tau) * w * L\n",
    "    inner = (alpha * C**((sigma - 1) / sigma) + (1 - alpha) * government_func(tau, L)**((sigma - 1) / sigma))**(sigma / (sigma - 1))\n",
    "    return (((inner**(1 - rho)) - 1) / (1 - rho)) - nu * ((L**(1 + epsilon)) / (1 + epsilon))\n",
    "\n",
    "def government_func(tau, L):\n",
    "    w = 1.0\n",
    "    return tau * w * L * ((1 - tau) * w)\n",
    "\n",
    "def solve6(opt, sigma, rho, epsilon):\n",
    "    objective_function = lambda x: -utility6(x[0], x[1], sigma, rho, epsilon)\n",
    "    x0 = [0.5, 20.0]\n",
    "    bounds = [(0.001, 1.0), (0.001, 24.0)]\n",
    "    solution = optimize.minimize(objective_function, x0, method='Nelder-Mead', bounds=bounds)\n",
    "    opt.tau = solution.x[0]\n",
    "    opt.L = solution.x[1]\n",
    "    return opt\n",
    "\n",
    "# Set 1\n",
    "sigma = 1.001\n",
    "rho = 1.001\n",
    "epsilon = 1.0\n",
    "\n",
    "# Solving for set 1\n",
    "solve6(opt, sigma, rho, epsilon)\n",
    "tau_opt1 = opt.tau\n",
    "print(\"Set 1:\")\n",
    "print(\"Optimal tax rate:\", tau_opt1)\n",
    "\n",
    "# Set 2\n",
    "sigma = 1.5\n",
    "rho = 1.5\n",
    "epsilon = 1.0\n",
    "\n",
    "# Solving for set 2\n",
    "solve6(opt, sigma, rho, epsilon)\n",
    "tau_opt2 = opt.tau\n",
    "print(\"Set 2:\")\n",
    "print(\"Optimal tax rate:\", tau_opt2)\n",
    "\n"
   ]
  },
  {
   "attachments": {},
   "cell_type": "markdown",
   "metadata": {},
   "source": [
    "In set 1, the optimal tax rate is 0.34348 (34 pct.), while in set 2, it is 0.29276 (29 pct.). Comparing the two sets, it is observed that in set 2, where the worker supplies less labor, the government decreases the tax rate. This adjustment is necessary to incentivize workers to supply more labor and maximize their utility."
   ]
  },
  {
   "attachments": {},
   "cell_type": "markdown",
   "metadata": {},
   "source": [
    "## 2. <a id='toc2_'></a>[Problem 2: Labor adjustment costs](#toc0_)"
   ]
  },
  {
   "attachments": {},
   "cell_type": "markdown",
   "metadata": {},
   "source": [
    "You own a hair salon. You employ hairdressers, $\\ell_t$, to produce haircuts, $y_t = \\ell_t$.\n",
    "\n",
    "The wage for each haridresser is $w$.\n",
    "\n",
    "The demand for haircuts implies that the price of haircuts you can charge is $p_t = \\kappa_t y_t^{-\\eta}$, where $\\kappa_t$ is a demand-shock and $\\eta \\in (0,1)$ measures the elasticity of demand.\n",
    "\n",
    "Profits are:\n",
    "\n",
    "$$\n",
    "\\Pi_t = p_t y_t - w \\ell_t = \\kappa_t \\ell_t^{1-\\eta} - w \\ell_t\n",
    "$$"
   ]
  },
  {
   "attachments": {},
   "cell_type": "markdown",
   "metadata": {},
   "source": [
    "Baseline parameters are:\n",
    "- $\\eta = 0.5$\n",
    "- $w = 1.0$"
   ]
  },
  {
   "attachments": {},
   "cell_type": "markdown",
   "metadata": {},
   "source": [
    "**Question 1:** Verify numerically that $\\ell_{t}=\\left(\\frac{(1-\\eta)\\kappa_{t}}{w}\\right)^{\\frac{1}{\\eta}}$ maximises profits, for $\\kappa\\in\\left\\{1.0 , 2.0\\right\\}$."
   ]
  },
  {
   "cell_type": "code",
   "execution_count": null,
   "metadata": {},
   "outputs": [],
   "source": [
    "from Question2 import hairdresser\n",
    "\n",
    "# Create an instance of the hairdresser class\n",
    "eta = 0.5\n",
    "w = 1.0\n",
    "kappa_values = [1.0, 2.0]\n",
    "\n",
    "calculator = hairdresser(eta, w, kappa_values)\n",
    "\n",
    "# Call the calculate_profits method\n",
    "calculator.calculate_profits()\n",
    "\n",
    "# Calculate and print the optimal ell expression\n",
    "optimal_ell = calculator.calculate_optimal_ell()\n",
    "print(\"Optimal ell expression:\")\n",
    "print(optimal_ell)\n"
   ]
  },
  {
   "attachments": {},
   "cell_type": "markdown",
   "metadata": {},
   "source": [
    "We verify that $\\ell_{t}=\\left(\\frac{(1-\\eta)\\kappa_{t}}{w}\\right)^{\\frac{1}{\\eta}}$ maximises profits, for $\\kappa\\in\\left\\{1.0 , 2.0\\right\\}$, by calculating the max profits using the values for kappa. Furthermore, we find the optimal $ell_t$ expression by taking the derivative of the profit function with respect to $ell_t$ and setting it equal to 0. This gave us the correct expression $\\ell_{t}=\\left(\\frac{(1-\\eta)\\kappa_{t}}{w}\\right)^{\\frac{1}{\\eta}}$. "
   ]
  },
  {
   "attachments": {},
   "cell_type": "markdown",
   "metadata": {},
   "source": [
    "We now consider a *dynamic* version of the model.\n",
    "\n",
    "* The demand-shock is a so-called AR(1) in logs, \n",
    "\n",
    "$$\n",
    "\\log \\kappa_{t} = \\rho \\log \\kappa_{t-1} + \\epsilon_{t},\\,\\,\\, \\epsilon_{t+1} \\sim \\mathcal{N}(-0.5\\sigma_{\\epsilon}^2,\\sigma_{\\epsilon})\n",
    "$$\n",
    "\n",
    "* Any hiring or firing implies a fixed adjustment cost, $\\iota > 0 $.\n",
    "* Future profits are discounted with a monthly factor of $R \\in (0,1)$.\n",
    "\n",
    "The initial demand shock is $\\kappa_{-1} = 1$ and the planning horizon is 10 years, i.e. 120 months so $t \\in \\{0,1,2,\\dots,119\\}$. Initially you don't have any employees, $\\ell_{-1}=0$"
   ]
  },
  {
   "attachments": {},
   "cell_type": "markdown",
   "metadata": {},
   "source": [
    "\n",
    "The *ex post* value of the salon is *conditional* on the shock series is:\n",
    "\n",
    "$$\n",
    "h(\\epsilon_0,\\epsilon_1,\\dots,\\epsilon_{119}) = \\left[\\sum_{t=0}^{119}R^{-t}\\left[\\kappa_{t}\\ell_{t}^{1-\\eta}-w\\ell_{t}-\\boldsymbol{1}_{\\ell_{t}\\neq\\ell_{t-1}}\\iota\\right]\\right]\n",
    "$$\n",
    "\n",
    "The *ex ante* expected value of the salon can be approximated by\n",
    "\n",
    "$$\n",
    "H = \\mathbb{E}[h(\\epsilon_0,\\epsilon_1,\\dots,\\epsilon_{119})] \\approx \\frac{1}{K}\\sum_{k=0}^{K} h(\\epsilon_0^k,\\epsilon_1^k,\\dots,\\epsilon_{119}^k)\n",
    "$$\n",
    "\n",
    "where each $k\\in\\{0,1,\\dots,K-1\\}$ is a random shock series. Maximizing profitability means maximizing $H$.\n"
   ]
  },
  {
   "attachments": {},
   "cell_type": "markdown",
   "metadata": {},
   "source": [
    "Baseline parameters are: \n",
    "\n",
    "- $\\rho = 0.90$\n",
    "- $\\iota = 0.01$\n",
    "- $\\sigma_{\\epsilon} = 0.10$\n",
    "- $R = \\left(1+0.01\\right)^{1/12}$"
   ]
  },
  {
   "attachments": {},
   "cell_type": "markdown",
   "metadata": {},
   "source": [
    "**Question 2:** Calculate $H$ if the policy  $\\ell_{t}=\\left(\\frac{(1-\\eta)\\kappa_{t}}{w}\\right)^{\\frac{1}{\\eta}}$ from question 1 is followed. Choose $K$ so the approximation is good enough to not affect your results substantially."
   ]
  },
  {
   "cell_type": "code",
   "execution_count": null,
   "metadata": {},
   "outputs": [],
   "source": [
    "eta = 0.5\n",
    "w = 1.0\n",
    "kappa_values = [1.0, 2.0]\n",
    "\n",
    "# Instantiate the hairdresser class\n",
    "calculator = hairdresser(eta, w, kappa_values)\n",
    "\n",
    "# Call the calculate_expected_value method\n",
    "expected_value = calculator.calculate_expected_value()\n",
    "\n",
    "# Print the expected value\n",
    "print(f\"Expected value of the salon (H): {expected_value}\")"
   ]
  },
  {
   "attachments": {},
   "cell_type": "markdown",
   "metadata": {},
   "source": [
    "The policy $\\ell_{t}=\\left(\\frac{(1-\\eta)\\kappa_{t}}{w}\\right)^{\\frac{1}{\\eta}}$ determines the number of employees based on the current demand shock $\\kappa_t$. When demand increases, the policy leads to an increase in the number of employees, and vice versa. In this way, the salon is able to efficiently utilize its workforce to meet the fluctuating demand and maximize its revenue. \n",
    "\n",
    "The policy is based on optimizing labor efficiency by considering the wage rate $w$ and the elasticity parameter $\\eta$. The policy determines the optimal number of employees that maximizes the salon's revenue while ensuring efficient utilization of labor resources.\n",
    "\n",
    "The fixed adjustment cost $\\iota$ associated with hiring or firing employees affects the profitability of the salon. By incorporating the adjustment costs, the policy ensures that changes in the number of employees are made only when the expected benefits outweigh the costs, leading to improved profitability.\n",
    "\n",
    "The value function is discounted over time with the factor $R$, reflecting the time value of money. This discounting implies that the salon values profits in the earlier periods more than those in the later periods. The given policy, which optimizes the number of employees based on current demand, maximizes the salon's revenue in each period, leading to higher profits in the earlier stages of the planning horizon. This front-loading of profits aligns with the time discounting factor, resulting in a higher ex ante expected value $H$. \n",
    "\n",
    "Based on this policy, we find the expected value of the salon $H$ to be 27.65. We have chosen K=1000. Higher values of K provide more precise estimations of the expected value, but also increases the loading time in visual code."
   ]
  },
  {
   "attachments": {},
   "cell_type": "markdown",
   "metadata": {},
   "source": [
    "Next, we consider policies on the form:\n",
    "\n",
    "$$\n",
    "\n",
    "\\ell_{t}=\\begin{cases}\n",
    "\\ell_t^{\\ast}  & \\text{if }\\left|\\ell_{t-1}-\\ell_t^{\\ast} \\right|>\\Delta\\\\\n",
    "\\ell_{t-1} & \\text{else }\n",
    "\\end{cases}\n",
    "\\\\\n",
    "\\text{where}\\,\\,\\ell_t^{\\ast} = \\left(\\frac{(1-\\eta)\\kappa_{t}}{w}\\right)^{\\frac{1}{\\eta}} \\\\\n",
    "\n",
    "$$\n",
    "With $\\Delta \\geq 0$ and $\\Delta = 0$ being the previous policy.\n"
   ]
  },
  {
   "attachments": {},
   "cell_type": "markdown",
   "metadata": {},
   "source": [
    "\n",
    "**Question 3:** Calculate $H$ if the policy above was followed with $\\Delta = 0.05$. Does it improve profitability?"
   ]
  },
  {
   "cell_type": "code",
   "execution_count": null,
   "metadata": {},
   "outputs": [],
   "source": [
    "eta = 0.5\n",
    "w = 1.0\n",
    "kappa_values = [1.0, 2.0]\n",
    "\n",
    "# Instantiate the hairdresser class\n",
    "calculator = hairdresser(eta, w, kappa_values)\n",
    "\n",
    "# Call the calculate_new_expected_value method\n",
    "new_expected_value = calculator.calculate_new_expected_value()\n",
    "\n",
    "# Print the new expected value\n",
    "print(f\"Expected value of the salon with $\\delta$ = 0.05: {new_expected_value}\")"
   ]
  },
  {
   "attachments": {},
   "cell_type": "markdown",
   "metadata": {},
   "source": [
    "The value of $H$ obtained with the updated policy is lower than the value obtained with the previous policy, it suggests that the new policy with $\\Delta = 0.05$ does not improve profitability compared to the previous policy.\n",
    "\n"
   ]
  },
  {
   "attachments": {},
   "cell_type": "markdown",
   "metadata": {},
   "source": [
    "**Question 4:** Find the optimal $\\Delta$ maximizing $H$. Illustrate your result."
   ]
  },
  {
   "cell_type": "code",
   "execution_count": null,
   "metadata": {},
   "outputs": [],
   "source": [
    "eta = 0.5\n",
    "w = 1.0\n",
    "kappa_values = [1.0, 2.0]\n",
    "\n",
    "calculator = hairdresser(eta, w, kappa_values)\n",
    "\n",
    "# Call the optimize_delta method to optimize delta\n",
    "calculator.optimize_delta()"
   ]
  },
  {
   "attachments": {},
   "cell_type": "markdown",
   "metadata": {},
   "source": [
    "\n",
    "**Question 5:** Suggest an alternative policy you believe might improve profitability. Implement and test your policy.\n",
    "\n"
   ]
  },
  {
   "cell_type": "code",
   "execution_count": null,
   "metadata": {},
   "outputs": [],
   "source": [
    "# write your code here"
   ]
  },
  {
   "attachments": {},
   "cell_type": "markdown",
   "metadata": {},
   "source": [
    "## 3. <a id='toc3_'></a>[Problem 3: Global optimizer with refined multi-start](#toc0_)"
   ]
  },
  {
   "attachments": {},
   "cell_type": "markdown",
   "metadata": {},
   "source": [
    "We consider the Griewank function:\n",
    "\n",
    "$$ f(\\boldsymbol{x}) = \\sum^n_{i=1} \\frac{x^2_i}{4000}-\\prod^n_{i=1}\\cos\\left(\\frac{x_i}{\\sqrt{i}}\\right)+1$$\n",
    "\n",
    "The **global minimum** of this function is $f(0,0) = 0$ (remember: $\\cos(0)=1$).<br>\n",
    "But the function also have a lot of **local minima**."
   ]
  },
  {
   "attachments": {},
   "cell_type": "markdown",
   "metadata": {},
   "source": [
    "A **refined global optimizer with multi-start** is:\n",
    "\n",
    "1. Choose *bounds* for $\\mathbf{x}$ and *tolerance* $\\tau > 0$.\n",
    "2. Choose number of *warm-up iterations*, $\\underline{K} > 0$ and *maximum number of iterations*, $K > \\underline{K}$.\n",
    "3. In each iteration for $k \\in \\{0,1,\\dots,K-1\\}$:\n",
    "\n",
    "    A. Draw random $\\mathbf{x}^k$ uniformly within chosen bounds.\n",
    "\n",
    "    B. If $k < \\underline{K}$ go to step E.\n",
    "\n",
    "    C. Calculate $\\chi^k = 0.50\\cdot\\frac{2}{1+\\exp((k-\\underline{K})/100)}$  \n",
    "\n",
    "    D. Set $\\mathbf{x}^{k0} = \\chi^k \\mathbf{x}^k + (1-\\chi^k)\\mathbf{x}^{\\ast} $\n",
    "\n",
    "    E. Run optimizer with $\\mathbf{x}^{k0}$ as initial guess and $\\mathbf{x}^{k\\ast}$ as result.\n",
    "\n",
    "    F. Set $\\mathbf{x}^{\\ast} = \\mathbf{x}^{k\\ast}$ if $k = 0$ or $f(\\mathbf{x}^{k\\ast}) < f(\\mathbf{x}^{\\ast})$\n",
    "\n",
    "    G. If $f(\\mathbf{x}^{\\ast}) < \\tau$ go to step 4.\n",
    "\n",
    "4. Return the result $\\mathbf{x}^{\\ast}$."
   ]
  },
  {
   "attachments": {},
   "cell_type": "markdown",
   "metadata": {},
   "source": [
    "As settings we choose:\n",
    "\n",
    "* $x_1,x_2 \\in  [-600,600]$\n",
    "* $\\tau = 10^{-8}$\n",
    "* $\\underline{K}=10$\n",
    "* $K=1000$\n",
    "\n",
    "The optimizer in Step 3.E is `BFGS` with a tolerance of $\\tau$."
   ]
  },
  {
   "attachments": {},
   "cell_type": "markdown",
   "metadata": {},
   "source": [
    "**Question 1:** Implement the refined global optimizer with multi-start. Illustrate how the effective initial guesses $\\mathbf{x}^{k0}$ vary with the iteration counter $k$."
   ]
  },
  {
   "cell_type": "code",
   "execution_count": null,
   "metadata": {},
   "outputs": [],
   "source": [
    "import Question3\n",
    "from Question3 import RefinedGlobalOptimizer\n",
    "\n",
    "optimizer_10 = RefinedGlobalOptimizer(warm_up_iterations=10)\n",
    "optimizer_10.optimize()\n",
    "optimizer_10.print_convergence_iteration()\n",
    "optimizer_10.plot_effective_initial_guesses()"
   ]
  },
  {
   "attachments": {},
   "cell_type": "markdown",
   "metadata": {},
   "source": [
    "We can see that the optimizers converge all over the place, and end up in local minima instead of the global minimum. In the figure the initial guesses are illustrated by the darker colour. As the iterations increase, the optimizers converge closer to the global minimum of (0, 0), as illustrated by the lighter colour in the figure. \n",
    "With the tolerance set at $10^{-8}$, the model converges before the maximum number of iterations (K=1000).  \n"
   ]
  },
  {
   "attachments": {},
   "cell_type": "markdown",
   "metadata": {},
   "source": [
    "**Question 2:** Is it a better idea to set $\\underline{K} = 100$? Is the convergence faster?"
   ]
  },
  {
   "cell_type": "code",
   "execution_count": null,
   "metadata": {},
   "outputs": [],
   "source": [
    "optimizer_100 = RefinedGlobalOptimizer(warm_up_iterations=100)\n",
    "optimizer_100.optimize()\n",
    "optimizer_100.print_convergence_iteration()\n",
    "optimizer_100.plot_effective_initial_guesses()"
   ]
  },
  {
   "attachments": {},
   "cell_type": "markdown",
   "metadata": {},
   "source": [
    "Now the warm up iterations are set at 100 instead of 10 as in the previous question. We observe that the convergence is not faster, but there are more optimizers converging closer to (0, 0), as seen by the higher concentration of iterations around (0, 0) in the figure. "
   ]
  }
 ],
 "metadata": {
  "kernelspec": {
   "display_name": "base",
   "language": "python",
   "name": "python3"
  },
  "language_info": {
   "codemirror_mode": {
    "name": "ipython",
    "version": 3
   },
   "file_extension": ".py",
   "mimetype": "text/x-python",
   "name": "python",
   "nbconvert_exporter": "python",
   "pygments_lexer": "ipython3",
   "version": "3.9.13"
  },
  "orig_nbformat": 4,
  "vscode": {
   "interpreter": {
    "hash": "f3b51e819bc11dd36f9785fabc699cfbf6a066dcb80d697c76b1569915f425ca"
   }
  }
 },
 "nbformat": 4,
 "nbformat_minor": 2
}
