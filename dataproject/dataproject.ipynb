{
 "cells": [
  {
   "attachments": {},
   "cell_type": "markdown",
   "metadata": {},
   "source": [
    "# GDP vs VACCINATION"
   ]
  },
  {
   "attachments": {},
   "cell_type": "markdown",
   "metadata": {},
   "source": [
    "In this project we seek to analyze the GDP for selected countries depending on the child vaccination rates. "
   ]
  },
  {
   "cell_type": "markdown",
   "metadata": {},
   "source": [
    "Imports and set magics:"
   ]
  },
  {
   "cell_type": "code",
   "execution_count": null,
   "metadata": {},
   "outputs": [],
   "source": [
    "import pandas as pd\n",
    "import numpy as np\n",
    "import matplotlib.pyplot as plt\n",
    "import ipywidgets as widgets\n",
    "\n",
    "# autoreload modules when code is run\n",
    "%load_ext autoreload\n",
    "%autoreload 2\n",
    "\n",
    "# user written modules\n",
    "import dataproject\n"
   ]
  },
  {
   "cell_type": "markdown",
   "metadata": {},
   "source": [
    "# Read and clean data"
   ]
  },
  {
   "attachments": {},
   "cell_type": "markdown",
   "metadata": {},
   "source": [
    "We have imported data in cvs-files from the OECD Databank. \n",
    "\n",
    "**The 1st dataset:**\n",
    "The first dataset is an overview of GDP per capita for 34 countries in the world from 2018 to 2022. The included variables are year, GDP per capita and country. \n",
    "\n",
    "**The 2nd dataset:**\n",
    "The second dataset is an overview of child vaccination rates for XX countries in the world from 2018 to 2022. The included variables are year, GDP per capita and country. "
   ]
  },
  {
   "attachments": {},
   "cell_type": "markdown",
   "metadata": {},
   "source": [
    "# Importing and cleaning the first dataset"
   ]
  },
  {
   "cell_type": "code",
   "execution_count": null,
   "metadata": {},
   "outputs": [],
   "source": [
    "#import data\n",
    "gdp = pd.read_csv('GDP.csv')\n",
    "\n",
    "#inspect data\n",
    "print(gdp)"
   ]
  },
  {
   "cell_type": "code",
   "execution_count": null,
   "metadata": {},
   "outputs": [],
   "source": [
    "#We drop the unecessary columns\n",
    "drop_cont = ['SUBJECT', 'MEASURE', 'FREQUENCY', 'INDICATOR', 'Flag Codes']\n",
    "gdp.drop(drop_cont, axis=1, inplace=True)\n",
    "\n",
    "#Renaming the columns\n",
    "gdp.rename(columns = {'LOCATION' : 'country', 'TIME' : 'year', 'Value' : 'GDP'}, inplace=True)\n",
    "\n",
    "#Removing two rows that are not containing only one country\n",
    "gdp = gdp[gdp.country != 'EA19']\n",
    "gdp = gdp[gdp.country != 'EU27_2020']\n",
    "\n",
    "#Print\n",
    "print(gdp)"
   ]
  },
  {
   "cell_type": "code",
   "execution_count": null,
   "metadata": {},
   "outputs": [],
   "source": [
    "#Reshaping the data set to have all information for a country in one row\n",
    "gdp = gdp.pivot_table(index='country', columns='year', values='GDP', aggfunc='sum').reset_index() # reset_index removes the second index created by the pivot\n",
    "print(gdp)\n",
    "\n",
    "\n",
    "#Removing variables where data is missing\n",
    "gdp = gdp.dropna()\n",
    "print(gdp)"
   ]
  },
  {
   "cell_type": "code",
   "execution_count": null,
   "metadata": {},
   "outputs": [],
   "source": [
    "gdp.info()\n",
    "\n",
    "#Changing the type for country to string\n",
    "gdp.country = gdp.country.astype('string')"
   ]
  },
  {
   "attachments": {},
   "cell_type": "markdown",
   "metadata": {},
   "source": [
    "# Importing and cleaning the second dataset"
   ]
  },
  {
   "cell_type": "code",
   "execution_count": null,
   "metadata": {},
   "outputs": [],
   "source": [
    "# import data\n",
    "vac = pd.read_csv('vaccination.csv') \n",
    "# inspect data\n",
    "print(vac) "
   ]
  },
  {
   "cell_type": "code",
   "execution_count": null,
   "metadata": {},
   "outputs": [],
   "source": [
    "# Dropping the unecessary colums\n",
    "drop_these = ['FREQUENCY', 'Flag Codes', 'INDICATOR', 'MEASURE']\n",
    "vac.drop(drop_these, axis=1, inplace=True)\n",
    "# Renaming columns\n",
    "vac.rename(columns = {'LOCATION':'country', 'TIME':'year', 'SUBJECT':'subject', 'Value':'cv_rate'}, inplace=True)\n",
    "vac.head()\n",
    "#Removing the subject DTP, as we are interested in the measles vaccination rates\n",
    "vac = vac[vac.country != 'DTP']"
   ]
  },
  {
   "cell_type": "code",
   "execution_count": null,
   "metadata": {},
   "outputs": [],
   "source": [
    "# Reshaping from long to wide\n",
    "vac = vac.pivot_table(index='country', columns='year', values='cv_rate').reset_index() \n",
    "vac.head()"
   ]
  },
  {
   "cell_type": "code",
   "execution_count": null,
   "metadata": {},
   "outputs": [],
   "source": [
    "# Removing variables where data is missing\n",
    "vac = vac.dropna()\n",
    "print(vac)"
   ]
  },
  {
   "cell_type": "code",
   "execution_count": null,
   "metadata": {},
   "outputs": [],
   "source": [
    "vac.info()\n",
    "\n",
    "#Changing the type for country to string\n",
    "vac.country = vac.country.astype('string')"
   ]
  },
  {
   "cell_type": "markdown",
   "metadata": {},
   "source": [
    "## Explore each data set"
   ]
  },
  {
   "cell_type": "markdown",
   "metadata": {},
   "source": [
    "In order to be able to **explore the raw data**, you may provide **static** and **interactive plots** to show important developments "
   ]
  },
  {
   "cell_type": "markdown",
   "metadata": {},
   "source": [
    "**Interactive plot** :"
   ]
  },
  {
   "cell_type": "code",
   "execution_count": null,
   "metadata": {},
   "outputs": [],
   "source": [
    "def plot_func():\n",
    "    # Function that operates on data set\n",
    "    pass\n",
    "\n",
    "widgets.interact(plot_func, \n",
    "    # Let the widget interact with data through plot_func()    \n",
    "); \n"
   ]
  },
  {
   "cell_type": "markdown",
   "metadata": {},
   "source": [
    "Explain what you see when moving elements of the interactive plot around. "
   ]
  },
  {
   "cell_type": "markdown",
   "metadata": {},
   "source": [
    "# Merge data sets"
   ]
  },
  {
   "cell_type": "markdown",
   "metadata": {},
   "source": [
    "Now you create combinations of your loaded data sets. Remember the illustration of a (inner) **merge**:"
   ]
  },
  {
   "cell_type": "code",
   "execution_count": null,
   "metadata": {},
   "outputs": [],
   "source": [
    "plt.figure(figsize=(15,7))\n",
    "v = venn2(subsets = (4, 4, 10), set_labels = ('Data X', 'Data Y'))\n",
    "v.get_label_by_id('100').set_text('dropped')\n",
    "v.get_label_by_id('010').set_text('dropped' )\n",
    "v.get_label_by_id('110').set_text('included')\n",
    "plt.show()"
   ]
  },
  {
   "cell_type": "markdown",
   "metadata": {},
   "source": [
    "Here we are dropping elements from both data set X and data set Y. A left join would keep all observations in data X intact and subset only from Y. \n",
    "\n",
    "Make sure that your resulting data sets have the correct number of rows and columns. That is, be clear about which observations are thrown away. \n",
    "\n",
    "**Note:** Don't make Venn diagrams in your own data project. It is just for exposition. "
   ]
  },
  {
   "cell_type": "markdown",
   "metadata": {},
   "source": [
    "# Analysis"
   ]
  },
  {
   "cell_type": "markdown",
   "metadata": {},
   "source": [
    "To get a quick overview of the data, we show some **summary statistics** on a meaningful aggregation. "
   ]
  },
  {
   "cell_type": "markdown",
   "metadata": {},
   "source": [
    "MAKE FURTHER ANALYSIS. EXPLAIN THE CODE BRIEFLY AND SUMMARIZE THE RESULTS."
   ]
  },
  {
   "cell_type": "markdown",
   "metadata": {},
   "source": [
    "# Conclusion"
   ]
  },
  {
   "cell_type": "markdown",
   "metadata": {},
   "source": [
    "ADD CONCISE CONLUSION."
   ]
  }
 ],
 "metadata": {
  "kernelspec": {
   "display_name": "base",
   "language": "python",
   "name": "python3"
  },
  "language_info": {
   "codemirror_mode": {
    "name": "ipython",
    "version": 3
   },
   "file_extension": ".py",
   "mimetype": "text/x-python",
   "name": "python",
   "nbconvert_exporter": "python",
   "pygments_lexer": "ipython3",
   "version": "3.9.13"
  },
  "toc-autonumbering": true,
  "vscode": {
   "interpreter": {
    "hash": "604903271ebee04a1d41a6e5cf13d16aa8edab4556eed9bb8d54d40193dfe553"
   }
  }
 },
 "nbformat": 4,
 "nbformat_minor": 4
}
