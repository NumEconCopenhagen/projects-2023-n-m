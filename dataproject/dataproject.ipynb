{
 "cells": [
  {
   "attachments": {},
   "cell_type": "markdown",
   "metadata": {},
   "source": [
    "# GDP vs VACCINATION"
   ]
  },
  {
   "attachments": {},
   "cell_type": "markdown",
   "metadata": {},
   "source": [
    "In this project we seek to analyze the GDP for selected countries depending on the child vaccination rates. "
   ]
  },
  {
   "cell_type": "markdown",
   "metadata": {},
   "source": [
    "Imports and set magics:"
   ]
  },
  {
   "cell_type": "code",
   "execution_count": 1,
   "metadata": {},
   "outputs": [],
   "source": [
    "import pandas as pd\n",
    "import numpy as np\n",
    "import matplotlib.pyplot as plt\n",
    "import ipywidgets as widgets\n",
    "\n",
    "# autoreload modules when code is run\n",
    "%load_ext autoreload\n",
    "%autoreload 2\n",
    "\n",
    "# user written modules\n",
    "import dataproject\n"
   ]
  },
  {
   "cell_type": "markdown",
   "metadata": {},
   "source": [
    "# Read and clean data"
   ]
  },
  {
   "attachments": {},
   "cell_type": "markdown",
   "metadata": {},
   "source": [
    "We have imported data in cvs-files from the OECD Databank. \n",
    "\n",
    "**The 1st dataset:**\n",
    "The first dataset is an overview of GDP per capita for 34 countries in the world from 2018 to 2022. The included variables are year, GDP per capita and country. \n",
    "\n",
    "**The 2nd dataset:**\n",
    "The second dataset is an overview of child vaccination rates for XX countries in the world from 2018 to 2022. The included variables are year, GDP per capita and country. "
   ]
  },
  {
   "attachments": {},
   "cell_type": "markdown",
   "metadata": {},
   "source": [
    "# Importing and cleaning the first dataset"
   ]
  },
  {
   "cell_type": "code",
   "execution_count": 2,
   "metadata": {},
   "outputs": [
    {
     "name": "stdout",
     "output_type": "stream",
     "text": [
      "    LOCATION INDICATOR SUBJECT  MEASURE FREQUENCY  TIME         Value  \\\n",
      "0        AUS       GDP     TOT  USD_CAP         A  2018  52991.214900   \n",
      "1        AUS       GDP     TOT  USD_CAP         A  2019  52732.185831   \n",
      "2        AUS       GDP     TOT  USD_CAP         A  2020  55690.254043   \n",
      "3        AUS       GDP     TOT  USD_CAP         A  2021  61974.774982   \n",
      "4        AUT       GDP     TOT  USD_CAP         A  2018  56956.110562   \n",
      "..       ...       ...     ...      ...       ...   ...           ...   \n",
      "266      CMR       GDP     TOT  USD_CAP         A  2019   3900.880855   \n",
      "267      CMR       GDP     TOT  USD_CAP         A  2020   3861.209890   \n",
      "268      SEN       GDP     TOT  USD_CAP         A  2018   3416.171427   \n",
      "269      SEN       GDP     TOT  USD_CAP         A  2019   3530.096494   \n",
      "270      SEN       GDP     TOT  USD_CAP         A  2020   3513.149951   \n",
      "\n",
      "    Flag Codes  \n",
      "0          NaN  \n",
      "1          NaN  \n",
      "2          NaN  \n",
      "3          NaN  \n",
      "4          NaN  \n",
      "..         ...  \n",
      "266        NaN  \n",
      "267        NaN  \n",
      "268        NaN  \n",
      "269        NaN  \n",
      "270        NaN  \n",
      "\n",
      "[271 rows x 8 columns]\n"
     ]
    }
   ],
   "source": [
    "#import data\n",
    "gdp = pd.read_csv('GDP.csv')\n",
    "\n",
    "#inspect data\n",
    "print(gdp)"
   ]
  },
  {
   "cell_type": "code",
   "execution_count": 3,
   "metadata": {},
   "outputs": [
    {
     "name": "stdout",
     "output_type": "stream",
     "text": [
      "    country  year           GDP\n",
      "0       AUS  2018  52991.214900\n",
      "1       AUS  2019  52732.185831\n",
      "2       AUS  2020  55690.254043\n",
      "3       AUS  2021  61974.774982\n",
      "4       AUT  2018  56956.110562\n",
      "..      ...   ...           ...\n",
      "266     CMR  2019   3900.880855\n",
      "267     CMR  2020   3861.209890\n",
      "268     SEN  2018   3416.171427\n",
      "269     SEN  2019   3530.096494\n",
      "270     SEN  2020   3513.149951\n",
      "\n",
      "[261 rows x 3 columns]\n"
     ]
    }
   ],
   "source": [
    "#We drop the unecessary columns\n",
    "drop_cont = ['SUBJECT', 'MEASURE', 'FREQUENCY', 'INDICATOR', 'Flag Codes']\n",
    "gdp.drop(drop_cont, axis=1, inplace=True)\n",
    "\n",
    "#Renaming the columns\n",
    "gdp.rename(columns = {'LOCATION' : 'country', 'TIME' : 'year', 'Value' : 'GDP'}, inplace=True)\n",
    "\n",
    "#Removing two rows that are not containing only one country\n",
    "gdp = gdp[gdp.country != 'EA19']\n",
    "gdp = gdp[gdp.country != 'EU27_2020']\n",
    "\n",
    "#Print\n",
    "print(gdp)"
   ]
  },
  {
   "cell_type": "code",
   "execution_count": 4,
   "metadata": {},
   "outputs": [
    {
     "name": "stdout",
     "output_type": "stream",
     "text": [
      "year country          2018          2019          2020          2021  \\\n",
      "0        ALB  13498.122566  14407.379403  14033.967211           NaN   \n",
      "1        ARG  23290.675736  23263.429463  20981.428074  23856.680324   \n",
      "2        AUS  52991.214900  52732.185831  55690.254043  61974.774982   \n",
      "3        AUT  56956.110562  59719.612013  57258.818295  59991.439846   \n",
      "4        BEL  52530.841510  55801.087951  54544.288759  58820.998349   \n",
      "..       ...           ...           ...           ...           ...   \n",
      "58       SWE  53521.635778  56404.297122  56140.551353  60126.822079   \n",
      "59       TUR  28281.473275  28011.322789  27973.899303  30679.506593   \n",
      "60       USA  62449.612827  64690.272395  63480.861222  70181.121750   \n",
      "61       ZAF  13218.431286  13228.020366  12253.323477           NaN   \n",
      "62       ZMB   3507.795230   3514.688008   3358.004891           NaN   \n",
      "\n",
      "year          2022  \n",
      "0              NaN  \n",
      "1              NaN  \n",
      "2              NaN  \n",
      "3     68774.881689  \n",
      "4     66176.491484  \n",
      "..             ...  \n",
      "58    65209.039958  \n",
      "59             NaN  \n",
      "60             NaN  \n",
      "61             NaN  \n",
      "62             NaN  \n",
      "\n",
      "[63 rows x 6 columns]\n",
      "year country           2018           2019           2020           2021  \\\n",
      "3        AUT   56956.110562   59719.612013   57258.818295   59991.439846   \n",
      "4        BEL   52530.841510   55801.087951   54544.288759   58820.998349   \n",
      "7        CAN   49992.811418   49832.414539   47226.357276   53023.405782   \n",
      "8        CHE   70688.844490   72668.725550   70810.837738   75969.787471   \n",
      "15       CZE   41157.370409   44223.295751   42817.867499   44813.002627   \n",
      "16       DEU   55195.722049   57397.473982   56482.377267   58799.012445   \n",
      "17       DNK   57479.350221   59884.117380   60846.803672   64914.189543   \n",
      "18       ESP   40776.768298   43135.741954   37996.030376   40734.338665   \n",
      "19       EST   36488.637421   39068.367072   39460.614767   43505.074864   \n",
      "20       FIN   49573.255773   51811.599332   52294.342491   54701.696922   \n",
      "21       FRA   46336.933985   50222.232835   47828.528542   51011.836944   \n",
      "22       GBR   47219.464771   49317.743237   45872.178273   49814.943016   \n",
      "24       GRC   29617.518625   31155.946796   28416.523031   31297.164572   \n",
      "27       HUN   31908.863431   34645.565383   34169.922355   36773.313939   \n",
      "29       IRL   84824.335541   89846.694028   94037.963161  106879.157958   \n",
      "32       ITA   43427.663143   45799.741922   43144.404157   46686.423758   \n",
      "35       LTU   36376.535744   39950.948059   40128.340396   43699.067701   \n",
      "36       LUX  116334.724739  119253.372812  119882.982023  131311.164821   \n",
      "43       NLD   57825.399708   60207.995700   59821.266235   63369.162705   \n",
      "44       NOR   70252.735449   69915.017660   65135.920669   81871.642989   \n",
      "48       POL   31662.210541   34592.873746   34896.822600   37720.252895   \n",
      "49       PRT   34928.618990   37299.182306   34955.611560   36770.297858   \n",
      "56       SVK   31374.187996   33462.069969   32902.023587   33950.002255   \n",
      "57       SVN   39008.297051   42076.053931   40864.408685   43981.496806   \n",
      "58       SWE   53521.635778   56404.297122   56140.551353   60126.822079   \n",
      "\n",
      "year           2022  \n",
      "3      68774.881689  \n",
      "4      66176.491484  \n",
      "7      57058.469082  \n",
      "8      82389.515916  \n",
      "15     49956.512049  \n",
      "16     64101.466443  \n",
      "17     74793.266721  \n",
      "18     46747.557086  \n",
      "19     47721.323033  \n",
      "20     59808.219831  \n",
      "21     55698.406803  \n",
      "22     55175.810051  \n",
      "24     37212.227345  \n",
      "27     42665.113312  \n",
      "29    128343.445998  \n",
      "32     52461.180226  \n",
      "35     49328.635767  \n",
      "36    143394.130003  \n",
      "43     70966.057612  \n",
      "44     95026.796239  \n",
      "48     43455.436916  \n",
      "49     42341.460754  \n",
      "56     36704.186829  \n",
      "57     50713.217901  \n",
      "58     65209.039958  \n"
     ]
    }
   ],
   "source": [
    "#Reshaping the data set to have all information for a country in one row\n",
    "gdp = gdp.pivot_table(index='country', columns='year', values='GDP', aggfunc='sum').reset_index() # reset_index removes the second index created by the pivot\n",
    "print(gdp)\n",
    "\n",
    "\n",
    "#Removing variables where data is missing\n",
    "gdp = gdp.dropna()\n",
    "print(gdp)"
   ]
  },
  {
   "cell_type": "code",
   "execution_count": 5,
   "metadata": {},
   "outputs": [
    {
     "name": "stdout",
     "output_type": "stream",
     "text": [
      "<class 'pandas.core.frame.DataFrame'>\n",
      "Int64Index: 25 entries, 3 to 58\n",
      "Data columns (total 6 columns):\n",
      " #   Column   Non-Null Count  Dtype  \n",
      "---  ------   --------------  -----  \n",
      " 0   country  25 non-null     object \n",
      " 1   2018     25 non-null     float64\n",
      " 2   2019     25 non-null     float64\n",
      " 3   2020     25 non-null     float64\n",
      " 4   2021     25 non-null     float64\n",
      " 5   2022     25 non-null     float64\n",
      "dtypes: float64(5), object(1)\n",
      "memory usage: 1.4+ KB\n"
     ]
    }
   ],
   "source": [
    "gdp.info()\n",
    "\n",
    "#Changing the type for country to string\n",
    "gdp.country = gdp.country.astype('string')"
   ]
  },
  {
   "attachments": {},
   "cell_type": "markdown",
   "metadata": {},
   "source": [
    "# Importing and cleaning the second dataset"
   ]
  },
  {
   "cell_type": "code",
   "execution_count": 6,
   "metadata": {},
   "outputs": [
    {
     "name": "stdout",
     "output_type": "stream",
     "text": [
      "    LOCATION    INDICATOR  SUBJECT   MEASURE FREQUENCY  TIME  Value Flag Codes\n",
      "0        AUS  CHILDVACCIN      DTP  PC_CHILD         A  2018   94.6        NaN\n",
      "1        AUS  CHILDVACCIN      DTP  PC_CHILD         A  2019   94.9        NaN\n",
      "2        AUS  CHILDVACCIN      DTP  PC_CHILD         A  2020   95.4        NaN\n",
      "3        AUS  CHILDVACCIN      DTP  PC_CHILD         A  2021   95.0        NaN\n",
      "4        AUS  CHILDVACCIN  MEASLES  PC_CHILD         A  2018   95.0          E\n",
      "..       ...          ...      ...       ...       ...   ...    ...        ...\n",
      "319      PER  CHILDVACCIN      DTP  PC_CHILD         A  2019   88.0        NaN\n",
      "320      PER  CHILDVACCIN      DTP  PC_CHILD         A  2020   72.2        NaN\n",
      "321      PER  CHILDVACCIN  MEASLES  PC_CHILD         A  2018   85.0        NaN\n",
      "322      PER  CHILDVACCIN  MEASLES  PC_CHILD         A  2019   85.0        NaN\n",
      "323      PER  CHILDVACCIN  MEASLES  PC_CHILD         A  2020   77.1        NaN\n",
      "\n",
      "[324 rows x 8 columns]\n"
     ]
    }
   ],
   "source": [
    "# import data\n",
    "vac = pd.read_csv('vaccination.csv') \n",
    "# inspect data\n",
    "print(vac) "
   ]
  },
  {
   "cell_type": "code",
   "execution_count": 7,
   "metadata": {},
   "outputs": [],
   "source": [
    "# Dropping the unecessary colums\n",
    "drop_these = ['FREQUENCY', 'Flag Codes', 'INDICATOR', 'MEASURE']\n",
    "vac.drop(drop_these, axis=1, inplace=True)\n",
    "# Renaming columns\n",
    "vac.rename(columns = {'LOCATION':'country', 'TIME':'year', 'SUBJECT':'subject', 'Value':'cv_rate'}, inplace=True)\n",
    "vac.head()\n",
    "#Removing the subject DTP, as we are interested in the measles vaccination rates\n",
    "vac = vac[vac.country != 'DTP']"
   ]
  },
  {
   "cell_type": "code",
   "execution_count": 8,
   "metadata": {},
   "outputs": [
    {
     "data": {
      "text/html": [
       "<div>\n",
       "<style scoped>\n",
       "    .dataframe tbody tr th:only-of-type {\n",
       "        vertical-align: middle;\n",
       "    }\n",
       "\n",
       "    .dataframe tbody tr th {\n",
       "        vertical-align: top;\n",
       "    }\n",
       "\n",
       "    .dataframe thead th {\n",
       "        text-align: right;\n",
       "    }\n",
       "</style>\n",
       "<table border=\"1\" class=\"dataframe\">\n",
       "  <thead>\n",
       "    <tr style=\"text-align: right;\">\n",
       "      <th>year</th>\n",
       "      <th>country</th>\n",
       "      <th>2018</th>\n",
       "      <th>2019</th>\n",
       "      <th>2020</th>\n",
       "      <th>2021</th>\n",
       "    </tr>\n",
       "  </thead>\n",
       "  <tbody>\n",
       "    <tr>\n",
       "      <th>0</th>\n",
       "      <td>ARG</td>\n",
       "      <td>90.0</td>\n",
       "      <td>84.50</td>\n",
       "      <td>75.8</td>\n",
       "      <td>78.35</td>\n",
       "    </tr>\n",
       "    <tr>\n",
       "      <th>1</th>\n",
       "      <td>AUS</td>\n",
       "      <td>94.8</td>\n",
       "      <td>94.95</td>\n",
       "      <td>95.2</td>\n",
       "      <td>93.85</td>\n",
       "    </tr>\n",
       "    <tr>\n",
       "      <th>2</th>\n",
       "      <td>AUT</td>\n",
       "      <td>89.5</td>\n",
       "      <td>89.50</td>\n",
       "      <td>89.5</td>\n",
       "      <td>NaN</td>\n",
       "    </tr>\n",
       "    <tr>\n",
       "      <th>3</th>\n",
       "      <td>BEL</td>\n",
       "      <td>97.0</td>\n",
       "      <td>97.00</td>\n",
       "      <td>96.5</td>\n",
       "      <td>NaN</td>\n",
       "    </tr>\n",
       "    <tr>\n",
       "      <th>4</th>\n",
       "      <td>BRA</td>\n",
       "      <td>89.5</td>\n",
       "      <td>80.50</td>\n",
       "      <td>78.3</td>\n",
       "      <td>NaN</td>\n",
       "    </tr>\n",
       "  </tbody>\n",
       "</table>\n",
       "</div>"
      ],
      "text/plain": [
       "year country  2018   2019  2020   2021\n",
       "0        ARG  90.0  84.50  75.8  78.35\n",
       "1        AUS  94.8  94.95  95.2  93.85\n",
       "2        AUT  89.5  89.50  89.5    NaN\n",
       "3        BEL  97.0  97.00  96.5    NaN\n",
       "4        BRA  89.5  80.50  78.3    NaN"
      ]
     },
     "execution_count": 8,
     "metadata": {},
     "output_type": "execute_result"
    }
   ],
   "source": [
    "# Reshaping from long to wide\n",
    "vac = vac.pivot_table(index='country', columns='year', values='cv_rate').reset_index() \n",
    "vac.head()"
   ]
  },
  {
   "cell_type": "code",
   "execution_count": 9,
   "metadata": {},
   "outputs": [
    {
     "name": "stdout",
     "output_type": "stream",
     "text": [
      "year country   2018   2019   2020   2021\n",
      "0        ARG  90.00  84.50  75.80  78.35\n",
      "1        AUS  94.80  94.95  95.20  93.85\n",
      "8        CHN  98.85  98.95  99.30  99.40\n",
      "9        COL  93.50  94.50  89.20  86.45\n",
      "10       CRI  94.00  95.00  95.80  90.50\n",
      "11       CZE  96.70  94.55  95.60  95.15\n",
      "13       DNK  95.00  95.50  94.80  94.95\n",
      "14       ESP  95.25  96.75  96.15  92.60\n",
      "15       EST  89.40  89.60  90.90  89.45\n",
      "18       GBR  93.00  92.00  92.05  91.75\n",
      "20       HUN  99.90  99.90  99.85  99.85\n",
      "21       IDN  92.30  95.80  86.60  83.65\n",
      "22       IND  94.85  92.95  86.90  87.10\n",
      "23       IRL  93.40  92.25  93.00  91.95\n",
      "24       ISL  92.00  92.60  93.15  91.80\n",
      "29       LTU  92.25  92.40  90.75  89.25\n",
      "31       LVA  97.00  99.50  99.45  95.45\n",
      "32       MEX  92.50  77.50  79.40  83.45\n",
      "33       NLD  93.20  93.65  93.90  93.75\n",
      "34       NOR  96.00  97.00  96.90  96.70\n",
      "35       NZL  92.25  91.70  91.75  90.45\n",
      "39       RUS  97.25  97.30  96.90  97.00\n",
      "40       SVK  96.30  96.45  96.50  96.20\n",
      "43       TUR  97.00  97.85  96.70  95.80\n",
      "45       ZAF  81.85  84.15  83.90  86.50\n"
     ]
    }
   ],
   "source": [
    "# Removing variables where data is missing\n",
    "vac = vac.dropna()\n",
    "print(vac)"
   ]
  },
  {
   "cell_type": "code",
   "execution_count": 10,
   "metadata": {},
   "outputs": [
    {
     "name": "stdout",
     "output_type": "stream",
     "text": [
      "<class 'pandas.core.frame.DataFrame'>\n",
      "Int64Index: 25 entries, 0 to 45\n",
      "Data columns (total 5 columns):\n",
      " #   Column   Non-Null Count  Dtype  \n",
      "---  ------   --------------  -----  \n",
      " 0   country  25 non-null     object \n",
      " 1   2018     25 non-null     float64\n",
      " 2   2019     25 non-null     float64\n",
      " 3   2020     25 non-null     float64\n",
      " 4   2021     25 non-null     float64\n",
      "dtypes: float64(4), object(1)\n",
      "memory usage: 1.2+ KB\n"
     ]
    }
   ],
   "source": [
    "vac.info()\n",
    "\n",
    "#Changing the type for country to string\n",
    "vac.country = vac.country.astype('string')"
   ]
  },
  {
   "cell_type": "markdown",
   "metadata": {},
   "source": [
    "## Explore each data set"
   ]
  },
  {
   "cell_type": "markdown",
   "metadata": {},
   "source": [
    "In order to be able to **explore the raw data**, you may provide **static** and **interactive plots** to show important developments "
   ]
  },
  {
   "cell_type": "markdown",
   "metadata": {},
   "source": [
    "**Interactive plot** :"
   ]
  },
  {
   "cell_type": "code",
   "execution_count": 11,
   "metadata": {},
   "outputs": [
    {
     "data": {
      "application/vnd.jupyter.widget-view+json": {
       "model_id": "96e8c856d43048f6bda17b016bc363fd",
       "version_major": 2,
       "version_minor": 0
      },
      "text/plain": [
       "interactive(children=(Output(),), _dom_classes=('widget-interact',))"
      ]
     },
     "metadata": {},
     "output_type": "display_data"
    }
   ],
   "source": [
    "def plot_func():\n",
    "    # Function that operates on data set\n",
    "    pass\n",
    "\n",
    "widgets.interact(plot_func, \n",
    "    # Let the widget interact with data through plot_func()    \n",
    "); \n"
   ]
  },
  {
   "cell_type": "markdown",
   "metadata": {},
   "source": [
    "Explain what you see when moving elements of the interactive plot around. "
   ]
  },
  {
   "cell_type": "markdown",
   "metadata": {},
   "source": [
    "# Merge data sets"
   ]
  },
  {
   "cell_type": "markdown",
   "metadata": {},
   "source": [
    "Now you create combinations of your loaded data sets. Remember the illustration of a (inner) **merge**:"
   ]
  },
  {
   "cell_type": "code",
   "execution_count": 12,
   "metadata": {},
   "outputs": [
    {
     "ename": "NameError",
     "evalue": "name 'venn2' is not defined",
     "output_type": "error",
     "traceback": [
      "\u001b[0;31m---------------------------------------------------------------------------\u001b[0m",
      "\u001b[0;31mNameError\u001b[0m                                 Traceback (most recent call last)",
      "\u001b[0;32m/var/folders/bx/p8b0mkgd45q51402mwt0zkqm0000gn/T/ipykernel_3416/1190576843.py\u001b[0m in \u001b[0;36m<module>\u001b[0;34m\u001b[0m\n\u001b[1;32m      1\u001b[0m \u001b[0mplt\u001b[0m\u001b[0;34m.\u001b[0m\u001b[0mfigure\u001b[0m\u001b[0;34m(\u001b[0m\u001b[0mfigsize\u001b[0m\u001b[0;34m=\u001b[0m\u001b[0;34m(\u001b[0m\u001b[0;36m15\u001b[0m\u001b[0;34m,\u001b[0m\u001b[0;36m7\u001b[0m\u001b[0;34m)\u001b[0m\u001b[0;34m)\u001b[0m\u001b[0;34m\u001b[0m\u001b[0;34m\u001b[0m\u001b[0m\n\u001b[0;32m----> 2\u001b[0;31m \u001b[0mv\u001b[0m \u001b[0;34m=\u001b[0m \u001b[0mvenn2\u001b[0m\u001b[0;34m(\u001b[0m\u001b[0msubsets\u001b[0m \u001b[0;34m=\u001b[0m \u001b[0;34m(\u001b[0m\u001b[0;36m4\u001b[0m\u001b[0;34m,\u001b[0m \u001b[0;36m4\u001b[0m\u001b[0;34m,\u001b[0m \u001b[0;36m10\u001b[0m\u001b[0;34m)\u001b[0m\u001b[0;34m,\u001b[0m \u001b[0mset_labels\u001b[0m \u001b[0;34m=\u001b[0m \u001b[0;34m(\u001b[0m\u001b[0;34m'Data X'\u001b[0m\u001b[0;34m,\u001b[0m \u001b[0;34m'Data Y'\u001b[0m\u001b[0;34m)\u001b[0m\u001b[0;34m)\u001b[0m\u001b[0;34m\u001b[0m\u001b[0;34m\u001b[0m\u001b[0m\n\u001b[0m\u001b[1;32m      3\u001b[0m \u001b[0mv\u001b[0m\u001b[0;34m.\u001b[0m\u001b[0mget_label_by_id\u001b[0m\u001b[0;34m(\u001b[0m\u001b[0;34m'100'\u001b[0m\u001b[0;34m)\u001b[0m\u001b[0;34m.\u001b[0m\u001b[0mset_text\u001b[0m\u001b[0;34m(\u001b[0m\u001b[0;34m'dropped'\u001b[0m\u001b[0;34m)\u001b[0m\u001b[0;34m\u001b[0m\u001b[0;34m\u001b[0m\u001b[0m\n\u001b[1;32m      4\u001b[0m \u001b[0mv\u001b[0m\u001b[0;34m.\u001b[0m\u001b[0mget_label_by_id\u001b[0m\u001b[0;34m(\u001b[0m\u001b[0;34m'010'\u001b[0m\u001b[0;34m)\u001b[0m\u001b[0;34m.\u001b[0m\u001b[0mset_text\u001b[0m\u001b[0;34m(\u001b[0m\u001b[0;34m'dropped'\u001b[0m \u001b[0;34m)\u001b[0m\u001b[0;34m\u001b[0m\u001b[0;34m\u001b[0m\u001b[0m\n\u001b[1;32m      5\u001b[0m \u001b[0mv\u001b[0m\u001b[0;34m.\u001b[0m\u001b[0mget_label_by_id\u001b[0m\u001b[0;34m(\u001b[0m\u001b[0;34m'110'\u001b[0m\u001b[0;34m)\u001b[0m\u001b[0;34m.\u001b[0m\u001b[0mset_text\u001b[0m\u001b[0;34m(\u001b[0m\u001b[0;34m'included'\u001b[0m\u001b[0;34m)\u001b[0m\u001b[0;34m\u001b[0m\u001b[0;34m\u001b[0m\u001b[0m\n",
      "\u001b[0;31mNameError\u001b[0m: name 'venn2' is not defined"
     ]
    },
    {
     "data": {
      "text/plain": [
       "<Figure size 1500x700 with 0 Axes>"
      ]
     },
     "metadata": {},
     "output_type": "display_data"
    }
   ],
   "source": [
    "plt.figure(figsize=(15,7))\n",
    "v = venn2(subsets = (4, 4, 10), set_labels = ('Data X', 'Data Y'))\n",
    "v.get_label_by_id('100').set_text('dropped')\n",
    "v.get_label_by_id('010').set_text('dropped' )\n",
    "v.get_label_by_id('110').set_text('included')\n",
    "plt.show()"
   ]
  },
  {
   "cell_type": "markdown",
   "metadata": {},
   "source": [
    "Here we are dropping elements from both data set X and data set Y. A left join would keep all observations in data X intact and subset only from Y. \n",
    "\n",
    "Make sure that your resulting data sets have the correct number of rows and columns. That is, be clear about which observations are thrown away. \n",
    "\n",
    "**Note:** Don't make Venn diagrams in your own data project. It is just for exposition. "
   ]
  },
  {
   "cell_type": "markdown",
   "metadata": {},
   "source": [
    "# Analysis"
   ]
  },
  {
   "cell_type": "markdown",
   "metadata": {},
   "source": [
    "To get a quick overview of the data, we show some **summary statistics** on a meaningful aggregation. "
   ]
  },
  {
   "cell_type": "markdown",
   "metadata": {},
   "source": [
    "MAKE FURTHER ANALYSIS. EXPLAIN THE CODE BRIEFLY AND SUMMARIZE THE RESULTS."
   ]
  },
  {
   "cell_type": "markdown",
   "metadata": {},
   "source": [
    "# Conclusion"
   ]
  },
  {
   "cell_type": "markdown",
   "metadata": {},
   "source": [
    "ADD CONCISE CONLUSION."
   ]
  }
 ],
 "metadata": {
  "kernelspec": {
   "display_name": "base",
   "language": "python",
   "name": "python3"
  },
  "language_info": {
   "codemirror_mode": {
    "name": "ipython",
    "version": 3
   },
   "file_extension": ".py",
   "mimetype": "text/x-python",
   "name": "python",
   "nbconvert_exporter": "python",
   "pygments_lexer": "ipython3",
   "version": "3.9.13"
  },
  "toc-autonumbering": true,
  "vscode": {
   "interpreter": {
    "hash": "604903271ebee04a1d41a6e5cf13d16aa8edab4556eed9bb8d54d40193dfe553"
   }
  }
 },
 "nbformat": 4,
 "nbformat_minor": 4
}
