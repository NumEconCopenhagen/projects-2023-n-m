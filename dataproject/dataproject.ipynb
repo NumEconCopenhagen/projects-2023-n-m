{
 "cells": [
  {
   "attachments": {},
   "cell_type": "markdown",
   "metadata": {},
   "source": [
    "# GDP vs Measles Vaccination"
   ]
  },
  {
   "attachments": {},
   "cell_type": "markdown",
   "metadata": {},
   "source": [
    "In this project we seek to analyze the GDP for selected countries depending on the child measles vaccination rates. "
   ]
  },
  {
   "cell_type": "markdown",
   "metadata": {},
   "source": [
    "Imports and set magics:"
   ]
  },
  {
   "cell_type": "code",
   "execution_count": null,
   "metadata": {},
   "outputs": [],
   "source": [
    "import pandas as pd\n",
    "import numpy as np\n",
    "import matplotlib.pyplot as plt\n",
    "import ipywidgets as widgets\n",
    "import seaborn as sns\n",
    "\n",
    "# autoreload modules when code is run\n",
    "%load_ext autoreload\n",
    "%autoreload 2\n",
    "\n",
    "# user written modules\n",
    "import dataproject\n"
   ]
  },
  {
   "attachments": {},
   "cell_type": "markdown",
   "metadata": {},
   "source": [
    "We have imported data in cvs-files from the OECD Databank. \n",
    "\n",
    "**The 1st dataset:**\n",
    "The first dataset is an overview of GDP per capita for 7 countries in the world from 2018 to 2021. The included variables are year, GDP per capita and country. \n",
    "\n",
    "**The 2nd dataset:**\n",
    "The second dataset is an overview of child vaccination rates for 7 countries in the world from 2018 to 2021. The included variables are year, child measles vaccination rates and country. "
   ]
  },
  {
   "attachments": {},
   "cell_type": "markdown",
   "metadata": {},
   "source": [
    "# Importing and cleaning the first dataset"
   ]
  },
  {
   "cell_type": "code",
   "execution_count": null,
   "metadata": {},
   "outputs": [],
   "source": [
    "#import data\n",
    "filename = 'GDP2.xlsx'\n",
    "pd.read_excel(filename).head(7)\n",
    "\n",
    "gdp = pd.read_excel(filename, skiprows=2)\n",
    "gdp.head(7)\n"
   ]
  },
  {
   "cell_type": "code",
   "execution_count": null,
   "metadata": {},
   "outputs": [],
   "source": [
    "#Removing the first columns\n",
    "drop_these = ['Unnamed: ' + str(num) for num in range(2)]\n",
    "gdp.drop(drop_these, axis=1, inplace=True)\n",
    "gdp.head(7)"
   ]
  },
  {
   "cell_type": "code",
   "execution_count": null,
   "metadata": {},
   "outputs": [],
   "source": [
    "#Renaming the columns\n",
    "gdp.rename(columns = {'Unnamed: 2':'country'}, inplace=True)\n",
    "gdp.rename(columns = {2018:'gdp2018'}, inplace=True)\n",
    "gdp.rename(columns = {2019:'gdp2019'}, inplace=True)\n",
    "gdp.rename(columns = {2020:'gdp2020'}, inplace=True)\n",
    "gdp.rename(columns = {2021:'gdp2021'}, inplace=True)\n",
    "gdp.head(7)"
   ]
  },
  {
   "cell_type": "code",
   "execution_count": null,
   "metadata": {},
   "outputs": [],
   "source": [
    "#Resetting the index\n",
    "gdp.reset_index(inplace = True, drop = True)\n",
    "gdp.iloc[0:7,:]"
   ]
  },
  {
   "cell_type": "code",
   "execution_count": null,
   "metadata": {},
   "outputs": [],
   "source": [
    "#Changing from wide to long\n",
    "gdp_long = pd.wide_to_long(gdp, stubnames='gdp', i='country', j='year')\n",
    "gdp_long.head(7)"
   ]
  },
  {
   "cell_type": "code",
   "execution_count": null,
   "metadata": {},
   "outputs": [],
   "source": [
    "gdp_long = gdp_long.reset_index()\n",
    "gdp_long.loc[gdp_long.country == 'China', :]"
   ]
  },
  {
   "attachments": {},
   "cell_type": "markdown",
   "metadata": {},
   "source": [
    "**Plotting the first dataset**"
   ]
  },
  {
   "cell_type": "code",
   "execution_count": null,
   "metadata": {},
   "outputs": [],
   "source": [
    "gdp_china = gdp_long.loc[gdp_long.country == 'China', :]\n",
    "gdp_china.plot(x='year', y='gdp', legend=False);\n",
    "plt.title(\"GDP pr. capita in China\")\n",
    "plt.show()"
   ]
  },
  {
   "attachments": {},
   "cell_type": "markdown",
   "metadata": {},
   "source": [
    "# Importing and cleaning the second dataset"
   ]
  },
  {
   "cell_type": "code",
   "execution_count": null,
   "metadata": {},
   "outputs": [],
   "source": [
    "#import data\n",
    "filename = 'vac.xlsx'\n",
    "pd.read_excel(filename).head(7)\n",
    "\n",
    "vac = pd.read_excel(filename)\n",
    "vac.head(7)"
   ]
  },
  {
   "cell_type": "code",
   "execution_count": null,
   "metadata": {},
   "outputs": [],
   "source": [
    "#Renaming the columns\n",
    "vac.rename(columns = {'Unnamed: 0':'country'}, inplace=True)\n",
    "vac.rename(columns = {2018:'vac2018'}, inplace=True)\n",
    "vac.rename(columns = {2019:'vac2019'}, inplace=True)\n",
    "vac.rename(columns = {2020:'vac2020'}, inplace=True)\n",
    "vac.rename(columns = {2021:'vac2021'}, inplace=True)\n",
    "vac.head(7)"
   ]
  },
  {
   "cell_type": "code",
   "execution_count": null,
   "metadata": {},
   "outputs": [],
   "source": [
    "#Resetting the index\n",
    "vac.reset_index(inplace = True, drop = True)\n",
    "vac.iloc[0:7,:]"
   ]
  },
  {
   "cell_type": "code",
   "execution_count": null,
   "metadata": {},
   "outputs": [],
   "source": [
    "#Changing from wide to long\n",
    "vac_long = pd.wide_to_long(vac, stubnames='vac', i='country', j='year')\n",
    "vac_long.head(7)"
   ]
  },
  {
   "cell_type": "markdown",
   "metadata": {},
   "source": [
    "## Explore each data set"
   ]
  },
  {
   "cell_type": "markdown",
   "metadata": {},
   "source": [
    "In order to be able to **explore the raw data**, you may provide **static** and **interactive plots** to show important developments "
   ]
  },
  {
   "attachments": {},
   "cell_type": "markdown",
   "metadata": {},
   "source": [
    "**Plotting the vaccine rates for China in a static figure**"
   ]
  },
  {
   "cell_type": "code",
   "execution_count": null,
   "metadata": {},
   "outputs": [],
   "source": [
    "vac_long = vac_long.reset_index()\n",
    "vac_long.loc[vac_long.country == 'China', :]\n",
    "\n",
    "vac_china = vac_long.loc[vac_long.country == 'China', :]\n",
    "vac_china.plot(x='year', y='vac', legend=False);\n",
    "plt.title(\"Measles vaccination rates for children in China\")\n",
    "plt.show()"
   ]
  },
  {
   "cell_type": "markdown",
   "metadata": {},
   "source": [
    "**Interactive plot** :"
   ]
  },
  {
   "cell_type": "markdown",
   "metadata": {},
   "source": [
    "Explain what you see when moving elements of the interactive plot around. "
   ]
  },
  {
   "cell_type": "markdown",
   "metadata": {},
   "source": [
    "# Merge data sets"
   ]
  },
  {
   "attachments": {},
   "cell_type": "markdown",
   "metadata": {},
   "source": [
    "Now we combine our loaded data sets. "
   ]
  },
  {
   "cell_type": "code",
   "execution_count": null,
   "metadata": {},
   "outputs": [],
   "source": [
    "inner = pd.merge(gdp,vac, how='left' ,on=['country'])\n",
    "print(inner)"
   ]
  },
  {
   "cell_type": "code",
   "execution_count": null,
   "metadata": {},
   "outputs": [],
   "source": [
    "#Changing from wide to long\n",
    "inner_long = pd.wide_to_long(inner, stubnames=['gdp', 'vac'], i='country', j='year')\n",
    "inner_long.head(7)"
   ]
  },
  {
   "cell_type": "markdown",
   "metadata": {},
   "source": [
    "Here we are dropping elements from both data set X and data set Y. A left join would keep all observations in data X intact and subset only from Y. \n",
    "\n",
    "Make sure that your resulting data sets have the correct number of rows and columns. That is, be clear about which observations are thrown away. \n",
    "\n",
    "**Note:** Don't make Venn diagrams in your own data project. It is just for exposition. "
   ]
  },
  {
   "cell_type": "markdown",
   "metadata": {},
   "source": [
    "# Analysis"
   ]
  },
  {
   "cell_type": "markdown",
   "metadata": {},
   "source": [
    "To get a quick overview of the data, we show some **summary statistics** on a meaningful aggregation. "
   ]
  },
  {
   "cell_type": "markdown",
   "metadata": {},
   "source": [
    "MAKE FURTHER ANALYSIS. EXPLAIN THE CODE BRIEFLY AND SUMMARIZE THE RESULTS."
   ]
  },
  {
   "cell_type": "markdown",
   "metadata": {},
   "source": [
    "# Conclusion"
   ]
  },
  {
   "cell_type": "markdown",
   "metadata": {},
   "source": [
    "ADD CONCISE CONLUSION."
   ]
  }
 ],
 "metadata": {
  "kernelspec": {
   "display_name": "base",
   "language": "python",
   "name": "python3"
  },
  "language_info": {
   "codemirror_mode": {
    "name": "ipython",
    "version": 3
   },
   "file_extension": ".py",
   "mimetype": "text/x-python",
   "name": "python",
   "nbconvert_exporter": "python",
   "pygments_lexer": "ipython3",
   "version": "3.9.13"
  },
  "toc-autonumbering": true,
  "vscode": {
   "interpreter": {
    "hash": "604903271ebee04a1d41a6e5cf13d16aa8edab4556eed9bb8d54d40193dfe553"
   }
  }
 },
 "nbformat": 4,
 "nbformat_minor": 4
}
