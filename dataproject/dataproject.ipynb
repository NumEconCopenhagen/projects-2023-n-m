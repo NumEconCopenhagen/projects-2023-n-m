{
 "cells": [
  {
   "attachments": {},
   "cell_type": "markdown",
   "metadata": {},
   "source": [
    "# GDP vs VACCINATION"
   ]
  },
  {
   "attachments": {},
   "cell_type": "markdown",
   "metadata": {},
   "source": [
    "In this project we seek to analyze the GDP for selected countries depending on the child vaccination rates. "
   ]
  },
  {
   "cell_type": "markdown",
   "metadata": {},
   "source": [
    "Imports and set magics:"
   ]
  },
  {
   "cell_type": "code",
   "execution_count": 414,
   "metadata": {},
   "outputs": [
    {
     "name": "stdout",
     "output_type": "stream",
     "text": [
      "The autoreload extension is already loaded. To reload it, use:\n",
      "  %reload_ext autoreload\n"
     ]
    }
   ],
   "source": [
    "import pandas as pd\n",
    "import numpy as np\n",
    "import matplotlib.pyplot as plt\n",
    "import ipywidgets as widgets\n",
    "\n",
    "# autoreload modules when code is run\n",
    "%load_ext autoreload\n",
    "%autoreload 2\n",
    "\n",
    "# user written modules\n",
    "import dataproject\n"
   ]
  },
  {
   "cell_type": "markdown",
   "metadata": {},
   "source": [
    "# Read and clean data"
   ]
  },
  {
   "attachments": {},
   "cell_type": "markdown",
   "metadata": {},
   "source": [
    "We have imported data in cvs-files from the OECD Databank. \n",
    "\n",
    "**The 1st dataset:**\n",
    "The first dataset is an overview of GDP per capita for 34 countries in the world from 2018 to 2022. The included variables are year, GDP per capita and country. \n",
    "\n",
    "**The 2nd dataset:**\n",
    "The second dataset is an overview of child vaccination rates for XX countries in the world from 2018 to 2022. The included variables are year, GDP per capita and country. "
   ]
  },
  {
   "attachments": {},
   "cell_type": "markdown",
   "metadata": {},
   "source": [
    "# Importing and cleaning the first dataset"
   ]
  },
  {
   "cell_type": "code",
   "execution_count": 415,
   "metadata": {},
   "outputs": [
    {
     "data": {
      "text/html": [
       "<div>\n",
       "<style scoped>\n",
       "    .dataframe tbody tr th:only-of-type {\n",
       "        vertical-align: middle;\n",
       "    }\n",
       "\n",
       "    .dataframe tbody tr th {\n",
       "        vertical-align: top;\n",
       "    }\n",
       "\n",
       "    .dataframe thead th {\n",
       "        text-align: right;\n",
       "    }\n",
       "</style>\n",
       "<table border=\"1\" class=\"dataframe\">\n",
       "  <thead>\n",
       "    <tr style=\"text-align: right;\">\n",
       "      <th></th>\n",
       "      <th>Unnamed: 0</th>\n",
       "      <th>Unnamed: 1</th>\n",
       "      <th>Unnamed: 2</th>\n",
       "      <th>2018</th>\n",
       "      <th>2019</th>\n",
       "      <th>2020</th>\n",
       "      <th>2021</th>\n",
       "    </tr>\n",
       "  </thead>\n",
       "  <tbody>\n",
       "    <tr>\n",
       "      <th>0</th>\n",
       "      <td>NaN</td>\n",
       "      <td>NaN</td>\n",
       "      <td>Argentina</td>\n",
       "      <td>23290.7</td>\n",
       "      <td>14407.4</td>\n",
       "      <td>20981.4</td>\n",
       "      <td>23856.7</td>\n",
       "    </tr>\n",
       "    <tr>\n",
       "      <th>1</th>\n",
       "      <td>NaN</td>\n",
       "      <td>NaN</td>\n",
       "      <td>Australia</td>\n",
       "      <td>52991.2</td>\n",
       "      <td>52732.2</td>\n",
       "      <td>55690.3</td>\n",
       "      <td>61974.8</td>\n",
       "    </tr>\n",
       "    <tr>\n",
       "      <th>2</th>\n",
       "      <td>NaN</td>\n",
       "      <td>NaN</td>\n",
       "      <td>China</td>\n",
       "      <td>15466.3</td>\n",
       "      <td>16624.5</td>\n",
       "      <td>17176.9</td>\n",
       "      <td>19429.1</td>\n",
       "    </tr>\n",
       "    <tr>\n",
       "      <th>3</th>\n",
       "      <td>NaN</td>\n",
       "      <td>NaN</td>\n",
       "      <td>Denmark</td>\n",
       "      <td>57479.4</td>\n",
       "      <td>59884.1</td>\n",
       "      <td>60846.8</td>\n",
       "      <td>64914.2</td>\n",
       "    </tr>\n",
       "    <tr>\n",
       "      <th>4</th>\n",
       "      <td>NaN</td>\n",
       "      <td>NaN</td>\n",
       "      <td>Ireland</td>\n",
       "      <td>84824.0</td>\n",
       "      <td>89846.7</td>\n",
       "      <td>94038.0</td>\n",
       "      <td>106879.2</td>\n",
       "    </tr>\n",
       "    <tr>\n",
       "      <th>5</th>\n",
       "      <td>NaN</td>\n",
       "      <td>NaN</td>\n",
       "      <td>Mexico</td>\n",
       "      <td>20561.2</td>\n",
       "      <td>20244.6</td>\n",
       "      <td>18465.6</td>\n",
       "      <td>19438.8</td>\n",
       "    </tr>\n",
       "    <tr>\n",
       "      <th>6</th>\n",
       "      <td>NaN</td>\n",
       "      <td>NaN</td>\n",
       "      <td>UK</td>\n",
       "      <td>47219.5</td>\n",
       "      <td>49317.7</td>\n",
       "      <td>45872.2</td>\n",
       "      <td>49814.9</td>\n",
       "    </tr>\n",
       "  </tbody>\n",
       "</table>\n",
       "</div>"
      ],
      "text/plain": [
       "   Unnamed: 0  Unnamed: 1 Unnamed: 2     2018     2019     2020      2021\n",
       "0         NaN         NaN  Argentina  23290.7  14407.4  20981.4   23856.7\n",
       "1         NaN         NaN  Australia  52991.2  52732.2  55690.3   61974.8\n",
       "2         NaN         NaN      China  15466.3  16624.5  17176.9   19429.1\n",
       "3         NaN         NaN    Denmark  57479.4  59884.1  60846.8   64914.2\n",
       "4         NaN         NaN    Ireland  84824.0  89846.7  94038.0  106879.2\n",
       "5         NaN         NaN     Mexico  20561.2  20244.6  18465.6   19438.8\n",
       "6         NaN         NaN         UK  47219.5  49317.7  45872.2   49814.9"
      ]
     },
     "execution_count": 415,
     "metadata": {},
     "output_type": "execute_result"
    }
   ],
   "source": [
    "#import data\n",
    "filename = 'GDP2.xlsx'\n",
    "pd.read_excel(filename).head(7)\n",
    "\n",
    "gdp = pd.read_excel(filename, skiprows=2)\n",
    "gdp.head(7)\n"
   ]
  },
  {
   "cell_type": "code",
   "execution_count": 416,
   "metadata": {},
   "outputs": [
    {
     "data": {
      "text/html": [
       "<div>\n",
       "<style scoped>\n",
       "    .dataframe tbody tr th:only-of-type {\n",
       "        vertical-align: middle;\n",
       "    }\n",
       "\n",
       "    .dataframe tbody tr th {\n",
       "        vertical-align: top;\n",
       "    }\n",
       "\n",
       "    .dataframe thead th {\n",
       "        text-align: right;\n",
       "    }\n",
       "</style>\n",
       "<table border=\"1\" class=\"dataframe\">\n",
       "  <thead>\n",
       "    <tr style=\"text-align: right;\">\n",
       "      <th></th>\n",
       "      <th>Unnamed: 2</th>\n",
       "      <th>2018</th>\n",
       "      <th>2019</th>\n",
       "      <th>2020</th>\n",
       "      <th>2021</th>\n",
       "    </tr>\n",
       "  </thead>\n",
       "  <tbody>\n",
       "    <tr>\n",
       "      <th>0</th>\n",
       "      <td>Argentina</td>\n",
       "      <td>23290.7</td>\n",
       "      <td>14407.4</td>\n",
       "      <td>20981.4</td>\n",
       "      <td>23856.7</td>\n",
       "    </tr>\n",
       "    <tr>\n",
       "      <th>1</th>\n",
       "      <td>Australia</td>\n",
       "      <td>52991.2</td>\n",
       "      <td>52732.2</td>\n",
       "      <td>55690.3</td>\n",
       "      <td>61974.8</td>\n",
       "    </tr>\n",
       "    <tr>\n",
       "      <th>2</th>\n",
       "      <td>China</td>\n",
       "      <td>15466.3</td>\n",
       "      <td>16624.5</td>\n",
       "      <td>17176.9</td>\n",
       "      <td>19429.1</td>\n",
       "    </tr>\n",
       "    <tr>\n",
       "      <th>3</th>\n",
       "      <td>Denmark</td>\n",
       "      <td>57479.4</td>\n",
       "      <td>59884.1</td>\n",
       "      <td>60846.8</td>\n",
       "      <td>64914.2</td>\n",
       "    </tr>\n",
       "    <tr>\n",
       "      <th>4</th>\n",
       "      <td>Ireland</td>\n",
       "      <td>84824.0</td>\n",
       "      <td>89846.7</td>\n",
       "      <td>94038.0</td>\n",
       "      <td>106879.2</td>\n",
       "    </tr>\n",
       "    <tr>\n",
       "      <th>5</th>\n",
       "      <td>Mexico</td>\n",
       "      <td>20561.2</td>\n",
       "      <td>20244.6</td>\n",
       "      <td>18465.6</td>\n",
       "      <td>19438.8</td>\n",
       "    </tr>\n",
       "    <tr>\n",
       "      <th>6</th>\n",
       "      <td>UK</td>\n",
       "      <td>47219.5</td>\n",
       "      <td>49317.7</td>\n",
       "      <td>45872.2</td>\n",
       "      <td>49814.9</td>\n",
       "    </tr>\n",
       "  </tbody>\n",
       "</table>\n",
       "</div>"
      ],
      "text/plain": [
       "  Unnamed: 2     2018     2019     2020      2021\n",
       "0  Argentina  23290.7  14407.4  20981.4   23856.7\n",
       "1  Australia  52991.2  52732.2  55690.3   61974.8\n",
       "2      China  15466.3  16624.5  17176.9   19429.1\n",
       "3    Denmark  57479.4  59884.1  60846.8   64914.2\n",
       "4    Ireland  84824.0  89846.7  94038.0  106879.2\n",
       "5     Mexico  20561.2  20244.6  18465.6   19438.8\n",
       "6         UK  47219.5  49317.7  45872.2   49814.9"
      ]
     },
     "execution_count": 416,
     "metadata": {},
     "output_type": "execute_result"
    }
   ],
   "source": [
    "#Removing the first columns\n",
    "drop_these = ['Unnamed: ' + str(num) for num in range(2)]\n",
    "gdp.drop(drop_these, axis=1, inplace=True)\n",
    "gdp.head(7)"
   ]
  },
  {
   "cell_type": "code",
   "execution_count": 417,
   "metadata": {},
   "outputs": [
    {
     "data": {
      "text/html": [
       "<div>\n",
       "<style scoped>\n",
       "    .dataframe tbody tr th:only-of-type {\n",
       "        vertical-align: middle;\n",
       "    }\n",
       "\n",
       "    .dataframe tbody tr th {\n",
       "        vertical-align: top;\n",
       "    }\n",
       "\n",
       "    .dataframe thead th {\n",
       "        text-align: right;\n",
       "    }\n",
       "</style>\n",
       "<table border=\"1\" class=\"dataframe\">\n",
       "  <thead>\n",
       "    <tr style=\"text-align: right;\">\n",
       "      <th></th>\n",
       "      <th>country</th>\n",
       "      <th>2018</th>\n",
       "      <th>2019</th>\n",
       "      <th>2020</th>\n",
       "      <th>2021</th>\n",
       "    </tr>\n",
       "  </thead>\n",
       "  <tbody>\n",
       "    <tr>\n",
       "      <th>0</th>\n",
       "      <td>Argentina</td>\n",
       "      <td>23290.7</td>\n",
       "      <td>14407.4</td>\n",
       "      <td>20981.4</td>\n",
       "      <td>23856.7</td>\n",
       "    </tr>\n",
       "    <tr>\n",
       "      <th>1</th>\n",
       "      <td>Australia</td>\n",
       "      <td>52991.2</td>\n",
       "      <td>52732.2</td>\n",
       "      <td>55690.3</td>\n",
       "      <td>61974.8</td>\n",
       "    </tr>\n",
       "    <tr>\n",
       "      <th>2</th>\n",
       "      <td>China</td>\n",
       "      <td>15466.3</td>\n",
       "      <td>16624.5</td>\n",
       "      <td>17176.9</td>\n",
       "      <td>19429.1</td>\n",
       "    </tr>\n",
       "    <tr>\n",
       "      <th>3</th>\n",
       "      <td>Denmark</td>\n",
       "      <td>57479.4</td>\n",
       "      <td>59884.1</td>\n",
       "      <td>60846.8</td>\n",
       "      <td>64914.2</td>\n",
       "    </tr>\n",
       "    <tr>\n",
       "      <th>4</th>\n",
       "      <td>Ireland</td>\n",
       "      <td>84824.0</td>\n",
       "      <td>89846.7</td>\n",
       "      <td>94038.0</td>\n",
       "      <td>106879.2</td>\n",
       "    </tr>\n",
       "    <tr>\n",
       "      <th>5</th>\n",
       "      <td>Mexico</td>\n",
       "      <td>20561.2</td>\n",
       "      <td>20244.6</td>\n",
       "      <td>18465.6</td>\n",
       "      <td>19438.8</td>\n",
       "    </tr>\n",
       "    <tr>\n",
       "      <th>6</th>\n",
       "      <td>UK</td>\n",
       "      <td>47219.5</td>\n",
       "      <td>49317.7</td>\n",
       "      <td>45872.2</td>\n",
       "      <td>49814.9</td>\n",
       "    </tr>\n",
       "  </tbody>\n",
       "</table>\n",
       "</div>"
      ],
      "text/plain": [
       "     country     2018     2019     2020      2021\n",
       "0  Argentina  23290.7  14407.4  20981.4   23856.7\n",
       "1  Australia  52991.2  52732.2  55690.3   61974.8\n",
       "2      China  15466.3  16624.5  17176.9   19429.1\n",
       "3    Denmark  57479.4  59884.1  60846.8   64914.2\n",
       "4    Ireland  84824.0  89846.7  94038.0  106879.2\n",
       "5     Mexico  20561.2  20244.6  18465.6   19438.8\n",
       "6         UK  47219.5  49317.7  45872.2   49814.9"
      ]
     },
     "execution_count": 417,
     "metadata": {},
     "output_type": "execute_result"
    }
   ],
   "source": [
    "#Renaming the first column\n",
    "gdp.rename(columns = {'Unnamed: 2':'country'}, inplace=True)\n",
    "gdp.head(7)"
   ]
  },
  {
   "cell_type": "code",
   "execution_count": 418,
   "metadata": {},
   "outputs": [
    {
     "data": {
      "text/html": [
       "<div>\n",
       "<style scoped>\n",
       "    .dataframe tbody tr th:only-of-type {\n",
       "        vertical-align: middle;\n",
       "    }\n",
       "\n",
       "    .dataframe tbody tr th {\n",
       "        vertical-align: top;\n",
       "    }\n",
       "\n",
       "    .dataframe thead th {\n",
       "        text-align: right;\n",
       "    }\n",
       "</style>\n",
       "<table border=\"1\" class=\"dataframe\">\n",
       "  <thead>\n",
       "    <tr style=\"text-align: right;\">\n",
       "      <th></th>\n",
       "      <th>country</th>\n",
       "      <th>gdp2018</th>\n",
       "      <th>gdp2019</th>\n",
       "      <th>gdp2020</th>\n",
       "      <th>gdp2021</th>\n",
       "    </tr>\n",
       "  </thead>\n",
       "  <tbody>\n",
       "    <tr>\n",
       "      <th>0</th>\n",
       "      <td>Argentina</td>\n",
       "      <td>23290.7</td>\n",
       "      <td>14407.4</td>\n",
       "      <td>20981.4</td>\n",
       "      <td>23856.7</td>\n",
       "    </tr>\n",
       "    <tr>\n",
       "      <th>1</th>\n",
       "      <td>Australia</td>\n",
       "      <td>52991.2</td>\n",
       "      <td>52732.2</td>\n",
       "      <td>55690.3</td>\n",
       "      <td>61974.8</td>\n",
       "    </tr>\n",
       "    <tr>\n",
       "      <th>2</th>\n",
       "      <td>China</td>\n",
       "      <td>15466.3</td>\n",
       "      <td>16624.5</td>\n",
       "      <td>17176.9</td>\n",
       "      <td>19429.1</td>\n",
       "    </tr>\n",
       "    <tr>\n",
       "      <th>3</th>\n",
       "      <td>Denmark</td>\n",
       "      <td>57479.4</td>\n",
       "      <td>59884.1</td>\n",
       "      <td>60846.8</td>\n",
       "      <td>64914.2</td>\n",
       "    </tr>\n",
       "    <tr>\n",
       "      <th>4</th>\n",
       "      <td>Ireland</td>\n",
       "      <td>84824.0</td>\n",
       "      <td>89846.7</td>\n",
       "      <td>94038.0</td>\n",
       "      <td>106879.2</td>\n",
       "    </tr>\n",
       "    <tr>\n",
       "      <th>5</th>\n",
       "      <td>Mexico</td>\n",
       "      <td>20561.2</td>\n",
       "      <td>20244.6</td>\n",
       "      <td>18465.6</td>\n",
       "      <td>19438.8</td>\n",
       "    </tr>\n",
       "    <tr>\n",
       "      <th>6</th>\n",
       "      <td>UK</td>\n",
       "      <td>47219.5</td>\n",
       "      <td>49317.7</td>\n",
       "      <td>45872.2</td>\n",
       "      <td>49814.9</td>\n",
       "    </tr>\n",
       "  </tbody>\n",
       "</table>\n",
       "</div>"
      ],
      "text/plain": [
       "     country  gdp2018  gdp2019  gdp2020   gdp2021\n",
       "0  Argentina  23290.7  14407.4  20981.4   23856.7\n",
       "1  Australia  52991.2  52732.2  55690.3   61974.8\n",
       "2      China  15466.3  16624.5  17176.9   19429.1\n",
       "3    Denmark  57479.4  59884.1  60846.8   64914.2\n",
       "4    Ireland  84824.0  89846.7  94038.0  106879.2\n",
       "5     Mexico  20561.2  20244.6  18465.6   19438.8\n",
       "6         UK  47219.5  49317.7  45872.2   49814.9"
      ]
     },
     "execution_count": 418,
     "metadata": {},
     "output_type": "execute_result"
    }
   ],
   "source": [
    "gdp.rename(columns = {2018:'gdp2018'}, inplace=True)\n",
    "gdp.rename(columns = {2019:'gdp2019'}, inplace=True)\n",
    "gdp.rename(columns = {2020:'gdp2020'}, inplace=True)\n",
    "gdp.rename(columns = {2021:'gdp2021'}, inplace=True)\n",
    "gdp.head(7)"
   ]
  },
  {
   "cell_type": "code",
   "execution_count": 419,
   "metadata": {},
   "outputs": [
    {
     "data": {
      "text/html": [
       "<div>\n",
       "<style scoped>\n",
       "    .dataframe tbody tr th:only-of-type {\n",
       "        vertical-align: middle;\n",
       "    }\n",
       "\n",
       "    .dataframe tbody tr th {\n",
       "        vertical-align: top;\n",
       "    }\n",
       "\n",
       "    .dataframe thead th {\n",
       "        text-align: right;\n",
       "    }\n",
       "</style>\n",
       "<table border=\"1\" class=\"dataframe\">\n",
       "  <thead>\n",
       "    <tr style=\"text-align: right;\">\n",
       "      <th></th>\n",
       "      <th>country</th>\n",
       "      <th>gdp2018</th>\n",
       "      <th>gdp2019</th>\n",
       "      <th>gdp2020</th>\n",
       "      <th>gdp2021</th>\n",
       "    </tr>\n",
       "  </thead>\n",
       "  <tbody>\n",
       "    <tr>\n",
       "      <th>0</th>\n",
       "      <td>Argentina</td>\n",
       "      <td>23290.7</td>\n",
       "      <td>14407.4</td>\n",
       "      <td>20981.4</td>\n",
       "      <td>23856.7</td>\n",
       "    </tr>\n",
       "    <tr>\n",
       "      <th>1</th>\n",
       "      <td>Australia</td>\n",
       "      <td>52991.2</td>\n",
       "      <td>52732.2</td>\n",
       "      <td>55690.3</td>\n",
       "      <td>61974.8</td>\n",
       "    </tr>\n",
       "    <tr>\n",
       "      <th>2</th>\n",
       "      <td>China</td>\n",
       "      <td>15466.3</td>\n",
       "      <td>16624.5</td>\n",
       "      <td>17176.9</td>\n",
       "      <td>19429.1</td>\n",
       "    </tr>\n",
       "    <tr>\n",
       "      <th>3</th>\n",
       "      <td>Denmark</td>\n",
       "      <td>57479.4</td>\n",
       "      <td>59884.1</td>\n",
       "      <td>60846.8</td>\n",
       "      <td>64914.2</td>\n",
       "    </tr>\n",
       "    <tr>\n",
       "      <th>4</th>\n",
       "      <td>Ireland</td>\n",
       "      <td>84824.0</td>\n",
       "      <td>89846.7</td>\n",
       "      <td>94038.0</td>\n",
       "      <td>106879.2</td>\n",
       "    </tr>\n",
       "    <tr>\n",
       "      <th>5</th>\n",
       "      <td>Mexico</td>\n",
       "      <td>20561.2</td>\n",
       "      <td>20244.6</td>\n",
       "      <td>18465.6</td>\n",
       "      <td>19438.8</td>\n",
       "    </tr>\n",
       "    <tr>\n",
       "      <th>6</th>\n",
       "      <td>UK</td>\n",
       "      <td>47219.5</td>\n",
       "      <td>49317.7</td>\n",
       "      <td>45872.2</td>\n",
       "      <td>49814.9</td>\n",
       "    </tr>\n",
       "  </tbody>\n",
       "</table>\n",
       "</div>"
      ],
      "text/plain": [
       "     country  gdp2018  gdp2019  gdp2020   gdp2021\n",
       "0  Argentina  23290.7  14407.4  20981.4   23856.7\n",
       "1  Australia  52991.2  52732.2  55690.3   61974.8\n",
       "2      China  15466.3  16624.5  17176.9   19429.1\n",
       "3    Denmark  57479.4  59884.1  60846.8   64914.2\n",
       "4    Ireland  84824.0  89846.7  94038.0  106879.2\n",
       "5     Mexico  20561.2  20244.6  18465.6   19438.8\n",
       "6         UK  47219.5  49317.7  45872.2   49814.9"
      ]
     },
     "execution_count": 419,
     "metadata": {},
     "output_type": "execute_result"
    }
   ],
   "source": [
    "#Resetting the index\n",
    "gdp.reset_index(inplace = True, drop = True)\n",
    "gdp.iloc[0:7,:]"
   ]
  },
  {
   "cell_type": "code",
   "execution_count": 420,
   "metadata": {},
   "outputs": [
    {
     "name": "stdout",
     "output_type": "stream",
     "text": [
      "<class 'pandas.core.frame.DataFrame'>\n",
      "RangeIndex: 7 entries, 0 to 6\n",
      "Data columns (total 5 columns):\n",
      " #   Column   Non-Null Count  Dtype  \n",
      "---  ------   --------------  -----  \n",
      " 0   country  7 non-null      object \n",
      " 1   gdp2018  7 non-null      float64\n",
      " 2   gdp2019  7 non-null      float64\n",
      " 3   gdp2020  7 non-null      float64\n",
      " 4   gdp2021  7 non-null      float64\n",
      "dtypes: float64(4), object(1)\n",
      "memory usage: 408.0+ bytes\n"
     ]
    }
   ],
   "source": [
    "gdp.info()"
   ]
  },
  {
   "cell_type": "code",
   "execution_count": 421,
   "metadata": {},
   "outputs": [
    {
     "data": {
      "text/html": [
       "<div>\n",
       "<style scoped>\n",
       "    .dataframe tbody tr th:only-of-type {\n",
       "        vertical-align: middle;\n",
       "    }\n",
       "\n",
       "    .dataframe tbody tr th {\n",
       "        vertical-align: top;\n",
       "    }\n",
       "\n",
       "    .dataframe thead th {\n",
       "        text-align: right;\n",
       "    }\n",
       "</style>\n",
       "<table border=\"1\" class=\"dataframe\">\n",
       "  <thead>\n",
       "    <tr style=\"text-align: right;\">\n",
       "      <th></th>\n",
       "      <th></th>\n",
       "      <th>gdp</th>\n",
       "    </tr>\n",
       "    <tr>\n",
       "      <th>country</th>\n",
       "      <th>year</th>\n",
       "      <th></th>\n",
       "    </tr>\n",
       "  </thead>\n",
       "  <tbody>\n",
       "    <tr>\n",
       "      <th>Argentina</th>\n",
       "      <th>2018</th>\n",
       "      <td>23290.7</td>\n",
       "    </tr>\n",
       "    <tr>\n",
       "      <th>Australia</th>\n",
       "      <th>2018</th>\n",
       "      <td>52991.2</td>\n",
       "    </tr>\n",
       "    <tr>\n",
       "      <th>China</th>\n",
       "      <th>2018</th>\n",
       "      <td>15466.3</td>\n",
       "    </tr>\n",
       "    <tr>\n",
       "      <th>Denmark</th>\n",
       "      <th>2018</th>\n",
       "      <td>57479.4</td>\n",
       "    </tr>\n",
       "    <tr>\n",
       "      <th>Ireland</th>\n",
       "      <th>2018</th>\n",
       "      <td>84824.0</td>\n",
       "    </tr>\n",
       "    <tr>\n",
       "      <th>Mexico</th>\n",
       "      <th>2018</th>\n",
       "      <td>20561.2</td>\n",
       "    </tr>\n",
       "    <tr>\n",
       "      <th>UK</th>\n",
       "      <th>2018</th>\n",
       "      <td>47219.5</td>\n",
       "    </tr>\n",
       "  </tbody>\n",
       "</table>\n",
       "</div>"
      ],
      "text/plain": [
       "                    gdp\n",
       "country   year         \n",
       "Argentina 2018  23290.7\n",
       "Australia 2018  52991.2\n",
       "China     2018  15466.3\n",
       "Denmark   2018  57479.4\n",
       "Ireland   2018  84824.0\n",
       "Mexico    2018  20561.2\n",
       "UK        2018  47219.5"
      ]
     },
     "execution_count": 421,
     "metadata": {},
     "output_type": "execute_result"
    }
   ],
   "source": [
    "#Changing from wide to long\n",
    "gdp_long = pd.wide_to_long(gdp, stubnames='gdp', i='country', j='year')\n",
    "gdp_long.head(7)"
   ]
  },
  {
   "attachments": {},
   "cell_type": "markdown",
   "metadata": {},
   "source": [
    "*PLOTTING*"
   ]
  },
  {
   "cell_type": "code",
   "execution_count": 422,
   "metadata": {},
   "outputs": [
    {
     "data": {
      "text/html": [
       "<div>\n",
       "<style scoped>\n",
       "    .dataframe tbody tr th:only-of-type {\n",
       "        vertical-align: middle;\n",
       "    }\n",
       "\n",
       "    .dataframe tbody tr th {\n",
       "        vertical-align: top;\n",
       "    }\n",
       "\n",
       "    .dataframe thead th {\n",
       "        text-align: right;\n",
       "    }\n",
       "</style>\n",
       "<table border=\"1\" class=\"dataframe\">\n",
       "  <thead>\n",
       "    <tr style=\"text-align: right;\">\n",
       "      <th></th>\n",
       "      <th>country</th>\n",
       "      <th>year</th>\n",
       "      <th>gdp</th>\n",
       "    </tr>\n",
       "  </thead>\n",
       "  <tbody>\n",
       "    <tr>\n",
       "      <th>2</th>\n",
       "      <td>China</td>\n",
       "      <td>2018</td>\n",
       "      <td>15466.3</td>\n",
       "    </tr>\n",
       "    <tr>\n",
       "      <th>9</th>\n",
       "      <td>China</td>\n",
       "      <td>2019</td>\n",
       "      <td>16624.5</td>\n",
       "    </tr>\n",
       "    <tr>\n",
       "      <th>16</th>\n",
       "      <td>China</td>\n",
       "      <td>2020</td>\n",
       "      <td>17176.9</td>\n",
       "    </tr>\n",
       "    <tr>\n",
       "      <th>23</th>\n",
       "      <td>China</td>\n",
       "      <td>2021</td>\n",
       "      <td>19429.1</td>\n",
       "    </tr>\n",
       "  </tbody>\n",
       "</table>\n",
       "</div>"
      ],
      "text/plain": [
       "   country  year      gdp\n",
       "2    China  2018  15466.3\n",
       "9    China  2019  16624.5\n",
       "16   China  2020  17176.9\n",
       "23   China  2021  19429.1"
      ]
     },
     "execution_count": 422,
     "metadata": {},
     "output_type": "execute_result"
    }
   ],
   "source": [
    "gdp_long = gdp_long.reset_index()\n",
    "gdp_long.loc[gdp_long.country == 'China', :]"
   ]
  },
  {
   "cell_type": "code",
   "execution_count": 423,
   "metadata": {},
   "outputs": [
    {
     "data": {
      "image/png": "[encoded data removed]",
      "text/plain": [
       "<Figure size 640x480 with 1 Axes>"
      ]
     },
     "metadata": {},
     "output_type": "display_data"
    }
   ],
   "source": [
    "gdp_china = gdp_long.loc[gdp_long.country == 'China', :]\n",
    "gdp_china.plot(x='year', y='gdp', legend=False);\n",
    "plt.title(\"GDP pr. capita in China\")\n",
    "plt.show()"
   ]
  },
  {
   "cell_type": "code",
   "execution_count": null,
   "metadata": {},
   "outputs": [],
   "source": [
    "import "
   ]
  },
  {
   "attachments": {},
   "cell_type": "markdown",
   "metadata": {},
   "source": [
    "# Importing and cleaning the second dataset"
   ]
  },
  {
   "cell_type": "code",
   "execution_count": null,
   "metadata": {},
   "outputs": [],
   "source": [
    "# import data\n",
    "vac = pd.read_csv('vaccination1.csv') \n",
    "# inspect data\n",
    "print(vac) "
   ]
  },
  {
   "cell_type": "code",
   "execution_count": null,
   "metadata": {},
   "outputs": [],
   "source": [
    "# Dropping the unecessary colums\n",
    "drop_these = ['FREQUENCY', 'Flag Codes', 'INDICATOR', 'MEASURE']\n",
    "vac.drop(drop_these, axis=1, inplace=True)\n",
    "# Renaming columns\n",
    "vac.rename(columns = {'LOCATION':'country', 'TIME':'year', 'SUBJECT':'subject', 'Value':'cv_rate'}, inplace=True)\n",
    "vac.head()\n",
    "#Removing the subject DTP, as we are interested in the measles vaccination rates\n",
    "vac = vac[vac.country != 'DTP']"
   ]
  },
  {
   "cell_type": "code",
   "execution_count": null,
   "metadata": {},
   "outputs": [],
   "source": [
    "# Reshaping from long to wide\n",
    "vac = vac.pivot_table(index='country', columns='year', values='cv_rate').reset_index() \n",
    "vac.head()"
   ]
  },
  {
   "cell_type": "code",
   "execution_count": null,
   "metadata": {},
   "outputs": [],
   "source": [
    "# Removing variables where data is missing\n",
    "vac = vac.dropna()\n",
    "print(vac)"
   ]
  },
  {
   "cell_type": "code",
   "execution_count": null,
   "metadata": {},
   "outputs": [],
   "source": [
    "vac.info()\n",
    "\n",
    "#Changing the type for country to string\n",
    "vac.country = vac.country.astype('string')"
   ]
  },
  {
   "cell_type": "markdown",
   "metadata": {},
   "source": [
    "## Explore each data set"
   ]
  },
  {
   "cell_type": "markdown",
   "metadata": {},
   "source": [
    "In order to be able to **explore the raw data**, you may provide **static** and **interactive plots** to show important developments "
   ]
  },
  {
   "cell_type": "markdown",
   "metadata": {},
   "source": [
    "**Interactive plot** :"
   ]
  },
  {
   "cell_type": "code",
   "execution_count": null,
   "metadata": {},
   "outputs": [],
   "source": [
    "def plot_func():\n",
    "    # Function that operates on data set\n",
    "    pass\n",
    "\n",
    "widgets.interact(plot_func, \n",
    "    # Let the widget interact with data through plot_func()    \n",
    "); \n"
   ]
  },
  {
   "cell_type": "markdown",
   "metadata": {},
   "source": [
    "Explain what you see when moving elements of the interactive plot around. "
   ]
  },
  {
   "cell_type": "markdown",
   "metadata": {},
   "source": [
    "# Merge data sets"
   ]
  },
  {
   "cell_type": "markdown",
   "metadata": {},
   "source": [
    "Now you create combinations of your loaded data sets. Remember the illustration of a (inner) **merge**:"
   ]
  },
  {
   "cell_type": "code",
   "execution_count": null,
   "metadata": {},
   "outputs": [],
   "source": [
    "plt.figure(figsize=(15,7))\n",
    "v = venn2(subsets = (4, 4, 10), set_labels = ('Data X', 'Data Y'))\n",
    "v.get_label_by_id('100').set_text('dropped')\n",
    "v.get_label_by_id('010').set_text('dropped' )\n",
    "v.get_label_by_id('110').set_text('included')\n",
    "plt.show()"
   ]
  },
  {
   "cell_type": "markdown",
   "metadata": {},
   "source": [
    "Here we are dropping elements from both data set X and data set Y. A left join would keep all observations in data X intact and subset only from Y. \n",
    "\n",
    "Make sure that your resulting data sets have the correct number of rows and columns. That is, be clear about which observations are thrown away. \n",
    "\n",
    "**Note:** Don't make Venn diagrams in your own data project. It is just for exposition. "
   ]
  },
  {
   "cell_type": "markdown",
   "metadata": {},
   "source": [
    "# Analysis"
   ]
  },
  {
   "cell_type": "markdown",
   "metadata": {},
   "source": [
    "To get a quick overview of the data, we show some **summary statistics** on a meaningful aggregation. "
   ]
  },
  {
   "cell_type": "markdown",
   "metadata": {},
   "source": [
    "MAKE FURTHER ANALYSIS. EXPLAIN THE CODE BRIEFLY AND SUMMARIZE THE RESULTS."
   ]
  },
  {
   "cell_type": "markdown",
   "metadata": {},
   "source": [
    "# Conclusion"
   ]
  },
  {
   "cell_type": "markdown",
   "metadata": {},
   "source": [
    "ADD CONCISE CONLUSION."
   ]
  }
 ],
 "metadata": {
  "kernelspec": {
   "display_name": "base",
   "language": "python",
   "name": "python3"
  },
  "language_info": {
   "codemirror_mode": {
    "name": "ipython",
    "version": 3
   },
   "file_extension": ".py",
   "mimetype": "text/x-python",
   "name": "python",
   "nbconvert_exporter": "python",
   "pygments_lexer": "ipython3",
   "version": "3.9.13"
  },
  "toc-autonumbering": true,
  "vscode": {
   "interpreter": {
    "hash": "604903271ebee04a1d41a6e5cf13d16aa8edab4556eed9bb8d54d40193dfe553"
   }
  }
 },
 "nbformat": 4,
 "nbformat_minor": 4
}
