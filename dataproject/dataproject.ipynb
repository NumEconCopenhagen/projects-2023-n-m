{
 "cells": [
  {
   "attachments": {},
   "cell_type": "markdown",
   "metadata": {},
   "source": [
    "# Wages and divorce rates"
   ]
  },
  {
   "attachments": {},
   "cell_type": "markdown",
   "metadata": {},
   "source": [
    "In this project we seek to analyze Danish men and womens wages from 2013 to 2021 as well as the divorce rate in Denmark from 2011 to 2022. \n",
    "We use data from Danmarks Statistikbank. "
   ]
  },
  {
   "cell_type": "markdown",
   "metadata": {},
   "source": [
    "Imports and set magics:"
   ]
  },
  {
   "cell_type": "code",
   "execution_count": null,
   "metadata": {},
   "outputs": [],
   "source": [
    "import pandas as pd\n",
    "import numpy as np\n",
    "import matplotlib.pyplot as plt\n",
    "plt.rcParams.update({\"axes.grid\":True,\"grid.color\":\"black\",\"grid.alpha\":\"0.25\",\"grid.linestyle\":\"--\"})\n",
    "plt.rcParams.update({'font.size': 14})\n",
    "plt.style.use('seaborn-whitegrid')\n",
    "\n",
    "import ipywidgets as widgets\n",
    "import seaborn as sns\n",
    "\n",
    "# autoreload modules when code is run\n",
    "%load_ext autoreload\n",
    "%autoreload 2\n",
    "\n",
    "# user written modules\n",
    "import dataproject\n"
   ]
  },
  {
   "attachments": {},
   "cell_type": "markdown",
   "metadata": {},
   "source": [
    "# Read and clean data"
   ]
  },
  {
   "attachments": {},
   "cell_type": "markdown",
   "metadata": {},
   "source": [
    "We are importing the three datasets from excel. \n",
    "\n",
    "**Dataset for men's wages:**"
   ]
  },
  {
   "cell_type": "code",
   "execution_count": null,
   "metadata": {},
   "outputs": [],
   "source": [
    "#Importing data\n",
    "filename = 'wm.xlsx'\n",
    "pd.read_excel(filename).head(7)\n",
    "\n",
    "wm = pd.read_excel(filename, skiprows=2)\n"
   ]
  },
  {
   "cell_type": "code",
   "execution_count": null,
   "metadata": {},
   "outputs": [],
   "source": [
    "#Removing the first columns\n",
    "drop_these = ['Unnamed: ' + str(num) for num in range(5)]\n",
    "wm.drop(drop_these, axis=1, inplace=True)"
   ]
  },
  {
   "cell_type": "code",
   "execution_count": null,
   "metadata": {},
   "outputs": [],
   "source": [
    "wm.rename(columns = {'Unnamed: 5':'age_intervals'}, inplace=True)\n",
    "\n",
    "#Renaming the columns\n",
    "col_dict = {}\n",
    "for i in range(2013, 2021+1): \n",
    "    col_dict[str(i)] = f'wm{i}' \n",
    "col_dict\n",
    "wm.rename(columns = col_dict, inplace=True)\n",
    "\n",
    "wm"
   ]
  },
  {
   "cell_type": "code",
   "execution_count": null,
   "metadata": {},
   "outputs": [],
   "source": [
    "#Changing from wide to long\n",
    "wm_long = pd.wide_to_long(wm, stubnames='wm', i='age_intervals', j='year')\n",
    "wm_long.head(10)"
   ]
  },
  {
   "attachments": {},
   "cell_type": "markdown",
   "metadata": {},
   "source": [
    "# Importing and cleaning the second dataset"
   ]
  },
  {
   "cell_type": "code",
   "execution_count": null,
   "metadata": {},
   "outputs": [],
   "source": [
    "#import data\n",
    "filename = 'ww.xlsx'\n",
    "pd.read_excel(filename).head(7)\n",
    "\n",
    "ww = pd.read_excel(filename, skiprows=2)"
   ]
  },
  {
   "cell_type": "code",
   "execution_count": null,
   "metadata": {},
   "outputs": [],
   "source": [
    "#Removing the first columns\n",
    "drop_these = ['Unnamed: ' + str(num) for num in range(5)] \n",
    "ww.drop(drop_these, axis=1, inplace=True)\n",
    "print(drop_these)"
   ]
  },
  {
   "cell_type": "code",
   "execution_count": null,
   "metadata": {},
   "outputs": [],
   "source": [
    "ww.rename(columns = {'Unnamed: 5':'age_intervals'}, inplace=True)\n",
    "\n",
    "# Renaming the columns\n",
    "col_dict = {}\n",
    "for i in range(2013, 2021+1): \n",
    "    col_dict[str(i)] = f'ww{i}' \n",
    "col_dict\n",
    "ww.rename(columns = col_dict, inplace=True)\n"
   ]
  },
  {
   "cell_type": "code",
   "execution_count": null,
   "metadata": {},
   "outputs": [],
   "source": [
    "#Changing from wide to long\n",
    "ww_long = pd.wide_to_long(ww, stubnames='ww', i='age_intervals', j='year')\n",
    "ww_long.head(10)"
   ]
  },
  {
   "attachments": {},
   "cell_type": "markdown",
   "metadata": {},
   "source": [
    "**Data set for divorce rate**"
   ]
  },
  {
   "cell_type": "code",
   "execution_count": null,
   "metadata": {},
   "outputs": [],
   "source": [
    "#Importing data\n",
    "filename = 'div.xlsx'\n",
    "pd.read_excel(filename).head(7)\n",
    "\n",
    "div = pd.read_excel(filename, skiprows=2)\n",
    "\n",
    "div"
   ]
  },
  {
   "cell_type": "code",
   "execution_count": null,
   "metadata": {},
   "outputs": [],
   "source": [
    "div.rename(columns = {'Unnamed: 0':'div_rate'}, inplace=True)\n",
    "\n",
    "#Renaming the columns\n",
    "col_dict = {}\n",
    "for i in range(2011, 2022+1): \n",
    "    col_dict[str(i)] = f'div{i}' \n",
    "col_dict\n",
    "div.rename(columns = col_dict, inplace=True)"
   ]
  },
  {
   "cell_type": "code",
   "execution_count": null,
   "metadata": {},
   "outputs": [],
   "source": [
    "#Changing from wide to long\n",
    "div_long = pd.wide_to_long(div, stubnames='div', i='div_rate', j='year')\n",
    "div_long.head(10)"
   ]
  },
  {
   "cell_type": "markdown",
   "metadata": {},
   "source": [
    "## Explore each data set"
   ]
  },
  {
   "attachments": {},
   "cell_type": "markdown",
   "metadata": {},
   "source": [
    "In order to analyse our data sets further, we create interactive plots for men's and women's wages, respectively, from 2013-2021. It is possible to select different age intervals."
   ]
  },
  {
   "cell_type": "code",
   "execution_count": null,
   "metadata": {},
   "outputs": [],
   "source": [
    "#Resetting index\n",
    "wm_long = wm_long.reset_index()\n",
    "wm_long.loc[wm_long.age_intervals == 'Alder i alt', :]"
   ]
  },
  {
   "attachments": {},
   "cell_type": "markdown",
   "metadata": {},
   "source": [
    "**Interactive plot for men's wages**"
   ]
  },
  {
   "cell_type": "code",
   "execution_count": null,
   "metadata": {},
   "outputs": [],
   "source": [
    "# Defining a function to construct the interactive plot\n",
    "def plot_m(df, age_intervals): \n",
    "    I = df['age_intervals'] == age_intervals\n",
    "    ax=df.loc[I,:].plot(x='year', y='wm', style='-o', legend=False)\n",
    "    ax.xaxis.set_ticks(np.arange(2013, 2022, 1))\n",
    "    ax.set_ylabel('Wage in million DKK')\n",
    "    ax.set_title('Interactive plot for different age groups for men\\'s wage')"
   ]
  },
  {
   "cell_type": "code",
   "execution_count": null,
   "metadata": {},
   "outputs": [],
   "source": [
    "#Plotting men's wages\n",
    "widgets.interact(plot_m, \n",
    "    df = widgets.fixed(wm_long),\n",
    "    age_intervals = widgets.Dropdown(description='Age groups', \n",
    "                                    options=wm_long.age_intervals.unique(), \n",
    "                                    value='Alder i alt')\n",
    ");"
   ]
  },
  {
   "attachments": {},
   "cell_type": "markdown",
   "metadata": {},
   "source": [
    "From the interactive plot above it is seen that most age groups follow an almost linear increasing trend. However, the age group \"under 20 years\" stagnate from 2015 to 2016, and it is also quite flat for the age group \"60 or above\" in the same period. "
   ]
  },
  {
   "attachments": {},
   "cell_type": "markdown",
   "metadata": {},
   "source": [
    "**Interactive plot for women's wages**"
   ]
  },
  {
   "cell_type": "code",
   "execution_count": null,
   "metadata": {},
   "outputs": [],
   "source": [
    "#Resetting index\n",
    "ww_long = ww_long.reset_index()\n",
    "ww_long.loc[ww_long.age_intervals == 'Alder i alt', :]"
   ]
  },
  {
   "cell_type": "code",
   "execution_count": null,
   "metadata": {},
   "outputs": [],
   "source": [
    "#Defining a function to construct the interactive plot\n",
    "def plot_w(df, age_intervals): \n",
    "    I = df['age_intervals'] == age_intervals\n",
    "    ax=df.loc[I,:].plot(x='year', y='ww', style='-o', legend=False)\n",
    "    ax.xaxis.set_ticks(np.arange(2013, 2022, 1))\n",
    "    ax.set_ylabel('Wage in million DKK')\n",
    "    ax.set_title('Interactive plot for different age groups for women\\'s wage')"
   ]
  },
  {
   "cell_type": "code",
   "execution_count": null,
   "metadata": {},
   "outputs": [],
   "source": [
    "#Plotting women's wages\n",
    "widgets.interact(plot_w, \n",
    "    df = widgets.fixed(ww_long),\n",
    "    age_intervals = widgets.Dropdown(description='Age groups', \n",
    "                                    options=ww_long.age_intervals.unique(), \n",
    "                                    value='Alder i alt')\n",
    "); "
   ]
  },
  {
   "attachments": {},
   "cell_type": "markdown",
   "metadata": {},
   "source": [
    "It is seen from the figure above that the wage is increasing for all age groups. For the age group \"under 20 years\" there is a drop in the wages for women from 2015 to 2016."
   ]
  },
  {
   "cell_type": "markdown",
   "metadata": {},
   "source": [
    "# Merge data sets"
   ]
  },
  {
   "attachments": {},
   "cell_type": "markdown",
   "metadata": {},
   "source": [
    "Now we combine our loaded data sets, starting off with combining the two data sets for men's and women's wages."
   ]
  },
  {
   "cell_type": "code",
   "execution_count": null,
   "metadata": {},
   "outputs": [],
   "source": [
    "#Merging the two wage data sets\n",
    "mergedw = pd.merge(ww_long, wm_long, how='left', on=['year', 'age_intervals'])\n",
    "mergedw.head(10)"
   ]
  },
  {
   "cell_type": "code",
   "execution_count": null,
   "metadata": {},
   "outputs": [],
   "source": [
    "#Merging the dataset for men and women's wages and divorce rates\n",
    "mergeda = pd.merge(mergedw, div_long, how='left', on=['year'])\n",
    "mergeda.head(7)"
   ]
  },
  {
   "attachments": {},
   "cell_type": "markdown",
   "metadata": {},
   "source": [
    "We can see that the years 2011, 2012 and 2022 have been dropped from the merged data set, as wage information for those years was not included in our data set."
   ]
  },
  {
   "cell_type": "markdown",
   "metadata": {},
   "source": [
    "# Analysis"
   ]
  },
  {
   "attachments": {},
   "cell_type": "markdown",
   "metadata": {},
   "source": [
    "We create a summary table for men's and women's wage across several age intervals, in order to look at the mean, std, min, max and the three fractiles (25%, 50% and 75%)."
   ]
  },
  {
   "cell_type": "code",
   "execution_count": null,
   "metadata": {},
   "outputs": [],
   "source": [
    "#Creating table over summary statistics\n",
    "mergeda.groupby(['age_intervals'])['wm', 'ww'].describe().head(11)"
   ]
  },
  {
   "attachments": {},
   "cell_type": "markdown",
   "metadata": {},
   "source": [
    "The table presented reveals that, among men, the age group \"under 20 years\" has the lowest mean wage while the age group \"45-49 years\" has the highest. However, the maximum wage value for men is observed in the age group \"50-54 years\".\n",
    "\n",
    "On the other hand, women have the same highest and lowest mean wages in the aforementioned age groups, but the age group \"45-49 years\" exhibits the highest maximum wage value.\n",
    "\n",
    "Overall, men's mean wages exceed women's mean wages across all age groups except for individuals \"under 20 years\" old."
   ]
  },
  {
   "cell_type": "code",
   "execution_count": null,
   "metadata": {},
   "outputs": [],
   "source": [
    "#Creating a figure\n",
    "fig = plt.figure()\n",
    "ax = fig.add_subplot(1,1,1)\n",
    "\n",
    "#Grouping by years and choosing to look at the wages for men and women only\n",
    "mergeda.groupby('year')['wm', 'ww'].mean().plot(ax=ax,style='-o')\n",
    "\n",
    "#Adding labels and titles\n",
    "ax.xaxis.set_ticks(np.arange(2013, 2022, 1))\n",
    "ax.set_ylabel('Wage in mio. DKK')\n",
    "ax.set_title('Wage development for men and women');\n",
    "\n",
    "#Dublicating the figure to be able to make two y-axes\n",
    "ax2=ax.twinx()\n",
    "\n",
    "#Creating the plot\n",
    "ax2.plot(mergeda['year'], mergeda[\"div\"],color=\"brown\",marker=\"o\",label='Divorce Rate')\n",
    "ax2.set_ylabel(\"Divorce rate in %\")\n",
    "ax2.legend(loc='center left', bbox_to_anchor=(1.15, 0.63))\n",
    "ax.legend(loc='center left', bbox_to_anchor=(1.15, 0.75))\n"
   ]
  },
  {
   "cell_type": "markdown",
   "metadata": {},
   "source": [
    "# Conclusion"
   ]
  },
  {
   "attachments": {},
   "cell_type": "markdown",
   "metadata": {},
   "source": [
    "Our analysis shows that men in general have a higher wage than women in Denmark. However, there doesn't seem to be a correlation between the wages and the divorce rate. We observe that in 2019, the divorce rate declined significantly. This is most likely due to a change in the divorce rules that were implemented in April 2019."
   ]
  }
 ],
 "metadata": {
  "kernelspec": {
   "display_name": "base",
   "language": "python",
   "name": "python3"
  },
  "language_info": {
   "codemirror_mode": {
    "name": "ipython",
    "version": 3
   },
   "file_extension": ".py",
   "mimetype": "text/x-python",
   "name": "python",
   "nbconvert_exporter": "python",
   "pygments_lexer": "ipython3",
   "version": "3.9.13"
  },
  "toc-autonumbering": true,
  "vscode": {
   "interpreter": {
    "hash": "604903271ebee04a1d41a6e5cf13d16aa8edab4556eed9bb8d54d40193dfe553"
   }
  }
 },
 "nbformat": 4,
 "nbformat_minor": 4
}
